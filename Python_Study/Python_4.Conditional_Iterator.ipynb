{
 "cells": [
  {
   "cell_type": "raw",
   "metadata": {},
   "source": [
    "조건문과 반복문\n",
    "1) if\n",
    "2) for\n",
    "3) while"
   ]
  },
  {
   "cell_type": "code",
   "execution_count": 3,
   "metadata": {},
   "outputs": [],
   "source": [
    "def check_price(lunch_price):\n",
    "    \n",
    "    price_label = ''\n",
    "    \n",
    "    if lunch_price > 10000:\n",
    "        price_label = \"프리미엄 도시락\"\n",
    "    elif lunch_price < 3000:\n",
    "        price_label = \"저렴 도시락\"\n",
    "    else:\n",
    "        price_label = \"무난 도시락\"\n",
    "        \n",
    "    return price_label"
   ]
  },
  {
   "cell_type": "code",
   "execution_count": 7,
   "metadata": {},
   "outputs": [
    {
     "data": {
      "text/plain": [
       "'저렴 도시락'"
      ]
     },
     "execution_count": 7,
     "metadata": {},
     "output_type": "execute_result"
    }
   ],
   "source": [
    "check_price(1000)"
   ]
  },
  {
   "cell_type": "code",
   "execution_count": 8,
   "metadata": {},
   "outputs": [],
   "source": [
    "cage = ['Cat', 'Dog', 'Tiger']"
   ]
  },
  {
   "cell_type": "code",
   "execution_count": 9,
   "metadata": {},
   "outputs": [
    {
     "name": "stdout",
     "output_type": "stream",
     "text": [
      "고양이 있음\n"
     ]
    }
   ],
   "source": [
    "if 'Cat' in cage:\n",
    "    print(\"고양이 있음\")"
   ]
  },
  {
   "cell_type": "code",
   "execution_count": 10,
   "metadata": {},
   "outputs": [],
   "source": [
    "cage = {'Cat' : '야옹', 'Dog':'멍멍'}"
   ]
  },
  {
   "cell_type": "code",
   "execution_count": 11,
   "metadata": {},
   "outputs": [
    {
     "name": "stdout",
     "output_type": "stream",
     "text": [
      "강아지 있음\n"
     ]
    }
   ],
   "source": [
    "if 'Dog' in cage:\n",
    "    print(\"강아지 있음\")"
   ]
  },
  {
   "cell_type": "code",
   "execution_count": null,
   "metadata": {},
   "outputs": [],
   "source": [
    "0이 아닌 모든 수 or 비어있지 않은 모든 그룹형 변수 -> True\n",
    "0 or 비어있는 모든 그룹형 변수 -> False"
   ]
  },
  {
   "cell_type": "code",
   "execution_count": null,
   "metadata": {},
   "outputs": [],
   "source": [
    "for\n",
    "for something in 그룹형변수:\n",
    "    ~~~~ something ~~~"
   ]
  },
  {
   "cell_type": "code",
   "execution_count": 12,
   "metadata": {},
   "outputs": [],
   "source": [
    "nums = [1, 2, 3, 4, 5]"
   ]
  },
  {
   "cell_type": "code",
   "execution_count": 13,
   "metadata": {},
   "outputs": [
    {
     "name": "stdout",
     "output_type": "stream",
     "text": [
      "1\n",
      "2\n",
      "3\n",
      "4\n",
      "5\n"
     ]
    }
   ],
   "source": [
    "for number in nums:\n",
    "    print(number)"
   ]
  },
  {
   "cell_type": "code",
   "execution_count": 14,
   "metadata": {},
   "outputs": [],
   "source": [
    "cage = {'Cat' : '야옹', 'Dog':'멍멍', 'Tiger': '어흥'}"
   ]
  },
  {
   "cell_type": "code",
   "execution_count": 17,
   "metadata": {},
   "outputs": [
    {
     "name": "stdout",
     "output_type": "stream",
     "text": [
      "('Cat', '야옹')\n",
      "('Dog', '멍멍')\n",
      "('Tiger', '어흥')\n"
     ]
    }
   ],
   "source": [
    "for item in cage.items():\n",
    "    print(item)"
   ]
  },
  {
   "cell_type": "code",
   "execution_count": 20,
   "metadata": {},
   "outputs": [
    {
     "name": "stdout",
     "output_type": "stream",
     "text": [
      "123122141412341234\n",
      "21342342342314\n",
      "23423142134\n"
     ]
    }
   ],
   "source": [
    "# 숫자들의 리스트에서 1과 4가 연속으로 나오는 숫자 찾기\n",
    "\n",
    "list_of_nums = [123122141412341234,12312321321321,21342342342314,23423142134]\n",
    "for num in list_of_nums:\n",
    "    if '14' in str(num):\n",
    "        print(num)"
   ]
  },
  {
   "cell_type": "code",
   "execution_count": 22,
   "metadata": {},
   "outputs": [
    {
     "data": {
      "text/plain": [
       "range(0, 5)"
      ]
     },
     "execution_count": 22,
     "metadata": {},
     "output_type": "execute_result"
    }
   ],
   "source": [
    "range(5) #범위"
   ]
  },
  {
   "cell_type": "code",
   "execution_count": 23,
   "metadata": {},
   "outputs": [
    {
     "name": "stdout",
     "output_type": "stream",
     "text": [
      "0\n",
      "1\n",
      "2\n",
      "3\n",
      "4\n"
     ]
    }
   ],
   "source": [
    "for index in range(5):\n",
    "    print(index)"
   ]
  },
  {
   "cell_type": "code",
   "execution_count": 30,
   "metadata": {},
   "outputs": [
    {
     "ename": "SyntaxError",
     "evalue": "invalid syntax (<ipython-input-30-5a1367bad958>, line 1)",
     "output_type": "error",
     "traceback": [
      "\u001b[0;36m  File \u001b[0;32m\"<ipython-input-30-5a1367bad958>\"\u001b[0;36m, line \u001b[0;32m1\u001b[0m\n\u001b[0;31m    class = {'철수', '영희', '중화'}\u001b[0m\n\u001b[0m          ^\u001b[0m\n\u001b[0;31mSyntaxError\u001b[0m\u001b[0;31m:\u001b[0m invalid syntax\n"
     ]
    }
   ],
   "source": [
    "class = {'철수', '영희', '중화'}\n",
    "#에러가 나는 이유 예약어를 변수명으로 사용하려 했기 때문"
   ]
  },
  {
   "cell_type": "code",
   "execution_count": 33,
   "metadata": {},
   "outputs": [
    {
     "name": "stdout",
     "output_type": "stream",
     "text": [
      "이름 영희\n",
      "이름 철수\n",
      "이름 중화\n"
     ]
    }
   ],
   "source": [
    "class_1 = {'철수', '영희', '중화'}\n",
    "for stu in class_1:\n",
    "    print('이름 {}'.format(stu))"
   ]
  },
  {
   "cell_type": "code",
   "execution_count": 35,
   "metadata": {},
   "outputs": [
    {
     "name": "stdout",
     "output_type": "stream",
     "text": [
      "번호는 0번, 이름은 영희\n",
      "번호는 1번, 이름은 철수\n",
      "번호는 2번, 이름은 중화\n"
     ]
    }
   ],
   "source": [
    "# enumerate\n",
    "\n",
    "for index, student in enumerate(class_1):\n",
    "    print(\"번호는 {}번, 이름은 {}\".format(index, student))"
   ]
  },
  {
   "cell_type": "code",
   "execution_count": 36,
   "metadata": {},
   "outputs": [],
   "source": [
    "# for 활용\n",
    "empty_list = []\n",
    "\n",
    "for stu in class_1:\n",
    "    empty_list.append('김' + stu) #리스트에 item 추가"
   ]
  },
  {
   "cell_type": "code",
   "execution_count": 37,
   "metadata": {},
   "outputs": [
    {
     "data": {
      "text/plain": [
       "['김영희', '김철수', '김중화']"
      ]
     },
     "execution_count": 37,
     "metadata": {},
     "output_type": "execute_result"
    }
   ],
   "source": [
    "empty_list"
   ]
  },
  {
   "cell_type": "code",
   "execution_count": 40,
   "metadata": {},
   "outputs": [
    {
     "data": {
      "text/plain": [
       "['this',\n",
       " 'is',\n",
       " 'the',\n",
       " 'sample',\n",
       " 'sentence.',\n",
       " 'sentence',\n",
       " 'is',\n",
       " 'comprised',\n",
       " 'with',\n",
       " 'words.',\n",
       " 'word',\n",
       " 'is',\n",
       " 'a',\n",
       " 'group']"
      ]
     },
     "execution_count": 40,
     "metadata": {},
     "output_type": "execute_result"
    }
   ],
   "source": [
    "sentence = \"This is the sample sentence. Sentence is comprised with words. Word is a group\"\n",
    "words = sentence.lower().split(' ')\n",
    "words"
   ]
  },
  {
   "cell_type": "code",
   "execution_count": 41,
   "metadata": {},
   "outputs": [
    {
     "name": "stdout",
     "output_type": "stream",
     "text": [
      "{'this': 1, 'is': 3, 'the': 1, 'sample': 1, 'sentence.': 1, 'sentence': 1, 'comprised': 1, 'with': 1, 'words.': 1, 'word': 1, 'a': 1, 'group': 1}\n"
     ]
    }
   ],
   "source": [
    "bag_of_words = {}\n",
    "\n",
    "for word in words:\n",
    "    if word not in bag_of_words: # if a word is not in the list of dict keys\n",
    "        bag_of_words[word] = 1\n",
    "    else: # if that word is in the list of dict keys\n",
    "        bag_of_words[word] += 1 \n",
    "print(bag_of_words)"
   ]
  },
  {
   "cell_type": "code",
   "execution_count": 46,
   "metadata": {},
   "outputs": [
    {
     "name": "stdout",
     "output_type": "stream",
     "text": [
      "{'this': 1, 'is': 3, 'the': 1, 'sample': 1, 'sentence.': 1, 'sentence': 1, 'comprised': 1, 'with': 1, 'words.': 1, 'word': 1, 'a': 1, 'group': 1}\n"
     ]
    }
   ],
   "source": [
    "from collections import Counter\n",
    "\n",
    "Counter([1, 10, 10, 2, 3, 2, 10 ,1 ,2, 3, 10])\n",
    "\n",
    "bag_of_words = dict(Counter(words))\n",
    "print(bag_of_words)"
   ]
  }
 ],
 "metadata": {
  "kernelspec": {
   "display_name": "Python 3",
   "language": "python",
   "name": "python3"
  },
  "language_info": {
   "codemirror_mode": {
    "name": "ipython",
    "version": 3
   },
   "file_extension": ".py",
   "mimetype": "text/x-python",
   "name": "python",
   "nbconvert_exporter": "python",
   "pygments_lexer": "ipython3",
   "version": "3.7.4"
  }
 },
 "nbformat": 4,
 "nbformat_minor": 4
}
