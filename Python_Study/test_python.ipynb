{
 "cells": [
  {
   "cell_type": "code",
   "execution_count": null,
   "metadata": {},
   "outputs": [],
   "source": [
    "#셀\n",
    "a = 3\n",
    "print(a) #Shift + Enter\n",
    "\n",
    "#편집 모드 (edit mode) -> ESC -> 명령모드 (command mode) -> Enter -> 편집모드\n",
    "\n",
    "#단축키\n",
    "#복사 c\n",
    "#붙여넣기 v\n",
    "#잘라내기 x\n",
    "\n",
    "#위 셀 추가 a (above)\n",
    "#아래 셀 추가 b (below)\n",
    "#셀 삭제 dd (delete)\n",
    "#지운 셀 되돌리기 z -> ctrl-z\n",
    "\n"
   ]
  },
  {
   "cell_type": "markdown",
   "metadata": {},
   "source": [
    "마크다운이란? Markdown\n",
    "문서화를 도와주는 도구\n",
    "개발자들이 글 쓸때 활용하는 문접 체계\n",
    "코드로 인식 x\n",
    "\n",
    "m (markdown) 코드셀을 마크다운 셀로 변경\n",
    "y 코드셀로 변경\n",
    "# 가장 큰 제목\n",
    "## 두번째로 큰 제목\n",
    "###### 6개 까지 지원이 됩니다.\n",
    "\n",
    "**이것은 굵은 글씨**\n",
    "\n",
    "> 인용문으로 처리\n",
    "\n",
    "- 1번항목\n",
    "- 2번항목\n",
    "- 3번항목\n",
    "\n",
    "HTML가능\n",
    "\n",
    "<p style='color:red;'> 이것은 HTML P태그 입니다. </p>\n",
    "\n",
    "\n"
   ]
  },
  {
   "cell_type": "code",
   "execution_count": null,
   "metadata": {},
   "outputs": [],
   "source": []
  }
 ],
 "metadata": {
  "kernelspec": {
   "display_name": "Python 3",
   "language": "python",
   "name": "python3"
  },
  "language_info": {
   "codemirror_mode": {
    "name": "ipython",
    "version": 3
   },
   "file_extension": ".py",
   "mimetype": "text/x-python",
   "name": "python",
   "nbconvert_exporter": "python",
   "pygments_lexer": "ipython3",
   "version": "3.7.4"
  }
 },
 "nbformat": 4,
 "nbformat_minor": 4
}
