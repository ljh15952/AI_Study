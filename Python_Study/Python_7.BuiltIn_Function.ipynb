{
 "cells": [
  {
   "cell_type": "code",
   "execution_count": null,
   "metadata": {},
   "outputs": [],
   "source": [
    "Python 기본 내장함수와 외장함수"
   ]
  },
  {
   "cell_type": "code",
   "execution_count": 2,
   "metadata": {},
   "outputs": [
    {
     "data": {
      "text/plain": [
       "6"
      ]
     },
     "execution_count": 2,
     "metadata": {},
     "output_type": "execute_result"
    }
   ],
   "source": [
    "len('python')"
   ]
  },
  {
   "cell_type": "code",
   "execution_count": 3,
   "metadata": {},
   "outputs": [
    {
     "data": {
      "text/plain": [
       "['P', 'y', 't', 'h', 'o', 'n']"
      ]
     },
     "execution_count": 3,
     "metadata": {},
     "output_type": "execute_result"
    }
   ],
   "source": [
    "list('Python')"
   ]
  },
  {
   "cell_type": "code",
   "execution_count": 5,
   "metadata": {},
   "outputs": [],
   "source": [
    "from sklearn import linear_model"
   ]
  },
  {
   "cell_type": "code",
   "execution_count": 6,
   "metadata": {},
   "outputs": [
    {
     "data": {
      "text/plain": [
       "['ARDRegression',\n",
       " 'BayesianRidge',\n",
       " 'ElasticNet',\n",
       " 'ElasticNetCV',\n",
       " 'GammaRegressor',\n",
       " 'Hinge',\n",
       " 'Huber',\n",
       " 'HuberRegressor',\n",
       " 'Lars',\n",
       " 'LarsCV',\n",
       " 'Lasso',\n",
       " 'LassoCV',\n",
       " 'LassoLars',\n",
       " 'LassoLarsCV',\n",
       " 'LassoLarsIC',\n",
       " 'LinearRegression',\n",
       " 'Log',\n",
       " 'LogisticRegression',\n",
       " 'LogisticRegressionCV',\n",
       " 'ModifiedHuber',\n",
       " 'MultiTaskElasticNet',\n",
       " 'MultiTaskElasticNetCV',\n",
       " 'MultiTaskLasso',\n",
       " 'MultiTaskLassoCV',\n",
       " 'OrthogonalMatchingPursuit',\n",
       " 'OrthogonalMatchingPursuitCV',\n",
       " 'PassiveAggressiveClassifier',\n",
       " 'PassiveAggressiveRegressor',\n",
       " 'Perceptron',\n",
       " 'PoissonRegressor',\n",
       " 'RANSACRegressor',\n",
       " 'Ridge',\n",
       " 'RidgeCV',\n",
       " 'RidgeClassifier',\n",
       " 'RidgeClassifierCV',\n",
       " 'SGDClassifier',\n",
       " 'SGDRegressor',\n",
       " 'SquaredLoss',\n",
       " 'TheilSenRegressor',\n",
       " 'TweedieRegressor',\n",
       " '__all__',\n",
       " '__builtins__',\n",
       " '__cached__',\n",
       " '__doc__',\n",
       " '__file__',\n",
       " '__loader__',\n",
       " '__name__',\n",
       " '__package__',\n",
       " '__path__',\n",
       " '__spec__',\n",
       " '_base',\n",
       " '_bayes',\n",
       " '_cd_fast',\n",
       " '_coordinate_descent',\n",
       " '_glm',\n",
       " '_huber',\n",
       " '_least_angle',\n",
       " '_logistic',\n",
       " '_omp',\n",
       " '_passive_aggressive',\n",
       " '_perceptron',\n",
       " '_ransac',\n",
       " '_ridge',\n",
       " '_sag',\n",
       " '_sag_fast',\n",
       " '_sgd_fast',\n",
       " '_stochastic_gradient',\n",
       " '_theil_sen',\n",
       " 'enet_path',\n",
       " 'lars_path',\n",
       " 'lars_path_gram',\n",
       " 'lasso_path',\n",
       " 'orthogonal_mp',\n",
       " 'orthogonal_mp_gram',\n",
       " 'ridge_regression']"
      ]
     },
     "execution_count": 6,
     "metadata": {},
     "output_type": "execute_result"
    }
   ],
   "source": [
    "dir(linear_model)"
   ]
  },
  {
   "cell_type": "code",
   "execution_count": 7,
   "metadata": {},
   "outputs": [
    {
     "name": "stdout",
     "output_type": "stream",
     "text": [
      "ElasticNetCV\n",
      "LarsCV\n",
      "LassoCV\n",
      "LassoLarsCV\n",
      "LogisticRegressionCV\n",
      "MultiTaskElasticNetCV\n",
      "MultiTaskLassoCV\n",
      "OrthogonalMatchingPursuitCV\n",
      "RidgeCV\n",
      "RidgeClassifierCV\n"
     ]
    }
   ],
   "source": [
    "for name_space in dir(linear_model):\n",
    "    if 'CV' in name_space:\n",
    "        print(name_space) #CV가 포함된 함수명 보기"
   ]
  },
  {
   "cell_type": "code",
   "execution_count": 8,
   "metadata": {},
   "outputs": [
    {
     "data": {
      "text/plain": [
       "1.4"
      ]
     },
     "execution_count": 8,
     "metadata": {},
     "output_type": "execute_result"
    }
   ],
   "source": [
    "#절대값\n",
    "abs(-1.4)"
   ]
  },
  {
   "cell_type": "code",
   "execution_count": 9,
   "metadata": {},
   "outputs": [
    {
     "data": {
      "text/plain": [
       "2"
      ]
     },
     "execution_count": 9,
     "metadata": {},
     "output_type": "execute_result"
    }
   ],
   "source": [
    "#반올림\n",
    "round(1.7)"
   ]
  },
  {
   "cell_type": "code",
   "execution_count": 10,
   "metadata": {},
   "outputs": [
    {
     "data": {
      "text/plain": [
       "True"
      ]
     },
     "execution_count": 10,
     "metadata": {},
     "output_type": "execute_result"
    }
   ],
   "source": [
    "bool(1) #참/거짓 판별"
   ]
  },
  {
   "cell_type": "code",
   "execution_count": 11,
   "metadata": {},
   "outputs": [
    {
     "data": {
      "text/plain": [
       "6"
      ]
     },
     "execution_count": 11,
     "metadata": {},
     "output_type": "execute_result"
    }
   ],
   "source": [
    "sum([1,2,3]) # 합"
   ]
  },
  {
   "cell_type": "code",
   "execution_count": 12,
   "metadata": {},
   "outputs": [
    {
     "data": {
      "text/plain": [
       "3"
      ]
     },
     "execution_count": 12,
     "metadata": {},
     "output_type": "execute_result"
    }
   ],
   "source": [
    "max([1,2,3]) # 최대값"
   ]
  },
  {
   "cell_type": "code",
   "execution_count": 13,
   "metadata": {},
   "outputs": [
    {
     "data": {
      "text/plain": [
       "1"
      ]
     },
     "execution_count": 13,
     "metadata": {},
     "output_type": "execute_result"
    }
   ],
   "source": [
    "min([1,2,3]) #최소값"
   ]
  },
  {
   "cell_type": "code",
   "execution_count": 15,
   "metadata": {},
   "outputs": [
    {
     "data": {
      "text/plain": [
       "[0, 15, 30, 45, 60, 75, 90]"
      ]
     },
     "execution_count": 15,
     "metadata": {},
     "output_type": "execute_result"
    }
   ],
   "source": [
    "list(range(0,100,15))"
   ]
  },
  {
   "cell_type": "code",
   "execution_count": 16,
   "metadata": {},
   "outputs": [],
   "source": [
    "def func(x):\n",
    "    return x**2"
   ]
  },
  {
   "cell_type": "code",
   "execution_count": 18,
   "metadata": {},
   "outputs": [
    {
     "data": {
      "text/plain": [
       "25"
      ]
     },
     "execution_count": 18,
     "metadata": {},
     "output_type": "execute_result"
    }
   ],
   "source": [
    "func(5)"
   ]
  },
  {
   "cell_type": "code",
   "execution_count": 20,
   "metadata": {},
   "outputs": [],
   "source": [
    "# 람다 함수\n",
    "func_2 = lambda x : x ** 2"
   ]
  },
  {
   "cell_type": "code",
   "execution_count": 21,
   "metadata": {},
   "outputs": [
    {
     "data": {
      "text/plain": [
       "25"
      ]
     },
     "execution_count": 21,
     "metadata": {},
     "output_type": "execute_result"
    }
   ],
   "source": [
    "func_2(5)"
   ]
  }
 ],
 "metadata": {
  "kernelspec": {
   "display_name": "Python 3",
   "language": "python",
   "name": "python3"
  },
  "language_info": {
   "codemirror_mode": {
    "name": "ipython",
    "version": 3
   },
   "file_extension": ".py",
   "mimetype": "text/x-python",
   "name": "python",
   "nbconvert_exporter": "python",
   "pygments_lexer": "ipython3",
   "version": "3.7.4"
  }
 },
 "nbformat": 4,
 "nbformat_minor": 4
}
