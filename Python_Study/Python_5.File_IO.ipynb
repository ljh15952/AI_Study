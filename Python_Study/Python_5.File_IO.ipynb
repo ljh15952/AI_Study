{
 "cells": [
  {
   "cell_type": "code",
   "execution_count": null,
   "metadata": {},
   "outputs": [],
   "source": [
    "파일 읽고 쓰기\n",
    "'r' : 읽기모드\n",
    "'w' : 쓰기모드\n",
    "'a' : 추가모드\n",
    "한글이 깨질 경우 : encoding=\"utf-8\" / \"cp949\" / \"euc-kr\"\n",
    "텍스트 파일\n",
    "- .txt\n",
    "- .csv(comma-separated value)\n",
    "- .json / .xml / .yaml\n",
    "- .py / .java / .html / .css / .js\n",
    "등등.."
   ]
  },
  {
   "cell_type": "code",
   "execution_count": 2,
   "metadata": {},
   "outputs": [],
   "source": [
    "#파일 쓰기\n",
    "file = open('cage.txt', 'w', encoding='utf-8')"
   ]
  },
  {
   "cell_type": "code",
   "execution_count": 5,
   "metadata": {},
   "outputs": [],
   "source": [
    "cage = ['Cat', 'Dog', 'Tiger']"
   ]
  },
  {
   "cell_type": "code",
   "execution_count": 3,
   "metadata": {},
   "outputs": [
    {
     "ename": "NameError",
     "evalue": "name 'cage' is not defined",
     "output_type": "error",
     "traceback": [
      "\u001b[0;31m---------------------------------------------------------------------------\u001b[0m",
      "\u001b[0;31mNameError\u001b[0m                                 Traceback (most recent call last)",
      "\u001b[0;32m<ipython-input-3-819f0c58bf1a>\u001b[0m in \u001b[0;36m<module>\u001b[0;34m\u001b[0m\n\u001b[0;32m----> 1\u001b[0;31m \u001b[0mfile\u001b[0m\u001b[0;34m.\u001b[0m\u001b[0mwrite\u001b[0m\u001b[0;34m(\u001b[0m\u001b[0mcage\u001b[0m\u001b[0;34m)\u001b[0m\u001b[0;34m\u001b[0m\u001b[0;34m\u001b[0m\u001b[0m\n\u001b[0m",
      "\u001b[0;31mNameError\u001b[0m: name 'cage' is not defined"
     ]
    }
   ],
   "source": [
    "file.write(cage)\n",
    "#에러가 나는 이유\n",
    "# write에 넘기는 인자는 str이여야만 함 not list"
   ]
  },
  {
   "cell_type": "code",
   "execution_count": 6,
   "metadata": {},
   "outputs": [],
   "source": [
    "for animal in cage:\n",
    "    file.write(animal)"
   ]
  },
  {
   "cell_type": "code",
   "execution_count": 7,
   "metadata": {},
   "outputs": [],
   "source": [
    "file.close()"
   ]
  },
  {
   "cell_type": "code",
   "execution_count": 8,
   "metadata": {},
   "outputs": [],
   "source": [
    "# close를 안쓰려면?\n",
    "with open('cage_2.txt', 'w', encoding='utf-8') as file:\n",
    "    for animal in cage:\n",
    "        file.write(animal)\n",
    "\n",
    "# with 함수이름(~~~) as 결과물 alias : \n",
    "# 코드가 끝나는 순간 결과물 변수 자동으로 날라가기 때문에 close() 쓴것과 동일"
   ]
  },
  {
   "cell_type": "code",
   "execution_count": 10,
   "metadata": {},
   "outputs": [],
   "source": [
    "#파일 읽기\n",
    "file = open('cage.txt', 'r', encoding='utf-8')"
   ]
  },
  {
   "cell_type": "code",
   "execution_count": 11,
   "metadata": {},
   "outputs": [
    {
     "data": {
      "text/plain": [
       "['CatDogTiger']"
      ]
     },
     "execution_count": 11,
     "metadata": {},
     "output_type": "execute_result"
    }
   ],
   "source": [
    "cage = file.readlines() #여러줄 한번에 읽어서 리스트에 담는다.\n",
    "cage"
   ]
  }
 ],
 "metadata": {
  "kernelspec": {
   "display_name": "Python 3",
   "language": "python",
   "name": "python3"
  },
  "language_info": {
   "codemirror_mode": {
    "name": "ipython",
    "version": 3
   },
   "file_extension": ".py",
   "mimetype": "text/x-python",
   "name": "python",
   "nbconvert_exporter": "python",
   "pygments_lexer": "ipython3",
   "version": "3.7.4"
  }
 },
 "nbformat": 4,
 "nbformat_minor": 4
}
