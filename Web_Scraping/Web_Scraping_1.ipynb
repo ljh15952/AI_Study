{
 "cells": [
  {
   "cell_type": "code",
   "execution_count": null,
   "metadata": {},
   "outputs": [],
   "source": [
    "# Konlpy 설치? 또 실습 불가\n",
    "\n",
    "# 웹 크롤링?\n",
    "# Web crawling\n",
    "# Bot이 web을 link를 통해 돌아다니는 것\n",
    "# Web scraping <- 이게 맞음\n",
    "# Webpage에서 원하는 자료를 긇어오는 것"
   ]
  }
 ],
 "metadata": {
  "kernelspec": {
   "display_name": "Python 3",
   "language": "python",
   "name": "python3"
  },
  "language_info": {
   "codemirror_mode": {
    "name": "ipython",
    "version": 3
   },
   "file_extension": ".py",
   "mimetype": "text/x-python",
   "name": "python",
   "nbconvert_exporter": "python",
   "pygments_lexer": "ipython3",
   "version": "3.7.4"
  }
 },
 "nbformat": 4,
 "nbformat_minor": 4
}
