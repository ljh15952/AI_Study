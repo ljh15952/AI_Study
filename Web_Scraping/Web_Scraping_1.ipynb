{
 "cells": [
  {
   "cell_type": "code",
   "execution_count": 1,
   "metadata": {},
   "outputs": [],
   "source": [
    "# Konlpy 설치? 또 실습 불가\n",
    "\n",
    "# 웹 크롤링?\n",
    "# Web crawling\n",
    "# Bot이 web을 link를 통해 돌아다니는 것\n",
    "# Web scraping <- 이게 맞음\n",
    "# Webpage에서 원하는 자료를 긁어오는 것\n",
    "\n",
    "# ScrapeStorm이라는 프로그램을 통해 쉽게 웹 스크레핑을 할 수 있긴 함 <- 깊이 있게는 힘듬\n",
    "\n",
    "# 흐름\n",
    "# 1. Markup Language -> Web browser -> Webpage & Website\n",
    "# 2. Markup Language <- BeautifulSoup4 <- Webpage & Website"
   ]
  },
  {
   "cell_type": "code",
   "execution_count": null,
   "metadata": {},
   "outputs": [],
   "source": [
    "# HTML = 웹페이지의 뼈대\n",
    "# HTML Tag (여는 태그와 닫는 태그)\n",
    "# Tag의 종류 (div, h1, p, span, a, img,...)\n",
    "# Tag의 Class 와 ID\n",
    "\n",
    "# Front-end\n",
    "# HTML, CSS, Javascript\n",
    "# Back-end\n",
    "# 화면에 보여져야할 데이터들을 결정하고 수행하는"
   ]
  },
  {
   "cell_type": "code",
   "execution_count": null,
   "metadata": {},
   "outputs": [],
   "source": []
  }
 ],
 "metadata": {
  "kernelspec": {
   "display_name": "Python 3",
   "language": "python",
   "name": "python3"
  },
  "language_info": {
   "codemirror_mode": {
    "name": "ipython",
    "version": 3
   },
   "file_extension": ".py",
   "mimetype": "text/x-python",
   "name": "python",
   "nbconvert_exporter": "python",
   "pygments_lexer": "ipython3",
   "version": "3.7.4"
  }
 },
 "nbformat": 4,
 "nbformat_minor": 4
}
