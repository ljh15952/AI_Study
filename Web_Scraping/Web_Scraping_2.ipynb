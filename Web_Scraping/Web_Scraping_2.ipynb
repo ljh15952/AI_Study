{
 "cells": [
  {
   "cell_type": "code",
   "execution_count": null,
   "metadata": {},
   "outputs": [],
   "source": [
    "크롬 개발자 도구\n",
    "Elements 탭에서 코드 확인\n",
    "Inspector로 네모네모 확인 가능"
   ]
  },
  {
   "cell_type": "code",
   "execution_count": null,
   "metadata": {},
   "outputs": [],
   "source": [
    "웹 스크래핑의 흐름\n",
    "1. 웹 페이지의 전체 HTML 코드를 가져온다.\n",
    "2. 크롤링을 원하는 부분의 HTML 태그를 찾는다. (Class & ID)\n",
    "3. 해당 태그를 꺼낸 다음 태그를 제거하고 내부의 데이터만 뽑아낸다."
   ]
  },
  {
   "cell_type": "code",
   "execution_count": null,
   "metadata": {},
   "outputs": [],
   "source": [
    "디테일\n",
    "1. URL 분석(패턴 존재여부, query 종류 (?뒤 부분))\n",
    "2. URL 구성 (str, 추후 자동화 고려)\n",
    "3. HTTP Response 얻기 : urlopen(URL) or request.get(URL).content\n",
    "4. HTML source 얻기 : BeautifulSoup(HTTP Response, 'html.parser')\n",
    "5. HTML Tag 꺼내기 : .find('Tag이름',{'Attr이름':'Attr값'})\n",
    "    .find(~) : 1개의 Tag(조건이 동일한 Tag가 여러 개일 경우에는 첫번째 Tag)\n",
    "    .find_all(~) : 여러 개의 Tag를 찾은 다음 for문으로 Tag 단위로 꺼내어 활용\n",
    "6. Tag로 부터 텍스트 혹은 Attribute values 꺼내기 : Tag.get_text() or Tag.attrs"
   ]
  }
 ],
 "metadata": {
  "kernelspec": {
   "display_name": "Python 3",
   "language": "python",
   "name": "python3"
  },
  "language_info": {
   "codemirror_mode": {
    "name": "ipython",
    "version": 3
   },
   "file_extension": ".py",
   "mimetype": "text/x-python",
   "name": "python",
   "nbconvert_exporter": "python",
   "pygments_lexer": "ipython3",
   "version": "3.7.4"
  }
 },
 "nbformat": 4,
 "nbformat_minor": 4
}
