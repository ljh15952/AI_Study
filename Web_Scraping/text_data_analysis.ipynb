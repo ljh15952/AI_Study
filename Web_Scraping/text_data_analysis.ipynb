{
 "cells": [
  {
   "cell_type": "code",
   "execution_count": null,
   "metadata": {},
   "outputs": [],
   "source": [
    "# The process of data analysis for text data\n",
    "# 1. 텍스트 데이터를 str 자료형으로 준비\n",
    "# 2. Tokenize(형태소 분석)\n",
    "# 3. POS Tagging (part-of-speech, 품사 표시)\n",
    "# 4. Stopwords 제거(불용어 제거, 조사(을,를,이,가,나,너,당신))\n",
    "# 5. 단어 갯수 카운팅 & 단어 사전 생성"
   ]
  }
 ],
 "metadata": {
  "kernelspec": {
   "display_name": "Python 3",
   "language": "python",
   "name": "python3"
  },
  "language_info": {
   "codemirror_mode": {
    "name": "ipython",
    "version": 3
   },
   "file_extension": ".py",
   "mimetype": "text/x-python",
   "name": "python",
   "nbconvert_exporter": "python",
   "pygments_lexer": "ipython3",
   "version": "3.7.4"
  }
 },
 "nbformat": 4,
 "nbformat_minor": 4
}
