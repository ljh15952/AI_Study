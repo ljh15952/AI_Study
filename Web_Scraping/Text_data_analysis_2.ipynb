{
 "cells": [
  {
   "cell_type": "code",
   "execution_count": null,
   "metadata": {},
   "outputs": [],
   "source": [
    "# Text Similarity Analysis 텍스트 유사도\n",
    "# TF-IDF\n",
    "# Cosine simailarity\n",
    "# 영화 리뷰 간 유사도 계산"
   ]
  },
  {
   "cell_type": "code",
   "execution_count": null,
   "metadata": {},
   "outputs": [],
   "source": [
    "# TF_IDF (Term Frequency-Inverse Document Frequency)\n",
    "# 어떤 특정 단어(문장의 구성요소)가 문서나 말뭉치에서 어떤 중요도를 가지는지를 나타내는 지표\n",
    "# 단어를 갯수 그대로 카운트하지 않고, 많은 문서에 공통적으로 들어있는 단어의 경우\n",
    "# 문서 구별 능력이 떨어진다고 보아 가중치를 축소하는 방법\n",
    "\n",
    "# 출연횟수 기준으로 문장간의 유사도 분성\n",
    "\n",
    "# 단어 출연빈도 - 역 문서에서의 출현빈도\n",
    "# 문서 d와 던어 t에 대해\n",
    "# tf-idf(d) = tf(d,t) x idf(d,f)\n",
    "# tf(d,t) : 단어의 빈도수\n",
    "# idf(d,t) : inverse document frequency\n",
    "\n",
    "# idf(d,y) = log\n",
    "# nd : 전체 문서의 수\n",
    "# df(t) : 단어 t를 가진 문서의 수 "
   ]
  }
 ],
 "metadata": {
  "kernelspec": {
   "display_name": "Python 3",
   "language": "python",
   "name": "python3"
  },
  "language_info": {
   "codemirror_mode": {
    "name": "ipython",
    "version": 3
   },
   "file_extension": ".py",
   "mimetype": "text/x-python",
   "name": "python",
   "nbconvert_exporter": "python",
   "pygments_lexer": "ipython3",
   "version": "3.7.4"
  }
 },
 "nbformat": 4,
 "nbformat_minor": 4
}
