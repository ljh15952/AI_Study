{
 "cells": [
  {
   "cell_type": "code",
   "execution_count": null,
   "metadata": {},
   "outputs": [],
   "source": [
    "# Text Similarity Analysis 텍스트 유사도\n",
    "# TF-IDF\n",
    "# Cosine simailarity\n",
    "# 영화 리뷰 간 유사도 계산"
   ]
  },
  {
   "cell_type": "code",
   "execution_count": null,
   "metadata": {},
   "outputs": [],
   "source": [
    "# TF_IDF (Term Frequency-Inverse Document Frequency)\n",
    "# 어떤 특정 단어(문장의 구성요소)가 문서나 말뭉치에서 어떤 중요도를 가지는지를 나타내는 지표\n",
    "# 단어를 갯수 그대로 카운트하지 않고, 많은 문서에 공통적으로 들어있는 단어의 경우\n",
    "# 문서 구별 능력이 떨어진다고 보아 가중치를 축소하는 방법\n",
    "\n",
    "# 출연횟수 기준으로 문장간의 유사도 분성\n",
    "\n",
    "# 단어 출연빈도 - 역 문서에서의 출현빈도\n",
    "# 문서 d와 던어 t에 대해\n",
    "# tf-idf(d) = tf(d,t) x idf(d,f)\n",
    "# tf(d,t) : 단어의 빈도수\n",
    "# idf(d,t) : inverse document frequency\n",
    "\n",
    "# idf(d,y) = log nd / 1 + df(t)\n",
    "# nd : 전체 문서의 수\n",
    "# df(t) : 단어 t를 가진 문서의 수 "
   ]
  },
  {
   "cell_type": "code",
   "execution_count": null,
   "metadata": {},
   "outputs": [],
   "source": [
    "# Cosine similarity (코사인 유사도)\n",
    "# 두 벡터 사이 각도의 코사인 값을 이용하여 측정하는 값으로, 두 벡터의 유사한 정도를 의미\n",
    "# 계산도니 유사도는 -1에서 1까지의 값을 가지며,\n",
    "# -1은 서로 완전히 반대되는 경우, 0은 서로 독립적인 경우, 1은 서로 완전히 같은 같은 경우\n",
    "# 텍스트 매칭에 적용될 경우, A, B의 벡터로는 일반적으로 해당 문서에서의 단어 빈도가 사용된다.\n",
    "\n",
    "# Similar(비슷) Unrelated(독립) Opposite(정반대)"
   ]
  },
  {
   "cell_type": "code",
   "execution_count": null,
   "metadata": {},
   "outputs": [],
   "source": []
  },
  {
   "cell_type": "code",
   "execution_count": null,
   "metadata": {},
   "outputs": [],
   "source": [
    "# Text Analysis 실습\n",
    "# TF-IDF & Cosine similarity을 이용하여 텍스트 간 유사도 계산하기"
   ]
  },
  {
   "cell_type": "code",
   "execution_count": null,
   "metadata": {},
   "outputs": [],
   "source": []
  }
 ],
 "metadata": {
  "kernelspec": {
   "display_name": "Python 3",
   "language": "python",
   "name": "python3"
  },
  "language_info": {
   "codemirror_mode": {
    "name": "ipython",
    "version": 3
   },
   "file_extension": ".py",
   "mimetype": "text/x-python",
   "name": "python",
   "nbconvert_exporter": "python",
   "pygments_lexer": "ipython3",
   "version": "3.7.4"
  }
 },
 "nbformat": 4,
 "nbformat_minor": 4
}
