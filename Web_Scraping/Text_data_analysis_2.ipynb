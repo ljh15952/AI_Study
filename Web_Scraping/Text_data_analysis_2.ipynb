{
 "cells": [
  {
   "cell_type": "code",
   "execution_count": 9,
   "metadata": {},
   "outputs": [],
   "source": [
    "# Text Similarity Analysis 텍스트 유사도\n",
    "# TF-IDF\n",
    "# Cosine simailarity\n",
    "# 영화 리뷰 간 유사도 계산"
   ]
  },
  {
   "cell_type": "code",
   "execution_count": 10,
   "metadata": {},
   "outputs": [],
   "source": [
    "# TF_IDF (Term Frequency-Inverse Document Frequency)\n",
    "# 어떤 특정 단어(문장의 구성요소)가 문서나 말뭉치에서 어떤 중요도를 가지는지를 나타내는 지표\n",
    "# 단어를 갯수 그대로 카운트하지 않고, 많은 문서에 공통적으로 들어있는 단어의 경우\n",
    "# 문서 구별 능력이 떨어진다고 보아 가중치를 축소하는 방법\n",
    "\n",
    "# 출연횟수 기준으로 문장간의 유사도 분성\n",
    "\n",
    "# 단어 출연빈도 - 역 문서에서의 출현빈도\n",
    "# 문서 d와 던어 t에 대해\n",
    "# tf-idf(d) = tf(d,t) x idf(d,f)\n",
    "# tf(d,t) : 단어의 빈도수\n",
    "# idf(d,t) : inverse document frequency\n",
    "\n",
    "# idf(d,y) = log nd / 1 + df(t)\n",
    "# nd : 전체 문서의 수\n",
    "# df(t) : 단어 t를 가진 문서의 수 "
   ]
  },
  {
   "cell_type": "code",
   "execution_count": 11,
   "metadata": {},
   "outputs": [],
   "source": [
    "# Cosine similarity (코사인 유사도)\n",
    "# 두 벡터 사이 각도의 코사인 값을 이용하여 측정하는 값으로, 두 벡터의 유사한 정도를 의미\n",
    "# 계산도니 유사도는 -1에서 1까지의 값을 가지며,\n",
    "# -1은 서로 완전히 반대되는 경우, 0은 서로 독립적인 경우, 1은 서로 완전히 같은 같은 경우\n",
    "# 텍스트 매칭에 적용될 경우, A, B의 벡터로는 일반적으로 해당 문서에서의 단어 빈도가 사용된다.\n",
    "\n",
    "# Similar(비슷) Unrelated(독립) Opposite(정반대)"
   ]
  },
  {
   "cell_type": "code",
   "execution_count": null,
   "metadata": {},
   "outputs": [],
   "source": []
  },
  {
   "cell_type": "code",
   "execution_count": 12,
   "metadata": {},
   "outputs": [],
   "source": [
    "# Text Analysis 실습\n",
    "# TF-IDF & Cosine similarity을 이용하여 텍스트 간 유사도 계산하기"
   ]
  },
  {
   "cell_type": "code",
   "execution_count": 13,
   "metadata": {},
   "outputs": [],
   "source": [
    "# sciket-learn\n",
    "from sklearn import datasets, model_selection, linear_model, metrics"
   ]
  },
  {
   "cell_type": "code",
   "execution_count": 14,
   "metadata": {},
   "outputs": [
    {
     "data": {
      "text/plain": [
       "dict_keys(['data', 'target', 'feature_names', 'DESCR', 'filename'])"
      ]
     },
     "execution_count": 14,
     "metadata": {},
     "output_type": "execute_result"
    }
   ],
   "source": [
    "data = datasets.load_boston() # 보스톤 집값 데이터\n",
    "data.keys()"
   ]
  },
  {
   "cell_type": "code",
   "execution_count": 15,
   "metadata": {},
   "outputs": [
    {
     "data": {
      "text/html": [
       "<div>\n",
       "<style scoped>\n",
       "    .dataframe tbody tr th:only-of-type {\n",
       "        vertical-align: middle;\n",
       "    }\n",
       "\n",
       "    .dataframe tbody tr th {\n",
       "        vertical-align: top;\n",
       "    }\n",
       "\n",
       "    .dataframe thead th {\n",
       "        text-align: right;\n",
       "    }\n",
       "</style>\n",
       "<table border=\"1\" class=\"dataframe\">\n",
       "  <thead>\n",
       "    <tr style=\"text-align: right;\">\n",
       "      <th></th>\n",
       "      <th>0</th>\n",
       "      <th>1</th>\n",
       "      <th>2</th>\n",
       "      <th>3</th>\n",
       "      <th>4</th>\n",
       "      <th>5</th>\n",
       "      <th>6</th>\n",
       "      <th>7</th>\n",
       "      <th>8</th>\n",
       "      <th>9</th>\n",
       "      <th>10</th>\n",
       "      <th>11</th>\n",
       "      <th>12</th>\n",
       "    </tr>\n",
       "  </thead>\n",
       "  <tbody>\n",
       "    <tr>\n",
       "      <th>0</th>\n",
       "      <td>0.00632</td>\n",
       "      <td>18.0</td>\n",
       "      <td>2.31</td>\n",
       "      <td>0.0</td>\n",
       "      <td>0.538</td>\n",
       "      <td>6.575</td>\n",
       "      <td>65.2</td>\n",
       "      <td>4.0900</td>\n",
       "      <td>1.0</td>\n",
       "      <td>296.0</td>\n",
       "      <td>15.3</td>\n",
       "      <td>396.90</td>\n",
       "      <td>4.98</td>\n",
       "    </tr>\n",
       "    <tr>\n",
       "      <th>1</th>\n",
       "      <td>0.02731</td>\n",
       "      <td>0.0</td>\n",
       "      <td>7.07</td>\n",
       "      <td>0.0</td>\n",
       "      <td>0.469</td>\n",
       "      <td>6.421</td>\n",
       "      <td>78.9</td>\n",
       "      <td>4.9671</td>\n",
       "      <td>2.0</td>\n",
       "      <td>242.0</td>\n",
       "      <td>17.8</td>\n",
       "      <td>396.90</td>\n",
       "      <td>9.14</td>\n",
       "    </tr>\n",
       "    <tr>\n",
       "      <th>2</th>\n",
       "      <td>0.02729</td>\n",
       "      <td>0.0</td>\n",
       "      <td>7.07</td>\n",
       "      <td>0.0</td>\n",
       "      <td>0.469</td>\n",
       "      <td>7.185</td>\n",
       "      <td>61.1</td>\n",
       "      <td>4.9671</td>\n",
       "      <td>2.0</td>\n",
       "      <td>242.0</td>\n",
       "      <td>17.8</td>\n",
       "      <td>392.83</td>\n",
       "      <td>4.03</td>\n",
       "    </tr>\n",
       "    <tr>\n",
       "      <th>3</th>\n",
       "      <td>0.03237</td>\n",
       "      <td>0.0</td>\n",
       "      <td>2.18</td>\n",
       "      <td>0.0</td>\n",
       "      <td>0.458</td>\n",
       "      <td>6.998</td>\n",
       "      <td>45.8</td>\n",
       "      <td>6.0622</td>\n",
       "      <td>3.0</td>\n",
       "      <td>222.0</td>\n",
       "      <td>18.7</td>\n",
       "      <td>394.63</td>\n",
       "      <td>2.94</td>\n",
       "    </tr>\n",
       "    <tr>\n",
       "      <th>4</th>\n",
       "      <td>0.06905</td>\n",
       "      <td>0.0</td>\n",
       "      <td>2.18</td>\n",
       "      <td>0.0</td>\n",
       "      <td>0.458</td>\n",
       "      <td>7.147</td>\n",
       "      <td>54.2</td>\n",
       "      <td>6.0622</td>\n",
       "      <td>3.0</td>\n",
       "      <td>222.0</td>\n",
       "      <td>18.7</td>\n",
       "      <td>396.90</td>\n",
       "      <td>5.33</td>\n",
       "    </tr>\n",
       "  </tbody>\n",
       "</table>\n",
       "</div>"
      ],
      "text/plain": [
       "        0     1     2    3      4      5     6       7    8      9     10  \\\n",
       "0  0.00632  18.0  2.31  0.0  0.538  6.575  65.2  4.0900  1.0  296.0  15.3   \n",
       "1  0.02731   0.0  7.07  0.0  0.469  6.421  78.9  4.9671  2.0  242.0  17.8   \n",
       "2  0.02729   0.0  7.07  0.0  0.469  7.185  61.1  4.9671  2.0  242.0  17.8   \n",
       "3  0.03237   0.0  2.18  0.0  0.458  6.998  45.8  6.0622  3.0  222.0  18.7   \n",
       "4  0.06905   0.0  2.18  0.0  0.458  7.147  54.2  6.0622  3.0  222.0  18.7   \n",
       "\n",
       "       11    12  \n",
       "0  396.90  4.98  \n",
       "1  396.90  9.14  \n",
       "2  392.83  4.03  \n",
       "3  394.63  2.94  \n",
       "4  396.90  5.33  "
      ]
     },
     "execution_count": 15,
     "metadata": {},
     "output_type": "execute_result"
    }
   ],
   "source": [
    "import pandas as pd\n",
    "\n",
    "pd.DataFrame(data['data']).head()"
   ]
  },
  {
   "cell_type": "code",
   "execution_count": 16,
   "metadata": {},
   "outputs": [
    {
     "data": {
      "text/html": [
       "<div>\n",
       "<style scoped>\n",
       "    .dataframe tbody tr th:only-of-type {\n",
       "        vertical-align: middle;\n",
       "    }\n",
       "\n",
       "    .dataframe tbody tr th {\n",
       "        vertical-align: top;\n",
       "    }\n",
       "\n",
       "    .dataframe thead th {\n",
       "        text-align: right;\n",
       "    }\n",
       "</style>\n",
       "<table border=\"1\" class=\"dataframe\">\n",
       "  <thead>\n",
       "    <tr style=\"text-align: right;\">\n",
       "      <th></th>\n",
       "      <th>0</th>\n",
       "    </tr>\n",
       "  </thead>\n",
       "  <tbody>\n",
       "    <tr>\n",
       "      <th>0</th>\n",
       "      <td>24.0</td>\n",
       "    </tr>\n",
       "    <tr>\n",
       "      <th>1</th>\n",
       "      <td>21.6</td>\n",
       "    </tr>\n",
       "    <tr>\n",
       "      <th>2</th>\n",
       "      <td>34.7</td>\n",
       "    </tr>\n",
       "    <tr>\n",
       "      <th>3</th>\n",
       "      <td>33.4</td>\n",
       "    </tr>\n",
       "    <tr>\n",
       "      <th>4</th>\n",
       "      <td>36.2</td>\n",
       "    </tr>\n",
       "  </tbody>\n",
       "</table>\n",
       "</div>"
      ],
      "text/plain": [
       "      0\n",
       "0  24.0\n",
       "1  21.6\n",
       "2  34.7\n",
       "3  33.4\n",
       "4  36.2"
      ]
     },
     "execution_count": 16,
     "metadata": {},
     "output_type": "execute_result"
    }
   ],
   "source": [
    "pd.DataFrame(data['target']).head()\n",
    "\n",
    "# Column == Attribute == Dimension == Featuer"
   ]
  },
  {
   "cell_type": "code",
   "execution_count": 17,
   "metadata": {},
   "outputs": [],
   "source": [
    "x_data = data['data']\n",
    "y_data = data['target']"
   ]
  },
  {
   "cell_type": "code",
   "execution_count": 24,
   "metadata": {},
   "outputs": [],
   "source": [
    "x_train, x_test, y_train, y_test = model_selection.train_test_split(x_data,y_data,test_size=0.3)"
   ]
  },
  {
   "cell_type": "code",
   "execution_count": 20,
   "metadata": {},
   "outputs": [],
   "source": [
    "model = linear_model.LinearRegression()"
   ]
  },
  {
   "cell_type": "code",
   "execution_count": 21,
   "metadata": {},
   "outputs": [
    {
     "data": {
      "text/plain": [
       "LinearRegression()"
      ]
     },
     "execution_count": 21,
     "metadata": {},
     "output_type": "execute_result"
    }
   ],
   "source": [
    "model.fit(x_train,y_train) # 모델을 학습시키겠다."
   ]
  },
  {
   "cell_type": "code",
   "execution_count": 22,
   "metadata": {},
   "outputs": [
    {
     "data": {
      "text/plain": [
       "array([26.1281527 , 22.94031681, 28.51982158, 20.61936677, 16.71756178,\n",
       "       23.01993099, 30.4284363 , 30.10304647, 33.28604462, 22.02571441])"
      ]
     },
     "execution_count": 22,
     "metadata": {},
     "output_type": "execute_result"
    }
   ],
   "source": [
    "model.predict(x_text)[:10] # 예측된 집의 가격들"
   ]
  },
  {
   "cell_type": "code",
   "execution_count": 25,
   "metadata": {},
   "outputs": [
    {
     "data": {
      "text/plain": [
       "21.62978309962348"
      ]
     },
     "execution_count": 25,
     "metadata": {},
     "output_type": "execute_result"
    }
   ],
   "source": [
    "metrics.mean_squared_error(model.predict(x_test),y_test)"
   ]
  },
  {
   "cell_type": "code",
   "execution_count": 39,
   "metadata": {},
   "outputs": [],
   "source": [
    "# 유사도 분석에 필요한 패키지 불러오기\n",
    "from sklearn.feature_extraction.text import TfidfVectorizer, CountVectorizer\n",
    "from sklearn.metrics.pairwise import cosine_similarity"
   ]
  },
  {
   "cell_type": "code",
   "execution_count": 29,
   "metadata": {},
   "outputs": [],
   "source": [
    "# 컴퓨터와 노트북의 유사도 분석\n",
    "file = open('computer.txt','r',encoding='utf-8')\n",
    "lines = file.readlines()\n",
    "doc1 = ' '.join(lines)\n",
    "# doc1 = '' 데이터를 담기위한 String 변수 생성\n",
    "\n",
    "file = open('laptop.txt','r',encoding='utf-8')\n",
    "lines = file.readlines()\n",
    "doc2 = ' '.join(lines)"
   ]
  },
  {
   "cell_type": "code",
   "execution_count": 31,
   "metadata": {},
   "outputs": [
    {
     "data": {
      "text/plain": [
       "'A computer is a digital electronic machine that can be programmed to carry out sequences of arithmetic or logical operations (computation) automatically. Modern computers can perform generic sets of operations known as programs. These programs enable computers to perform a wide range of tasks. A computer system is a \"complete\" computer that includes the hardware, operating system (main software), and peripheral equipment needed and used for \"full\" operation. This term may also refer to a group of computers that are linked and function together, such as a computer network or computer cluster.\\n A broad range of industrial and consumer products use computers as control systems. Simple special-purpose devices like microwave ovens and remote controls are included, as are factory devices like industrial robots and computer-aided design, as well as general-purpose devices like personal computers and mobile devices like smartphones. Computers power the Internet, which links billions of other computers and users.\\n Early computers were meant to be used only for calculations. Simple manual instruments like the abacus have aided people in doing calculations since ancient times. Early in the Industrial Revolution, some mechanical devices were built to automate long tedious tasks, such as guiding patterns for looms. More sophisticated electrical machines did specialized analog calculations in the early 20th century. The first digital electronic calculating machines were developed during World War II. The first semiconductor transistors in the late 1940s were followed by the silicon-based MOSFET (MOS transistor) and monolithic integrated circuit (IC) chip technologies in the late 1950s, leading to the microprocessor and the microcomputer revolution in the 1970s. The speed, power and versatility of computers have been increasing dramatically ever since then, with transistor counts increasing at a rapid pace (as predicted by Moore\\'s law), leading to the Digital Revolution during the late 20th to early 21st centuries.\\n Conventionally, a modern computer consists of at least one processing element, typically a central processing unit (CPU) in the form of a microprocessor, along with some type of computer memory, typically semiconductor memory chips. The processing element carries out arithmetic and logical operations, and a sequencing and control unit can change the order of operations in response to stored information. Peripheral devices include input devices (keyboards, mice, joystick, etc.), output devices (monitor screens, printers, etc.), and input/output devices that perform both functions (e.g., the 2000s-era touchscreen). Peripheral devices allow information to be retrieved from an external source and they enable the result of operations to be saved and retrieved.'"
      ]
     },
     "execution_count": 31,
     "metadata": {},
     "output_type": "execute_result"
    }
   ],
   "source": [
    "doc1 # Computer.txt"
   ]
  },
  {
   "cell_type": "code",
   "execution_count": 32,
   "metadata": {},
   "outputs": [
    {
     "data": {
      "text/plain": [
       "\"alphanumeric keyboard. Laptops typically have a clam shell form factor with the screen mounted on the inside of the upper lid and the keyboard on the inside of the lower lid, although 2-in-1 PCs with a detachable keyboard are often marketed as laptops or as having a laptop mode. Laptops are folded shut for transportation, and thus are suitable for mobile use.[1] They are so named because they can be practically placed on a person's lap when being used. Today, laptops are used in a variety of settings, such as at work, in education, for playing games, web browsing, for personal multimedia, and for general home computer use.\\n As of 2021, in American English, the terms laptop computer and notebook computer are used interchangeably;[2] in other dialects of English, one or the other may be preferred. Although the terms notebook computers or notebooks originally referred to a specific size of laptop (originally smaller and lighter than mainstream laptops of the time),[3] the terms have come to mean the same thing and notebook no longer refers to any specific size.\\n Laptops combine all the input/output components and capabilities of a desktop computer, including the display screen, small speakers, a keyboard, data storage device, sometimes an optical disc drive, pointing devices (such as a touch pad or pointing stick), with an operating system, a processor and memory into a single unit. Most modern laptops feature integrated webcams and built-in microphones, while many also have touchscreens. Laptops can be powered either from an internal battery or by an external power supply from an AC adapter. Hardware specifications, such as the processor speed and memory capacity, significantly vary between different types, models and price points.\\n Design elements, form factor and construction can also vary significantly between models depending on the intended use. Examples of specialized models of laptops include rugged notebooks for use in construction or military applications, as well as low production cost laptops such as those from the One Laptop per Child (OLPC) organization, which incorporate features like solar charging and semi-flexible components not found on most laptop computers. Portable computers, which later developed into modern laptops, were originally considered to be a small niche market, mostly for specialized field applications, such as in the military, for accountants, or traveling sales representatives. As portable computers evolved into modern laptops, they became widely used for a variety of purposes.\""
      ]
     },
     "execution_count": 32,
     "metadata": {},
     "output_type": "execute_result"
    }
   ],
   "source": [
    "doc2 # laptop.txt"
   ]
  },
  {
   "cell_type": "code",
   "execution_count": 34,
   "metadata": {},
   "outputs": [],
   "source": [
    "corpus = [doc1,doc2] #doc1, doc2를 합쳐 corpus list를 생성\n",
    "#corpus[0]"
   ]
  },
  {
   "cell_type": "code",
   "execution_count": 47,
   "metadata": {},
   "outputs": [],
   "source": [
    "vectorizer = TfidfVectorizer() # TFidfVectorizer 객체 생성"
   ]
  },
  {
   "cell_type": "code",
   "execution_count": 48,
   "metadata": {},
   "outputs": [
    {
     "data": {
      "text/plain": [
       "TfidfVectorizer()"
      ]
     },
     "execution_count": 48,
     "metadata": {},
     "output_type": "execute_result"
    }
   ],
   "source": [
    "vectorizer.fit(corpus)"
   ]
  },
  {
   "cell_type": "code",
   "execution_count": 49,
   "metadata": {},
   "outputs": [],
   "source": [
    "result = vectorizer.transform(corpus).todense()"
   ]
  },
  {
   "cell_type": "code",
   "execution_count": 50,
   "metadata": {},
   "outputs": [
    {
     "data": {
      "text/html": [
       "<div>\n",
       "<style scoped>\n",
       "    .dataframe tbody tr th:only-of-type {\n",
       "        vertical-align: middle;\n",
       "    }\n",
       "\n",
       "    .dataframe tbody tr th {\n",
       "        vertical-align: top;\n",
       "    }\n",
       "\n",
       "    .dataframe thead th {\n",
       "        text-align: right;\n",
       "    }\n",
       "</style>\n",
       "<table border=\"1\" class=\"dataframe\">\n",
       "  <thead>\n",
       "    <tr style=\"text-align: right;\">\n",
       "      <th></th>\n",
       "      <th>0</th>\n",
       "      <th>1</th>\n",
       "      <th>2</th>\n",
       "      <th>3</th>\n",
       "      <th>4</th>\n",
       "      <th>5</th>\n",
       "      <th>6</th>\n",
       "      <th>7</th>\n",
       "      <th>8</th>\n",
       "      <th>9</th>\n",
       "      <th>...</th>\n",
       "      <th>369</th>\n",
       "      <th>370</th>\n",
       "      <th>371</th>\n",
       "      <th>372</th>\n",
       "      <th>373</th>\n",
       "      <th>374</th>\n",
       "      <th>375</th>\n",
       "      <th>376</th>\n",
       "      <th>377</th>\n",
       "      <th>378</th>\n",
       "    </tr>\n",
       "  </thead>\n",
       "  <tbody>\n",
       "    <tr>\n",
       "      <th>0</th>\n",
       "      <td>0.029532</td>\n",
       "      <td>0.029532</td>\n",
       "      <td>0.029532</td>\n",
       "      <td>0.029532</td>\n",
       "      <td>0.000000</td>\n",
       "      <td>0.059064</td>\n",
       "      <td>0.029532</td>\n",
       "      <td>0.029532</td>\n",
       "      <td>0.000000</td>\n",
       "      <td>0.000000</td>\n",
       "      <td>...</td>\n",
       "      <td>0.021012</td>\n",
       "      <td>0.084050</td>\n",
       "      <td>0.000000</td>\n",
       "      <td>0.021012</td>\n",
       "      <td>0.000000</td>\n",
       "      <td>0.029532</td>\n",
       "      <td>0.000000</td>\n",
       "      <td>0.042025</td>\n",
       "      <td>0.000000</td>\n",
       "      <td>0.029532</td>\n",
       "    </tr>\n",
       "    <tr>\n",
       "      <th>1</th>\n",
       "      <td>0.000000</td>\n",
       "      <td>0.000000</td>\n",
       "      <td>0.000000</td>\n",
       "      <td>0.000000</td>\n",
       "      <td>0.030336</td>\n",
       "      <td>0.000000</td>\n",
       "      <td>0.000000</td>\n",
       "      <td>0.000000</td>\n",
       "      <td>0.030336</td>\n",
       "      <td>0.030336</td>\n",
       "      <td>...</td>\n",
       "      <td>0.021585</td>\n",
       "      <td>0.021585</td>\n",
       "      <td>0.030336</td>\n",
       "      <td>0.043169</td>\n",
       "      <td>0.030336</td>\n",
       "      <td>0.000000</td>\n",
       "      <td>0.030336</td>\n",
       "      <td>0.064754</td>\n",
       "      <td>0.030336</td>\n",
       "      <td>0.000000</td>\n",
       "    </tr>\n",
       "  </tbody>\n",
       "</table>\n",
       "<p>2 rows × 379 columns</p>\n",
       "</div>"
      ],
      "text/plain": [
       "        0         1         2         3         4         5         6    \\\n",
       "0  0.029532  0.029532  0.029532  0.029532  0.000000  0.059064  0.029532   \n",
       "1  0.000000  0.000000  0.000000  0.000000  0.030336  0.000000  0.000000   \n",
       "\n",
       "        7         8         9    ...       369       370       371       372  \\\n",
       "0  0.029532  0.000000  0.000000  ...  0.021012  0.084050  0.000000  0.021012   \n",
       "1  0.000000  0.030336  0.030336  ...  0.021585  0.021585  0.030336  0.043169   \n",
       "\n",
       "        373       374       375       376       377       378  \n",
       "0  0.000000  0.029532  0.000000  0.042025  0.000000  0.029532  \n",
       "1  0.030336  0.000000  0.030336  0.064754  0.030336  0.000000  \n",
       "\n",
       "[2 rows x 379 columns]"
      ]
     },
     "execution_count": 50,
     "metadata": {},
     "output_type": "execute_result"
    }
   ],
   "source": [
    "pd.DataFrame(result)"
   ]
  },
  {
   "cell_type": "code",
   "execution_count": 53,
   "metadata": {},
   "outputs": [
    {
     "data": {
      "text/plain": [
       "['1940s',\n",
       " '1950s',\n",
       " '1970s',\n",
       " '2000s',\n",
       " '2021',\n",
       " '20th',\n",
       " '21st',\n",
       " 'abacus',\n",
       " 'ac',\n",
       " 'accountants',\n",
       " 'adapter',\n",
       " 'aided',\n",
       " 'all',\n",
       " 'allow',\n",
       " 'along',\n",
       " 'alphanumeric',\n",
       " 'also',\n",
       " 'although',\n",
       " 'american',\n",
       " 'an',\n",
       " 'analog',\n",
       " 'ancient',\n",
       " 'and',\n",
       " 'any',\n",
       " 'applications',\n",
       " 'are',\n",
       " 'arithmetic',\n",
       " 'as',\n",
       " 'at',\n",
       " 'automate',\n",
       " 'automatically',\n",
       " 'based',\n",
       " 'battery',\n",
       " 'be',\n",
       " 'became',\n",
       " 'because',\n",
       " 'been',\n",
       " 'being',\n",
       " 'between',\n",
       " 'billions',\n",
       " 'both',\n",
       " 'broad',\n",
       " 'browsing',\n",
       " 'built',\n",
       " 'by',\n",
       " 'calculating',\n",
       " 'calculations',\n",
       " 'can',\n",
       " 'capabilities',\n",
       " 'capacity',\n",
       " 'carries',\n",
       " 'carry',\n",
       " 'central',\n",
       " 'centuries',\n",
       " 'century',\n",
       " 'change',\n",
       " 'charging',\n",
       " 'child',\n",
       " 'chip',\n",
       " 'chips',\n",
       " 'circuit',\n",
       " 'clam',\n",
       " 'cluster',\n",
       " 'combine',\n",
       " 'come',\n",
       " 'complete',\n",
       " 'components',\n",
       " 'computation',\n",
       " 'computer',\n",
       " 'computers',\n",
       " 'considered',\n",
       " 'consists',\n",
       " 'construction',\n",
       " 'consumer',\n",
       " 'control',\n",
       " 'controls',\n",
       " 'conventionally',\n",
       " 'cost',\n",
       " 'counts',\n",
       " 'cpu',\n",
       " 'data',\n",
       " 'depending',\n",
       " 'design',\n",
       " 'desktop',\n",
       " 'detachable',\n",
       " 'developed',\n",
       " 'device',\n",
       " 'devices',\n",
       " 'dialects',\n",
       " 'did',\n",
       " 'different',\n",
       " 'digital',\n",
       " 'disc',\n",
       " 'display',\n",
       " 'doing',\n",
       " 'dramatically',\n",
       " 'drive',\n",
       " 'during',\n",
       " 'early',\n",
       " 'education',\n",
       " 'either',\n",
       " 'electrical',\n",
       " 'electronic',\n",
       " 'element',\n",
       " 'elements',\n",
       " 'enable',\n",
       " 'english',\n",
       " 'equipment',\n",
       " 'era',\n",
       " 'etc',\n",
       " 'ever',\n",
       " 'evolved',\n",
       " 'examples',\n",
       " 'external',\n",
       " 'factor',\n",
       " 'factory',\n",
       " 'feature',\n",
       " 'features',\n",
       " 'field',\n",
       " 'first',\n",
       " 'flexible',\n",
       " 'folded',\n",
       " 'followed',\n",
       " 'for',\n",
       " 'form',\n",
       " 'found',\n",
       " 'from',\n",
       " 'full',\n",
       " 'function',\n",
       " 'functions',\n",
       " 'games',\n",
       " 'general',\n",
       " 'generic',\n",
       " 'group',\n",
       " 'guiding',\n",
       " 'hardware',\n",
       " 'have',\n",
       " 'having',\n",
       " 'home',\n",
       " 'ic',\n",
       " 'ii',\n",
       " 'in',\n",
       " 'include',\n",
       " 'included',\n",
       " 'includes',\n",
       " 'including',\n",
       " 'incorporate',\n",
       " 'increasing',\n",
       " 'industrial',\n",
       " 'information',\n",
       " 'input',\n",
       " 'inside',\n",
       " 'instruments',\n",
       " 'integrated',\n",
       " 'intended',\n",
       " 'interchangeably',\n",
       " 'internal',\n",
       " 'internet',\n",
       " 'into',\n",
       " 'is',\n",
       " 'joystick',\n",
       " 'keyboard',\n",
       " 'keyboards',\n",
       " 'known',\n",
       " 'lap',\n",
       " 'laptop',\n",
       " 'laptops',\n",
       " 'late',\n",
       " 'later',\n",
       " 'law',\n",
       " 'leading',\n",
       " 'least',\n",
       " 'lid',\n",
       " 'lighter',\n",
       " 'like',\n",
       " 'linked',\n",
       " 'links',\n",
       " 'logical',\n",
       " 'long',\n",
       " 'longer',\n",
       " 'looms',\n",
       " 'low',\n",
       " 'lower',\n",
       " 'machine',\n",
       " 'machines',\n",
       " 'main',\n",
       " 'mainstream',\n",
       " 'manual',\n",
       " 'many',\n",
       " 'market',\n",
       " 'marketed',\n",
       " 'may',\n",
       " 'mean',\n",
       " 'meant',\n",
       " 'mechanical',\n",
       " 'memory',\n",
       " 'mice',\n",
       " 'microcomputer',\n",
       " 'microphones',\n",
       " 'microprocessor',\n",
       " 'microwave',\n",
       " 'military',\n",
       " 'mobile',\n",
       " 'mode',\n",
       " 'models',\n",
       " 'modern',\n",
       " 'monitor',\n",
       " 'monolithic',\n",
       " 'moore',\n",
       " 'more',\n",
       " 'mos',\n",
       " 'mosfet',\n",
       " 'most',\n",
       " 'mostly',\n",
       " 'mounted',\n",
       " 'multimedia',\n",
       " 'named',\n",
       " 'needed',\n",
       " 'network',\n",
       " 'niche',\n",
       " 'no',\n",
       " 'not',\n",
       " 'notebook',\n",
       " 'notebooks',\n",
       " 'of',\n",
       " 'often',\n",
       " 'olpc',\n",
       " 'on',\n",
       " 'one',\n",
       " 'only',\n",
       " 'operating',\n",
       " 'operation',\n",
       " 'operations',\n",
       " 'optical',\n",
       " 'or',\n",
       " 'order',\n",
       " 'organization',\n",
       " 'originally',\n",
       " 'other',\n",
       " 'out',\n",
       " 'output',\n",
       " 'ovens',\n",
       " 'pace',\n",
       " 'pad',\n",
       " 'patterns',\n",
       " 'pcs',\n",
       " 'people',\n",
       " 'per',\n",
       " 'perform',\n",
       " 'peripheral',\n",
       " 'person',\n",
       " 'personal',\n",
       " 'placed',\n",
       " 'playing',\n",
       " 'pointing',\n",
       " 'points',\n",
       " 'portable',\n",
       " 'power',\n",
       " 'powered',\n",
       " 'practically',\n",
       " 'predicted',\n",
       " 'preferred',\n",
       " 'price',\n",
       " 'printers',\n",
       " 'processing',\n",
       " 'processor',\n",
       " 'production',\n",
       " 'products',\n",
       " 'programmed',\n",
       " 'programs',\n",
       " 'purpose',\n",
       " 'purposes',\n",
       " 'range',\n",
       " 'rapid',\n",
       " 'refer',\n",
       " 'referred',\n",
       " 'refers',\n",
       " 'remote',\n",
       " 'representatives',\n",
       " 'response',\n",
       " 'result',\n",
       " 'retrieved',\n",
       " 'revolution',\n",
       " 'robots',\n",
       " 'rugged',\n",
       " 'sales',\n",
       " 'same',\n",
       " 'saved',\n",
       " 'screen',\n",
       " 'screens',\n",
       " 'semi',\n",
       " 'semiconductor',\n",
       " 'sequences',\n",
       " 'sequencing',\n",
       " 'sets',\n",
       " 'settings',\n",
       " 'shell',\n",
       " 'shut',\n",
       " 'significantly',\n",
       " 'silicon',\n",
       " 'simple',\n",
       " 'since',\n",
       " 'single',\n",
       " 'size',\n",
       " 'small',\n",
       " 'smaller',\n",
       " 'smartphones',\n",
       " 'so',\n",
       " 'software',\n",
       " 'solar',\n",
       " 'some',\n",
       " 'sometimes',\n",
       " 'sophisticated',\n",
       " 'source',\n",
       " 'speakers',\n",
       " 'special',\n",
       " 'specialized',\n",
       " 'specific',\n",
       " 'specifications',\n",
       " 'speed',\n",
       " 'stick',\n",
       " 'storage',\n",
       " 'stored',\n",
       " 'such',\n",
       " 'suitable',\n",
       " 'supply',\n",
       " 'system',\n",
       " 'systems',\n",
       " 'tasks',\n",
       " 'technologies',\n",
       " 'tedious',\n",
       " 'term',\n",
       " 'terms',\n",
       " 'than',\n",
       " 'that',\n",
       " 'the',\n",
       " 'then',\n",
       " 'these',\n",
       " 'they',\n",
       " 'thing',\n",
       " 'this',\n",
       " 'those',\n",
       " 'thus',\n",
       " 'time',\n",
       " 'times',\n",
       " 'to',\n",
       " 'today',\n",
       " 'together',\n",
       " 'touch',\n",
       " 'touchscreen',\n",
       " 'touchscreens',\n",
       " 'transistor',\n",
       " 'transistors',\n",
       " 'transportation',\n",
       " 'traveling',\n",
       " 'type',\n",
       " 'types',\n",
       " 'typically',\n",
       " 'unit',\n",
       " 'upper',\n",
       " 'use',\n",
       " 'used',\n",
       " 'users',\n",
       " 'variety',\n",
       " 'vary',\n",
       " 'versatility',\n",
       " 'war',\n",
       " 'web',\n",
       " 'webcams',\n",
       " 'well',\n",
       " 'were',\n",
       " 'when',\n",
       " 'which',\n",
       " 'while',\n",
       " 'wide',\n",
       " 'widely',\n",
       " 'with',\n",
       " 'work',\n",
       " 'world']"
      ]
     },
     "execution_count": 53,
     "metadata": {},
     "output_type": "execute_result"
    }
   ],
   "source": [
    "vectorizer.get_feature_names()"
   ]
  },
  {
   "cell_type": "code",
   "execution_count": 56,
   "metadata": {},
   "outputs": [],
   "source": [
    "# fit_transform()를 통해 corpus의 텍스트 데이터를 벡터화해 X에 저장하고 X를 dense한 matrix로 변환\n",
    "# raw counts have been normalized against document length, terms that are found across many docs are weighted\n",
    "\n",
    "x = vectorizer.fit_transform(corpus).todense()\n",
    "\n",
    "# .todense()의 역할 : 기본적으로 fit_transform의 결과로 만들어지는 행렬은 희소행렬(Sparse matirx),\n",
    "# 희소행렬 내에는 무수히 많은 '0'이 존재하는데 이러한 '0'이라는 값을 저장하는 것 역시 공간(메모리)를 차지하므로,\n",
    "# '0'인 값들은 아ㅖ 제외하고 나머지 숫자들만 실제로 저장하는 방식으로 처리한다\n",
    "# 이렇게 저장한 데이터로 부터 현재 우리가 얻어내야하는 것은 값이 모두 채워진(Dense matrix)이므로,\n",
    "# 마지막에 .todense()함수를 실행시 Sparse matrix로 부터 Dense matrix를 만들어 돌려받는다."
   ]
  },
  {
   "cell_type": "code",
   "execution_count": 65,
   "metadata": {},
   "outputs": [
    {
     "name": "stdout",
     "output_type": "stream",
     "text": [
      "<class 'numpy.matrix'>\n"
     ]
    },
    {
     "data": {
      "text/plain": [
       "(2, 379)"
      ]
     },
     "execution_count": 65,
     "metadata": {},
     "output_type": "execute_result"
    }
   ],
   "source": [
    "print(type(x))\n",
    "x.shape"
   ]
  },
  {
   "cell_type": "code",
   "execution_count": 67,
   "metadata": {},
   "outputs": [
    {
     "name": "stdout",
     "output_type": "stream",
     "text": [
      "Simailarity between 'Computer' and 'laptop':  [[0.54198551]]\n"
     ]
    }
   ],
   "source": [
    "print(\"Simailarity between 'Computer' and 'laptop': \",cosine_similarity(x[0],x[1])) #코사인 유사도"
   ]
  },
  {
   "cell_type": "code",
   "execution_count": 84,
   "metadata": {},
   "outputs": [
    {
     "data": {
      "text/plain": [
       "array([[0.54198551]])"
      ]
     },
     "execution_count": 84,
     "metadata": {},
     "output_type": "execute_result"
    }
   ],
   "source": [
    "result = cosine_similarity(x[0],x[1])\n",
    "result"
   ]
  },
  {
   "cell_type": "code",
   "execution_count": 85,
   "metadata": {},
   "outputs": [
    {
     "data": {
      "image/png": "[encoded data removed]",
      "text/plain": [
       "<Figure size 720x720 with 2 Axes>"
      ]
     },
     "metadata": {},
     "output_type": "display_data"
    }
   ],
   "source": [
    "import seaborn as sns\n",
    "import matplotlib.pyplot as plt\n",
    "\n",
    "plt.figure(figsize=(10,10))\n",
    "\n",
    "sns.heatmap(result,annot=True,fmt='f',linewidth=5,cmap='RdYlBu')\n",
    "\n",
    "sns.set(font_scale=1.5)\n",
    "\n",
    "plt.tick_params(top=True, bottom=False,labeltop=True,labelbottom=False)\n",
    "plt.show()"
   ]
  },
  {
   "cell_type": "code",
   "execution_count": null,
   "metadata": {},
   "outputs": [],
   "source": []
  }
 ],
 "metadata": {
  "kernelspec": {
   "display_name": "Python 3",
   "language": "python",
   "name": "python3"
  },
  "language_info": {
   "codemirror_mode": {
    "name": "ipython",
    "version": 3
   },
   "file_extension": ".py",
   "mimetype": "text/x-python",
   "name": "python",
   "nbconvert_exporter": "python",
   "pygments_lexer": "ipython3",
   "version": "3.7.4"
  }
 },
 "nbformat": 4,
 "nbformat_minor": 4
}
