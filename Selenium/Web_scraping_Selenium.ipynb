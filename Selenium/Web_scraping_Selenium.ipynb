{
 "cells": [
  {
   "cell_type": "code",
   "execution_count": null,
   "metadata": {},
   "outputs": [],
   "source": [
    "# Selenium 웹 여러가지의 브라우저 프론트 테스트 자동화 툴?"
   ]
  },
  {
   "cell_type": "code",
   "execution_count": null,
   "metadata": {},
   "outputs": [],
   "source": [
    "#!pip install selenium==4.1.0"
   ]
  },
  {
   "cell_type": "code",
   "execution_count": null,
   "metadata": {},
   "outputs": [],
   "source": [
    "#!pip install webdriver-manager==3.5.2"
   ]
  },
  {
   "cell_type": "code",
   "execution_count": null,
   "metadata": {},
   "outputs": [],
   "source": [
    "# 자동으로 크롬드라이버(가상브라우저) 파일을 다운로드해주는 라이브러리\n",
    "from webdriver_manager.chrome import ChromeDriverManager\n",
    "# 다운로드된 크롬드라이버 파일을 연결하기 위해 활용\n",
    "from selenium.webdriver.chrome.service import Service\n",
    "\n",
    "from selenium import webdriver\n",
    "from selenium.webdriver.common.by import By\n",
    "from selenium.webdriver.common.keys import Keys\n",
    "\n",
    "from bs4 import BeautifulSoup\n",
    "import time\n",
    "import pandas as pd\n",
    "\n",
    "import warnings"
   ]
  },
  {
   "cell_type": "code",
   "execution_count": null,
   "metadata": {},
   "outputs": [],
   "source": [
    "warnings.filterwarnings(\"ignore\") # 불필요한 Warning 메세지 Off"
   ]
  },
  {
   "cell_type": "code",
   "execution_count": null,
   "metadata": {},
   "outputs": [],
   "source": [
    "# 1.Selenium 둘러보기"
   ]
  },
  {
   "cell_type": "code",
   "execution_count": null,
   "metadata": {},
   "outputs": [],
   "source": [
    "df = pd.read_excel(\"../WorldCloud_for_text_data/result_220828_1026.xlsx\")\n",
    "df.head()"
   ]
  },
  {
   "cell_type": "code",
   "execution_count": null,
   "metadata": {},
   "outputs": [],
   "source": [
    "!google-chrome --version"
   ]
  },
  {
   "cell_type": "code",
   "execution_count": null,
   "metadata": {},
   "outputs": [],
   "source": [
    "driver = webdriver.Chrome(executable_path='/workspace/AI_Study/Selenium/chromedriver')"
   ]
  },
  {
   "cell_type": "code",
   "execution_count": null,
   "metadata": {},
   "outputs": [],
   "source": [
    "# 자동으로 크롬드라이버(가상브라우저) 파일을 다운로드 후 세팅\n",
    "service = Service(executable_path=ChromeDriverManager().install())\n",
    "\n",
    "# 세팅된 크롬드라이버를 연결해 가상브라우저 실행\n",
    "driver = webdriver.Chrome(service=service)"
   ]
  },
  {
   "cell_type": "code",
   "execution_count": null,
   "metadata": {},
   "outputs": [],
   "source": [
    "# 아 몰라 안해 클라우드 상에서 크롬을 어케 받아"
   ]
  },
  {
   "cell_type": "code",
   "execution_count": 1,
   "metadata": {},
   "outputs": [
    {
     "name": "stdout",
     "output_type": "stream",
     "text": [
      "패키지 목록을 읽는 중입니다... 완료%\n",
      "의존성 트리를 만드는 중입니다       \n",
      "상태 정보를 읽는 중입니다... 완료\n",
      "패키지 wget는 이미 최신 버전입니다 (1.19.4-1ubuntu2.2).\n",
      "0개 업그레이드, 0개 새로 설치, 0개 제거, 268개 업그레이드 안 함.\n"
     ]
    }
   ],
   "source": [
    "!apt-get install wget -y"
   ]
  },
  {
   "cell_type": "code",
   "execution_count": 3,
   "metadata": {},
   "outputs": [
    {
     "name": "stdout",
     "output_type": "stream",
     "text": [
      "OK\r\n"
     ]
    }
   ],
   "source": [
    "!wget -q -O - https://dl-ssl.google.com/linux/linux_signing_key.pub | apt-key add -"
   ]
  },
  {
   "cell_type": "code",
   "execution_count": 5,
   "metadata": {},
   "outputs": [],
   "source": [
    "!sh -c 'echo \"deb [arch=amd64] http://dl.google.com/linux/chrome/deb/ stable main\" >> /etc/apt/sources.list.d/google.list'"
   ]
  },
  {
   "cell_type": "code",
   "execution_count": 7,
   "metadata": {},
   "outputs": [
    {
     "name": "stdout",
     "output_type": "stream",
     "text": [
      "기존:1 http://ap-northeast-2.ec2.archive.ubuntu.com/ubuntu bionic InRelease\n",
      "기존:2 http://ap-northeast-2.ec2.archive.ubuntu.com/ubuntu bionic-updates InRelease\n",
      "기존:3 http://ap-northeast-2.ec2.archive.ubuntu.com/ubuntu bionic-backports InRelease\n",
      "기존:6 http://dl.google.com/linux/chrome/deb stable InRelease                    \n",
      "받기:4 https://cli-assets.heroku.com/apt ./ InRelease [2,550 B]                  \n",
      "기존:7 http://security.ubuntu.com/ubuntu bionic-security InRelease               \n",
      "받기:5 https://cf-cli-debian-repo.s3.amazonaws.com stable InRelease [2,679 B]    \n",
      "오류:4 https://cli-assets.heroku.com/apt ./ InRelease                \n",
      "  다음 서명들은 공개키가 없기 때문에 인증할 수 없습니다: NO_PUBKEY 536F8F1DE80F6A35\n",
      "오류:5 https://cf-cli-debian-repo.s3.amazonaws.com stable InRelease\n",
      "  다음 서명이 올바르지 않습니다: EXPKEYSIG 172B5989FCD21EF8 CF CLI Team <cf-cli-eng@pivotal.io>\n",
      "4초에 5,229 B 받음 (1,455 B/s)   \n",
      "패키지 목록을 읽는 중입니다... 완료%\n",
      "W: Target Packages (main/binary-amd64/Packages) is configured multiple times in /etc/apt/sources.list.d/google.list:1 and /etc/apt/sources.list.d/google.list:2\n",
      "W: Target Packages (main/binary-all/Packages) is configured multiple times in /etc/apt/sources.list.d/google.list:1 and /etc/apt/sources.list.d/google.list:2\n",
      "W: An error occurred during the signature verification. The repository is not updated and the previous index files will be used. GPG error: https://cli-assets.heroku.com/apt ./ InRelease: 다음 서명들은 공개키가 없기 때문에 인증할 수 없습니다: NO_PUBKEY 536F8F1DE80F6A35\n",
      "W: An error occurred during the signature verification. The repository is not updated and the previous index files will be used. GPG error: https://cf-cli-debian-repo.s3.amazonaws.com stable InRelease: 다음 서명이 올바르지 않습니다: EXPKEYSIG 172B5989FCD21EF8 CF CLI Team <cf-cli-eng@pivotal.io>\n",
      "W: http://packages.cloudfoundry.org/debian/dists/stable/InRelease 파일을 받는데 실패했습니다  다음 서명이 올바르지 않습니다: EXPKEYSIG 172B5989FCD21EF8 CF CLI Team <cf-cli-eng@pivotal.io>\n",
      "W: https://cli-assets.heroku.com/apt/./InRelease 파일을 받는데 실패했습니다  다음 서명들은 공개키가 없기 때문에 인증할 수 없습니다: NO_PUBKEY 536F8F1DE80F6A35\n",
      "W: Some index files failed to download. They have been ignored, or old ones used instead.\n",
      "W: Target Packages (main/binary-amd64/Packages) is configured multiple times in /etc/apt/sources.list.d/google.list:1 and /etc/apt/sources.list.d/google.list:2\n",
      "W: Target Packages (main/binary-all/Packages) is configured multiple times in /etc/apt/sources.list.d/google.list:1 and /etc/apt/sources.list.d/google.list:2\n"
     ]
    }
   ],
   "source": [
    "!apt-get update -y"
   ]
  },
  {
   "cell_type": "code",
   "execution_count": 8,
   "metadata": {},
   "outputs": [
    {
     "name": "stdout",
     "output_type": "stream",
     "text": [
      "패키지 목록을 읽는 중입니다... 완료%\n",
      "의존성 트리를 만드는 중입니다       \n",
      "상태 정보를 읽는 중입니다... 완료\n",
      "다음의 추가 패키지가 설치될 것입니다 :\n",
      "  fonts-liberation libauthen-sasl-perl libdata-dump-perl libencode-locale-perl\n",
      "  libfile-basedir-perl libfile-desktopentry-perl libfile-listing-perl\n",
      "  libfile-mimeinfo-perl libfont-afm-perl libhtml-form-perl libhtml-format-perl\n",
      "  libhtml-parser-perl libhtml-tagset-perl libhtml-tree-perl\n",
      "  libhttp-cookies-perl libhttp-daemon-perl libhttp-date-perl\n",
      "  libhttp-message-perl libhttp-negotiate-perl libio-html-perl\n",
      "  libio-socket-ssl-perl libipc-system-simple-perl liblwp-mediatypes-perl\n",
      "  liblwp-protocol-https-perl libmailtools-perl libnet-dbus-perl\n",
      "  libnet-http-perl libnet-smtp-ssl-perl libnet-ssleay-perl libtext-iconv-perl\n",
      "  libtie-ixhash-perl libtimedate-perl libtry-tiny-perl libu2f-udev liburi-perl\n",
      "  libvulkan1 libwww-perl libwww-robotrules-perl libx11-protocol-perl\n",
      "  libxml-parser-perl libxml-twig-perl libxml-xpathengine-perl\n",
      "  perl-openssl-defaults xdg-utils\n",
      "제안하는 패키지:\n",
      "  libdigest-hmac-perl libgssapi-perl libcrypt-ssleay-perl libauthen-ntlm-perl\n",
      "  libunicode-map8-perl libunicode-string-perl xml-twig-tools\n",
      "다음 *새로운* 패키지들을 설치:\n",
      "  fonts-liberation google-chrome-stable libauthen-sasl-perl libdata-dump-perl\n",
      "  libencode-locale-perl libfile-basedir-perl libfile-desktopentry-perl\n",
      "  libfile-listing-perl libfile-mimeinfo-perl libfont-afm-perl\n",
      "  libhtml-form-perl libhtml-format-perl libhtml-parser-perl\n",
      "  libhtml-tagset-perl libhtml-tree-perl libhttp-cookies-perl\n",
      "  libhttp-daemon-perl libhttp-date-perl libhttp-message-perl\n",
      "  libhttp-negotiate-perl libio-html-perl libio-socket-ssl-perl\n",
      "  libipc-system-simple-perl liblwp-mediatypes-perl liblwp-protocol-https-perl\n",
      "  libmailtools-perl libnet-dbus-perl libnet-http-perl libnet-smtp-ssl-perl\n",
      "  libnet-ssleay-perl libtext-iconv-perl libtie-ixhash-perl libtimedate-perl\n",
      "  libtry-tiny-perl libu2f-udev liburi-perl libvulkan1 libwww-perl\n",
      "  libwww-robotrules-perl libx11-protocol-perl libxml-parser-perl\n",
      "  libxml-twig-perl libxml-xpathengine-perl perl-openssl-defaults xdg-utils\n",
      "0개 업그레이드, 45개 새로 설치, 0개 제거, 268개 업그레이드 안 함.\n",
      "94.7 M바이트 아카이브를 받아야 합니다.\n",
      "이 작업 후 309 M바이트의 디스크 공간을 더 사용하게 됩니다.\n",
      "받기:1 http://ap-northeast-2.ec2.archive.ubuntu.com/ubuntu bionic-updates/main amd64 fonts-liberation all 1:1.07.4-7~18.04.1 [822 kB]\n",
      "받기:2 http://ap-northeast-2.ec2.archive.ubuntu.com/ubuntu bionic-updates/main amd64 xdg-utils all 1.1.2-1ubuntu2.5 [60.4 kB]\n",
      "받기:3 http://dl.google.com/linux/chrome/deb stable/main amd64 google-chrome-stable amd64 105.0.5195.102-1 [91.3 MB]\n",
      "받기:4 http://ap-northeast-2.ec2.archive.ubuntu.com/ubuntu bionic/main amd64 libtext-iconv-perl amd64 1.7-5build6 [13.0 kB]\n",
      "받기:5 http://ap-northeast-2.ec2.archive.ubuntu.com/ubuntu bionic/main amd64 libdata-dump-perl all 1.23-1 [27.0 kB]\n",
      "받기:6 http://ap-northeast-2.ec2.archive.ubuntu.com/ubuntu bionic/main amd64 libencode-locale-perl all 1.05-1 [12.3 kB]\n",
      "받기:7 http://ap-northeast-2.ec2.archive.ubuntu.com/ubuntu bionic/main amd64 libipc-system-simple-perl all 1.25-4 [22.5 kB]\n",
      "받기:8 http://ap-northeast-2.ec2.archive.ubuntu.com/ubuntu bionic/main amd64 libfile-basedir-perl all 0.07-1 [16.9 kB]\n",
      "받기:9 http://ap-northeast-2.ec2.archive.ubuntu.com/ubuntu bionic/main amd64 liburi-perl all 1.73-1 [77.2 kB]\n",
      "받기:10 http://ap-northeast-2.ec2.archive.ubuntu.com/ubuntu bionic/main amd64 libfile-desktopentry-perl all 0.22-1 [18.2 kB]\n",
      "받기:11 http://ap-northeast-2.ec2.archive.ubuntu.com/ubuntu bionic/main amd64 libtimedate-perl all 2.3000-2 [37.5 kB]\n",
      "받기:12 http://ap-northeast-2.ec2.archive.ubuntu.com/ubuntu bionic/main amd64 libhttp-date-perl all 6.02-1 [10.4 kB]\n",
      "받기:13 http://ap-northeast-2.ec2.archive.ubuntu.com/ubuntu bionic/main amd64 libfile-listing-perl all 6.04-1 [9,774 B]\n",
      "받기:14 http://ap-northeast-2.ec2.archive.ubuntu.com/ubuntu bionic/main amd64 libfile-mimeinfo-perl all 0.28-1 [41.4 kB]\n",
      "받기:15 http://ap-northeast-2.ec2.archive.ubuntu.com/ubuntu bionic/main amd64 libfont-afm-perl all 1.20-2 [13.2 kB]\n",
      "받기:16 http://ap-northeast-2.ec2.archive.ubuntu.com/ubuntu bionic/main amd64 libhtml-tagset-perl all 3.20-3 [12.1 kB]\n",
      "받기:17 http://ap-northeast-2.ec2.archive.ubuntu.com/ubuntu bionic/main amd64 libhtml-parser-perl amd64 3.72-3build1 [85.9 kB]\n",
      "받기:18 http://ap-northeast-2.ec2.archive.ubuntu.com/ubuntu bionic/main amd64 libio-html-perl all 1.001-1 [14.9 kB]\n",
      "받기:19 http://ap-northeast-2.ec2.archive.ubuntu.com/ubuntu bionic/main amd64 liblwp-mediatypes-perl all 6.02-1 [21.7 kB]\n",
      "받기:20 http://ap-northeast-2.ec2.archive.ubuntu.com/ubuntu bionic/main amd64 libhttp-message-perl all 6.14-1 [72.1 kB]\n",
      "받기:21 http://ap-northeast-2.ec2.archive.ubuntu.com/ubuntu bionic/main amd64 libhtml-form-perl all 6.03-1 [23.5 kB]\n",
      "받기:22 http://ap-northeast-2.ec2.archive.ubuntu.com/ubuntu bionic/main amd64 libhtml-tree-perl all 5.07-1 [200 kB]\n",
      "받기:23 http://ap-northeast-2.ec2.archive.ubuntu.com/ubuntu bionic/main amd64 libhtml-format-perl all 2.12-1 [41.3 kB]\n",
      "받기:24 http://ap-northeast-2.ec2.archive.ubuntu.com/ubuntu bionic/main amd64 libhttp-cookies-perl all 6.04-1 [17.2 kB]\n",
      "받기:25 http://ap-northeast-2.ec2.archive.ubuntu.com/ubuntu bionic-updates/main amd64 libhttp-daemon-perl all 6.01-1ubuntu0.1 [15.9 kB]\n",
      "받기:26 http://ap-northeast-2.ec2.archive.ubuntu.com/ubuntu bionic/main amd64 libhttp-negotiate-perl all 6.00-2 [13.4 kB]\n",
      "받기:27 http://ap-northeast-2.ec2.archive.ubuntu.com/ubuntu bionic/main amd64 perl-openssl-defaults amd64 3build1 [7,012 B]\n",
      "받기:28 http://ap-northeast-2.ec2.archive.ubuntu.com/ubuntu bionic-updates/main amd64 libnet-ssleay-perl amd64 1.84-1ubuntu0.2 [283 kB]\n",
      "받기:29 http://ap-northeast-2.ec2.archive.ubuntu.com/ubuntu bionic-updates/main amd64 libio-socket-ssl-perl all 2.060-3~ubuntu18.04.1 [173 kB]\n",
      "받기:30 http://ap-northeast-2.ec2.archive.ubuntu.com/ubuntu bionic/main amd64 libnet-http-perl all 6.17-1 [22.7 kB]\n",
      "받기:31 http://ap-northeast-2.ec2.archive.ubuntu.com/ubuntu bionic/main amd64 libtry-tiny-perl all 0.30-1 [20.5 kB]\n",
      "받기:32 http://ap-northeast-2.ec2.archive.ubuntu.com/ubuntu bionic/main amd64 libwww-robotrules-perl all 6.01-1 [14.1 kB]\n",
      "받기:33 http://ap-northeast-2.ec2.archive.ubuntu.com/ubuntu bionic-updates/main amd64 libwww-perl all 6.31-1ubuntu0.1 [137 kB]\n",
      "받기:34 http://ap-northeast-2.ec2.archive.ubuntu.com/ubuntu bionic/main amd64 liblwp-protocol-https-perl all 6.07-2 [8,284 B]\n",
      "받기:35 http://ap-northeast-2.ec2.archive.ubuntu.com/ubuntu bionic/main amd64 libnet-smtp-ssl-perl all 1.04-1 [5,948 B]\n",
      "받기:36 http://ap-northeast-2.ec2.archive.ubuntu.com/ubuntu bionic/main amd64 libmailtools-perl all 2.18-1 [74.0 kB]\n",
      "받기:37 http://ap-northeast-2.ec2.archive.ubuntu.com/ubuntu bionic/main amd64 libxml-parser-perl amd64 2.44-2build3 [199 kB]\n",
      "받기:38 http://ap-northeast-2.ec2.archive.ubuntu.com/ubuntu bionic/main amd64 libxml-twig-perl all 1:3.50-1 [156 kB]\n",
      "받기:39 http://ap-northeast-2.ec2.archive.ubuntu.com/ubuntu bionic/main amd64 libnet-dbus-perl amd64 1.1.0-4build2 [176 kB]\n",
      "받기:40 http://ap-northeast-2.ec2.archive.ubuntu.com/ubuntu bionic/main amd64 libtie-ixhash-perl all 1.23-2 [11.2 kB]\n",
      "받기:41 http://ap-northeast-2.ec2.archive.ubuntu.com/ubuntu bionic-updates/main amd64 libu2f-udev all 1.1.4-1ubuntu0.1 [3,884 B]\n",
      "받기:42 http://ap-northeast-2.ec2.archive.ubuntu.com/ubuntu bionic-updates/universe amd64 libvulkan1 amd64 1.1.70+dfsg1-1ubuntu0.18.04.1 [93.4 kB]\n",
      "받기:43 http://ap-northeast-2.ec2.archive.ubuntu.com/ubuntu bionic/main amd64 libx11-protocol-perl all 0.56-7 [149 kB]\n",
      "받기:44 http://ap-northeast-2.ec2.archive.ubuntu.com/ubuntu bionic/main amd64 libxml-xpathengine-perl all 0.14-1 [31.8 kB]\n",
      "받기:45 http://ap-northeast-2.ec2.archive.ubuntu.com/ubuntu bionic/main amd64 libauthen-sasl-perl all 2.1600-1 [48.7 kB]\n",
      "8초에 94.7 MB 받음 (12.1 MB/s)                                                     \n",
      "debconf: 프론트엔드를 초기화할 수 없음: Dialog\n",
      "debconf: (dialog나 그와 비슷한 프로그램을 설치하지 않았으므로, 다이얼로그 프론트엔드는 사용할 수 없습니다. at /usr/share/perl5/Debconf/FrontEnd/Dialog.pm line 76, <> line 45.)\n",
      "debconf: 다음 프론트엔드를 대신 사용: Readline\n",
      "W: Target Packages (main/binary-amd64/Packages) is configured multiple times in /etc/apt/sources.list.d/google.list:1 and /etc/apt/sources.list.d/google.list:2\n",
      "W: Target Packages (main/binary-all/Packages) is configured multiple times in /etc/apt/sources.list.d/google.list:1 and /etc/apt/sources.list.d/google.list:2\n",
      "패키지에서 템플릿을 추출하는 중: 66%W: Target Packages (main/binary-amd64/Packages) is configured multiple times in /etc/apt/sources.list.d/google.list:1 and /etc/apt/sources.list.d/google.list:2\n",
      "W: Target Packages (main/binary-all/Packages) is configured multiple times in /etc/apt/sources.list.d/google.list:1 and /etc/apt/sources.list.d/google.list:2\n",
      "패키지에서 템플릿을 추출하는 중: 100%\n"
     ]
    },
    {
     "name": "stdout",
     "output_type": "stream",
     "text": [
      "Selecting previously unselected package fonts-liberation.\n",
      "(데이터베이스 읽는중 ... 현재 97521개의 파일과 디렉터리가 설치되어 있습니다.)\n",
      "Preparing to unpack .../00-fonts-liberation_1%3a1.07.4-7~18.04.1_all.deb ...\n",
      "Unpacking fonts-liberation (1:1.07.4-7~18.04.1) ...\n",
      "Selecting previously unselected package xdg-utils.\n",
      "Preparing to unpack .../01-xdg-utils_1.1.2-1ubuntu2.5_all.deb ...\n",
      "Unpacking xdg-utils (1.1.2-1ubuntu2.5) ...\n",
      "Selecting previously unselected package google-chrome-stable.\n",
      "Preparing to unpack .../02-google-chrome-stable_105.0.5195.102-1_amd64.deb ...\n",
      "Unpacking google-chrome-stable (105.0.5195.102-1) ...\n",
      "Selecting previously unselected package libtext-iconv-perl.\n",
      "Preparing to unpack .../03-libtext-iconv-perl_1.7-5build6_amd64.deb ...\n",
      "Unpacking libtext-iconv-perl (1.7-5build6) ...\n",
      "Selecting previously unselected package libdata-dump-perl.\n",
      "Preparing to unpack .../04-libdata-dump-perl_1.23-1_all.deb ...\n",
      "Unpacking libdata-dump-perl (1.23-1) ...\n",
      "Selecting previously unselected package libencode-locale-perl.\n",
      "Preparing to unpack .../05-libencode-locale-perl_1.05-1_all.deb ...\n",
      "Unpacking libencode-locale-perl (1.05-1) ...\n",
      "Selecting previously unselected package libipc-system-simple-perl.\n",
      "Preparing to unpack .../06-libipc-system-simple-perl_1.25-4_all.deb ...\n",
      "Unpacking libipc-system-simple-perl (1.25-4) ...\n",
      "Selecting previously unselected package libfile-basedir-perl.\n",
      "Preparing to unpack .../07-libfile-basedir-perl_0.07-1_all.deb ...\n",
      "Unpacking libfile-basedir-perl (0.07-1) ...\n",
      "Selecting previously unselected package liburi-perl.\n",
      "Preparing to unpack .../08-liburi-perl_1.73-1_all.deb ...\n",
      "Unpacking liburi-perl (1.73-1) ...\n",
      "Selecting previously unselected package libfile-desktopentry-perl.\n",
      "Preparing to unpack .../09-libfile-desktopentry-perl_0.22-1_all.deb ...\n",
      "Unpacking libfile-desktopentry-perl (0.22-1) ...\n",
      "Selecting previously unselected package libtimedate-perl.\n",
      "Preparing to unpack .../10-libtimedate-perl_2.3000-2_all.deb ...\n",
      "Unpacking libtimedate-perl (2.3000-2) ...\n",
      "Selecting previously unselected package libhttp-date-perl.\n",
      "Preparing to unpack .../11-libhttp-date-perl_6.02-1_all.deb ...\n",
      "Unpacking libhttp-date-perl (6.02-1) ...\n",
      "Selecting previously unselected package libfile-listing-perl.\n",
      "Preparing to unpack .../12-libfile-listing-perl_6.04-1_all.deb ...\n",
      "Unpacking libfile-listing-perl (6.04-1) ...\n",
      "Selecting previously unselected package libfile-mimeinfo-perl.\n",
      "Preparing to unpack .../13-libfile-mimeinfo-perl_0.28-1_all.deb ...\n",
      "Unpacking libfile-mimeinfo-perl (0.28-1) ...\n",
      "Selecting previously unselected package libfont-afm-perl.\n",
      "Preparing to unpack .../14-libfont-afm-perl_1.20-2_all.deb ...\n",
      "Unpacking libfont-afm-perl (1.20-2) ...\n",
      "Selecting previously unselected package libhtml-tagset-perl.\n",
      "Preparing to unpack .../15-libhtml-tagset-perl_3.20-3_all.deb ...\n",
      "Unpacking libhtml-tagset-perl (3.20-3) ...\n",
      "Selecting previously unselected package libhtml-parser-perl.\n",
      "Preparing to unpack .../16-libhtml-parser-perl_3.72-3build1_amd64.deb ...\n",
      "Unpacking libhtml-parser-perl (3.72-3build1) ...\n",
      "Selecting previously unselected package libio-html-perl.\n",
      "Preparing to unpack .../17-libio-html-perl_1.001-1_all.deb ...\n",
      "Unpacking libio-html-perl (1.001-1) ...\n",
      "Selecting previously unselected package liblwp-mediatypes-perl.\n",
      "Preparing to unpack .../18-liblwp-mediatypes-perl_6.02-1_all.deb ...\n",
      "Unpacking liblwp-mediatypes-perl (6.02-1) ...\n",
      "Selecting previously unselected package libhttp-message-perl.\n",
      "Preparing to unpack .../19-libhttp-message-perl_6.14-1_all.deb ...\n",
      "Unpacking libhttp-message-perl (6.14-1) ...\n",
      "Selecting previously unselected package libhtml-form-perl.\n",
      "Preparing to unpack .../20-libhtml-form-perl_6.03-1_all.deb ...\n",
      "Unpacking libhtml-form-perl (6.03-1) ...\n",
      "Selecting previously unselected package libhtml-tree-perl.\n",
      "Preparing to unpack .../21-libhtml-tree-perl_5.07-1_all.deb ...\n",
      "Unpacking libhtml-tree-perl (5.07-1) ...\n",
      "Selecting previously unselected package libhtml-format-perl.\n",
      "Preparing to unpack .../22-libhtml-format-perl_2.12-1_all.deb ...\n",
      "Unpacking libhtml-format-perl (2.12-1) ...\n",
      "Selecting previously unselected package libhttp-cookies-perl.\n",
      "Preparing to unpack .../23-libhttp-cookies-perl_6.04-1_all.deb ...\n",
      "Unpacking libhttp-cookies-perl (6.04-1) ...\n",
      "Selecting previously unselected package libhttp-daemon-perl.\n",
      "Preparing to unpack .../24-libhttp-daemon-perl_6.01-1ubuntu0.1_all.deb ...\n",
      "Unpacking libhttp-daemon-perl (6.01-1ubuntu0.1) ...\n",
      "Selecting previously unselected package libhttp-negotiate-perl.\n",
      "Preparing to unpack .../25-libhttp-negotiate-perl_6.00-2_all.deb ...\n",
      "Unpacking libhttp-negotiate-perl (6.00-2) ...\n",
      "Selecting previously unselected package perl-openssl-defaults:amd64.\n",
      "Preparing to unpack .../26-perl-openssl-defaults_3build1_amd64.deb ...\n",
      "Unpacking perl-openssl-defaults:amd64 (3build1) ...\n",
      "Selecting previously unselected package libnet-ssleay-perl.\n",
      "Preparing to unpack .../27-libnet-ssleay-perl_1.84-1ubuntu0.2_amd64.deb ...\n",
      "Unpacking libnet-ssleay-perl (1.84-1ubuntu0.2) ...\n",
      "Selecting previously unselected package libio-socket-ssl-perl.\n",
      "Preparing to unpack .../28-libio-socket-ssl-perl_2.060-3~ubuntu18.04.1_all.deb ...\n",
      "Unpacking libio-socket-ssl-perl (2.060-3~ubuntu18.04.1) ...\n",
      "Selecting previously unselected package libnet-http-perl.\n",
      "Preparing to unpack .../29-libnet-http-perl_6.17-1_all.deb ...\n",
      "Unpacking libnet-http-perl (6.17-1) ...\n",
      "Selecting previously unselected package libtry-tiny-perl.\n",
      "Preparing to unpack .../30-libtry-tiny-perl_0.30-1_all.deb ...\n",
      "Unpacking libtry-tiny-perl (0.30-1) ...\n",
      "Selecting previously unselected package libwww-robotrules-perl.\n",
      "Preparing to unpack .../31-libwww-robotrules-perl_6.01-1_all.deb ...\n",
      "Unpacking libwww-robotrules-perl (6.01-1) ...\n",
      "Selecting previously unselected package libwww-perl.\n",
      "Preparing to unpack .../32-libwww-perl_6.31-1ubuntu0.1_all.deb ...\n",
      "Unpacking libwww-perl (6.31-1ubuntu0.1) ...\n",
      "Selecting previously unselected package liblwp-protocol-https-perl.\n",
      "Preparing to unpack .../33-liblwp-protocol-https-perl_6.07-2_all.deb ...\n",
      "Unpacking liblwp-protocol-https-perl (6.07-2) ...\n",
      "Selecting previously unselected package libnet-smtp-ssl-perl.\n",
      "Preparing to unpack .../34-libnet-smtp-ssl-perl_1.04-1_all.deb ...\n",
      "Unpacking libnet-smtp-ssl-perl (1.04-1) ...\n",
      "Selecting previously unselected package libmailtools-perl.\n",
      "Preparing to unpack .../35-libmailtools-perl_2.18-1_all.deb ...\n",
      "Unpacking libmailtools-perl (2.18-1) ...\n",
      "Selecting previously unselected package libxml-parser-perl.\n",
      "Preparing to unpack .../36-libxml-parser-perl_2.44-2build3_amd64.deb ...\n",
      "Unpacking libxml-parser-perl (2.44-2build3) ...\n",
      "Selecting previously unselected package libxml-twig-perl.\n",
      "Preparing to unpack .../37-libxml-twig-perl_1%3a3.50-1_all.deb ...\n",
      "Unpacking libxml-twig-perl (1:3.50-1) ...\n",
      "Selecting previously unselected package libnet-dbus-perl.\n",
      "Preparing to unpack .../38-libnet-dbus-perl_1.1.0-4build2_amd64.deb ...\n",
      "Unpacking libnet-dbus-perl (1.1.0-4build2) ...\n",
      "Selecting previously unselected package libtie-ixhash-perl.\n",
      "Preparing to unpack .../39-libtie-ixhash-perl_1.23-2_all.deb ...\n",
      "Unpacking libtie-ixhash-perl (1.23-2) ...\n",
      "Selecting previously unselected package libu2f-udev.\n",
      "Preparing to unpack .../40-libu2f-udev_1.1.4-1ubuntu0.1_all.deb ...\n",
      "Unpacking libu2f-udev (1.1.4-1ubuntu0.1) ...\n",
      "Selecting previously unselected package libvulkan1:amd64.\n",
      "Preparing to unpack .../41-libvulkan1_1.1.70+dfsg1-1ubuntu0.18.04.1_amd64.deb ...\n",
      "Unpacking libvulkan1:amd64 (1.1.70+dfsg1-1ubuntu0.18.04.1) ...\n",
      "Selecting previously unselected package libx11-protocol-perl.\n",
      "Preparing to unpack .../42-libx11-protocol-perl_0.56-7_all.deb ...\n",
      "Unpacking libx11-protocol-perl (0.56-7) ...\n",
      "Selecting previously unselected package libxml-xpathengine-perl.\n",
      "Preparing to unpack .../43-libxml-xpathengine-perl_0.14-1_all.deb ...\n",
      "Unpacking libxml-xpathengine-perl (0.14-1) ...\n",
      "Selecting previously unselected package libauthen-sasl-perl.\n",
      "Preparing to unpack .../44-libauthen-sasl-perl_2.1600-1_all.deb ...\n",
      "Unpacking libauthen-sasl-perl (2.1600-1) ...\n",
      "libhtml-tagset-perl (3.20-3) 설정하는 중입니다 ...\n",
      "libvulkan1:amd64 (1.1.70+dfsg1-1ubuntu0.18.04.1) 설정하는 중입니다 ...\n",
      "libtry-tiny-perl (0.30-1) 설정하는 중입니다 ...\n",
      "libfont-afm-perl (1.20-2) 설정하는 중입니다 ...\n",
      "Processing triggers for mime-support (3.60ubuntu1) ...\n",
      "libencode-locale-perl (1.05-1) 설정하는 중입니다 ...\n"
     ]
    },
    {
     "name": "stdout",
     "output_type": "stream",
     "text": [
      "libtimedate-perl (2.3000-2) 설정하는 중입니다 ...\n",
      "perl-openssl-defaults:amd64 (3build1) 설정하는 중입니다 ...\n",
      "libipc-system-simple-perl (1.25-4) 설정하는 중입니다 ...\n",
      "libfile-basedir-perl (0.07-1) 설정하는 중입니다 ...\n",
      "libio-html-perl (1.001-1) 설정하는 중입니다 ...\n",
      "libtie-ixhash-perl (1.23-2) 설정하는 중입니다 ...\n",
      "libu2f-udev (1.1.4-1ubuntu0.1) 설정하는 중입니다 ...\n",
      "fonts-liberation (1:1.07.4-7~18.04.1) 설정하는 중입니다 ...\n",
      "liblwp-mediatypes-perl (6.02-1) 설정하는 중입니다 ...\n",
      "Processing triggers for libc-bin (2.27-3ubuntu1) ...\n",
      "liburi-perl (1.73-1) 설정하는 중입니다 ...\n",
      "libtext-iconv-perl (1.7-5build6) 설정하는 중입니다 ...\n",
      "libdata-dump-perl (1.23-1) 설정하는 중입니다 ...\n",
      "libhtml-parser-perl (3.72-3build1) 설정하는 중입니다 ...\n",
      "libx11-protocol-perl (0.56-7) 설정하는 중입니다 ...\n",
      "libxml-xpathengine-perl (0.14-1) 설정하는 중입니다 ...\n",
      "Processing triggers for man-db (2.8.3-2ubuntu0.1) ...\n",
      "libnet-http-perl (6.17-1) 설정하는 중입니다 ...\n",
      "xdg-utils (1.1.2-1ubuntu2.5) 설정하는 중입니다 ...\n",
      "libwww-robotrules-perl (6.01-1) 설정하는 중입니다 ...\n",
      "libauthen-sasl-perl (2.1600-1) 설정하는 중입니다 ...\n",
      "Processing triggers for fontconfig (2.12.6-0ubuntu2) ...\n",
      "libhttp-date-perl (6.02-1) 설정하는 중입니다 ...\n",
      "libnet-ssleay-perl (1.84-1ubuntu0.2) 설정하는 중입니다 ...\n",
      "libio-socket-ssl-perl (2.060-3~ubuntu18.04.1) 설정하는 중입니다 ...\n",
      "libhtml-tree-perl (5.07-1) 설정하는 중입니다 ...\n",
      "libfile-desktopentry-perl (0.22-1) 설정하는 중입니다 ...\n",
      "libfile-listing-perl (6.04-1) 설정하는 중입니다 ...\n",
      "libhttp-message-perl (6.14-1) 설정하는 중입니다 ...\n",
      "google-chrome-stable (105.0.5195.102-1) 설정하는 중입니다 ...\n",
      "update-alternatives: using /usr/bin/google-chrome-stable to provide /usr/bin/x-www-browser (x-www-browser) in auto mode\n",
      "update-alternatives: using /usr/bin/google-chrome-stable to provide /usr/bin/gnome-www-browser (gnome-www-browser) in auto mode\n",
      "update-alternatives: using /usr/bin/google-chrome-stable to provide /usr/bin/google-chrome (google-chrome) in auto mode\n",
      "libfile-mimeinfo-perl (0.28-1) 설정하는 중입니다 ...\n",
      "libhttp-negotiate-perl (6.00-2) 설정하는 중입니다 ...\n",
      "libnet-smtp-ssl-perl (1.04-1) 설정하는 중입니다 ...\n",
      "libhtml-format-perl (2.12-1) 설정하는 중입니다 ...\n",
      "libhttp-cookies-perl (6.04-1) 설정하는 중입니다 ...\n",
      "libhttp-daemon-perl (6.01-1ubuntu0.1) 설정하는 중입니다 ...\n",
      "libhtml-form-perl (6.03-1) 설정하는 중입니다 ...\n",
      "libmailtools-perl (2.18-1) 설정하는 중입니다 ...\n",
      "libwww-perl (6.31-1ubuntu0.1) 설정하는 중입니다 ...\n",
      "liblwp-protocol-https-perl (6.07-2) 설정하는 중입니다 ...\n",
      "libxml-parser-perl (2.44-2build3) 설정하는 중입니다 ...\n",
      "libxml-twig-perl (1:3.50-1) 설정하는 중입니다 ...\n",
      "libnet-dbus-perl (1.1.0-4build2) 설정하는 중입니다 ...\n",
      "W: Target Packages (main/binary-amd64/Packages) is configured multiple times in /etc/apt/sources.list.d/google.list:1 and /etc/apt/sources.list.d/google.list:2\n",
      "W: Target Packages (main/binary-all/Packages) is configured multiple times in /etc/apt/sources.list.d/google.list:1 and /etc/apt/sources.list.d/google.list:2\n"
     ]
    }
   ],
   "source": [
    "!apt-get install google-chrome-stable -y"
   ]
  },
  {
   "cell_type": "code",
   "execution_count": 9,
   "metadata": {},
   "outputs": [
    {
     "name": "stdout",
     "output_type": "stream",
     "text": [
      "Google Chrome 105.0.5195.102 \r\n"
     ]
    }
   ],
   "source": [
    "!google-chrome --version"
   ]
  },
  {
   "cell_type": "code",
   "execution_count": 10,
   "metadata": {},
   "outputs": [
    {
     "name": "stdout",
     "output_type": "stream",
     "text": [
      "--2022-09-12 11:22:21--  https://chromedriver.storage.googleapis.com/88.0.4324.96/chromedriver_linux64.zip\n",
      "Resolving chromedriver.storage.googleapis.com (chromedriver.storage.googleapis.com)... 108.177.125.128, 2404:6800:4008:c15::80\n",
      "접속 chromedriver.storage.googleapis.com (chromedriver.storage.googleapis.com)|108.177.125.128|:443... 접속됨.\n",
      "HTTP request sent, awaiting response... 200 OK\n",
      "Length: 5685461 (5.4M) [application/zip]\n",
      "Saving to: ‘chromedriver_linux64.zip’\n",
      "\n",
      "chromedriver_linux6 100%[===================>]   5.42M  10.6MB/s    in 0.5s    \n",
      "\n",
      "2022-09-12 11:22:21 (10.6 MB/s) - ‘chromedriver_linux64.zip’ saved [5685461/5685461]\n",
      "\n"
     ]
    }
   ],
   "source": [
    "!wget -N https://chromedriver.storage.googleapis.com/88.0.4324.96/chromedriver_linux64.zip"
   ]
  },
  {
   "cell_type": "code",
   "execution_count": 11,
   "metadata": {},
   "outputs": [
    {
     "name": "stdout",
     "output_type": "stream",
     "text": [
      "패키지 목록을 읽는 중입니다... 완료%\n",
      "의존성 트리를 만드는 중입니다       \n",
      "상태 정보를 읽는 중입니다... 완료\n",
      "다음 패키지들을 업그레이드:\n",
      "  unzip\n",
      "1개 업그레이드, 0개 새로 설치, 0개 제거, 267개 업그레이드 안 함.\n",
      "168 k바이트 아카이브를 받아야 합니다.\n",
      "이 작업 후 9,216 바이트의 디스크 공간을 더 사용하게 됩니다.\n",
      "받기:1 http://ap-northeast-2.ec2.archive.ubuntu.com/ubuntu bionic-updates/main amd64 unzip amd64 6.0-21ubuntu1.1 [168 kB]\n",
      "0초에 168 kB 받음 (9,365 kB/s)    \n",
      "debconf: 프론트엔드를 초기화할 수 없음: Dialog\n",
      "debconf: (dialog나 그와 비슷한 프로그램을 설치하지 않았으므로, 다이얼로그 프론트엔드는 사용할 수 없습니다. at /usr/share/perl5/Debconf/FrontEnd/Dialog.pm line 76, <> line 1.)\n",
      "debconf: 다음 프론트엔드를 대신 사용: Readline\n",
      "W: Target Packages (main/binary-amd64/Packages) is configured multiple times in /etc/apt/sources.list.d/google-chrome.list:3 and /etc/apt/sources.list.d/google.list:1\n",
      "W: Target Packages (main/binary-all/Packages) is configured multiple times in /etc/apt/sources.list.d/google-chrome.list:3 and /etc/apt/sources.list.d/google.list:1\n",
      "W: Target Packages (main/binary-amd64/Packages) is configured multiple times in /etc/apt/sources.list.d/google-chrome.list:3 and /etc/apt/sources.list.d/google.list:2\n",
      "W: Target Packages (main/binary-all/Packages) is configured multiple times in /etc/apt/sources.list.d/google-chrome.list:3 and /etc/apt/sources.list.d/google.list:2\n",
      "(데이터베이스 읽는중 ... 현재 98645개의 파일과 디렉터리가 설치되어 있습니다.)\n",
      "Preparing to unpack .../unzip_6.0-21ubuntu1.1_amd64.deb ...\n",
      "Unpacking unzip (6.0-21ubuntu1.1) over (6.0-21ubuntu1) ...\n",
      "Processing triggers for mime-support (3.60ubuntu1) ...\n",
      "unzip (6.0-21ubuntu1.1) 설정하는 중입니다 ...\n",
      "Processing triggers for man-db (2.8.3-2ubuntu0.1) ...\n",
      "W: Target Packages (main/binary-amd64/Packages) is configured multiple times in /etc/apt/sources.list.d/google-chrome.list:3 and /etc/apt/sources.list.d/google.list:1\n",
      "W: Target Packages (main/binary-all/Packages) is configured multiple times in /etc/apt/sources.list.d/google-chrome.list:3 and /etc/apt/sources.list.d/google.list:1\n",
      "W: Target Packages (main/binary-amd64/Packages) is configured multiple times in /etc/apt/sources.list.d/google-chrome.list:3 and /etc/apt/sources.list.d/google.list:2\n",
      "W: Target Packages (main/binary-all/Packages) is configured multiple times in /etc/apt/sources.list.d/google-chrome.list:3 and /etc/apt/sources.list.d/google.list:2\n"
     ]
    }
   ],
   "source": [
    "!apt-get install unzip -y"
   ]
  },
  {
   "cell_type": "code",
   "execution_count": 12,
   "metadata": {},
   "outputs": [
    {
     "name": "stdout",
     "output_type": "stream",
     "text": [
      "Archive:  chromedriver_linux64.zip\n",
      "  inflating: chromedriver            \n"
     ]
    }
   ],
   "source": [
    "!unzip chromedriver_linux64.zip"
   ]
  },
  {
   "cell_type": "code",
   "execution_count": 13,
   "metadata": {},
   "outputs": [
    {
     "name": "stdout",
     "output_type": "stream",
     "text": [
      "\u001b[33mWARNING: Ignoring invalid distribution -ensorflow (/usr/local/lib/python3.7/site-packages)\u001b[0m\u001b[33m\n",
      "\u001b[0m\u001b[33mWARNING: Ignoring invalid distribution -ensorflow (/usr/local/lib/python3.7/site-packages)\u001b[0m\u001b[33m\n",
      "\u001b[0mRequirement already satisfied: pip in /usr/local/lib/python3.7/site-packages (22.2.2)\n",
      "\u001b[33mWARNING: Ignoring invalid distribution -ensorflow (/usr/local/lib/python3.7/site-packages)\u001b[0m\u001b[33m\n",
      "\u001b[0m\u001b[33mWARNING: Running pip as the 'root' user can result in broken permissions and conflicting behaviour with the system package manager. It is recommended to use a virtual environment instead: https://pip.pypa.io/warnings/venv\u001b[0m\u001b[33m\n",
      "\u001b[0m\u001b[33mWARNING: Ignoring invalid distribution -ensorflow (/usr/local/lib/python3.7/site-packages)\u001b[0m\u001b[33m\n",
      "\u001b[0m\u001b[33mWARNING: Ignoring invalid distribution -ensorflow (/usr/local/lib/python3.7/site-packages)\u001b[0m\u001b[33m\n",
      "\u001b[0m\u001b[33mWARNING: Ignoring invalid distribution -ensorflow (/usr/local/lib/python3.7/site-packages)\u001b[0m\u001b[33m\n",
      "\u001b[0m"
     ]
    }
   ],
   "source": [
    "!python3 -m pip install --upgrade pip"
   ]
  },
  {
   "cell_type": "code",
   "execution_count": 15,
   "metadata": {},
   "outputs": [
    {
     "name": "stdout",
     "output_type": "stream",
     "text": [
      "패키지 목록을 읽는 중입니다... 완료%\n",
      "의존성 트리를 만드는 중입니다       \n",
      "상태 정보를 읽는 중입니다... 완료\n",
      "다음의 추가 패키지가 설치될 것입니다 :\n",
      "  libxfont2 libxkbfile1 x11-xkb-utils xserver-common\n",
      "다음 *새로운* 패키지들을 설치:\n",
      "  libxfont2 libxkbfile1 x11-xkb-utils xserver-common xvfb\n",
      "0개 업그레이드, 5개 새로 설치, 0개 제거, 267개 업그레이드 안 함.\n",
      "1,128 k바이트 아카이브를 받아야 합니다.\n",
      "이 작업 후 3,372 k바이트의 디스크 공간을 더 사용하게 됩니다.\n",
      "받기:1 http://ap-northeast-2.ec2.archive.ubuntu.com/ubuntu bionic/main amd64 libxfont2 amd64 1:2.0.3-1 [91.7 kB]\n",
      "받기:2 http://ap-northeast-2.ec2.archive.ubuntu.com/ubuntu bionic/main amd64 libxkbfile1 amd64 1:1.0.9-2 [64.6 kB]\n",
      "받기:3 http://ap-northeast-2.ec2.archive.ubuntu.com/ubuntu bionic-updates/main amd64 x11-xkb-utils amd64 7.7+3ubuntu0.18.04.1 [160 kB]\n",
      "받기:4 http://ap-northeast-2.ec2.archive.ubuntu.com/ubuntu bionic-updates/main amd64 xserver-common all 2:1.19.6-1ubuntu4.11 [26.9 kB]\n",
      "받기:5 http://ap-northeast-2.ec2.archive.ubuntu.com/ubuntu bionic-updates/universe amd64 xvfb amd64 2:1.19.6-1ubuntu4.11 [785 kB]\n",
      "1초에 1,128 kB 받음 (848 kB/s)               \n",
      "debconf: 프론트엔드를 초기화할 수 없음: Dialog\n",
      "debconf: (dialog나 그와 비슷한 프로그램을 설치하지 않았으므로, 다이얼로그 프론트엔드는 사용할 수 없습니다. at /usr/share/perl5/Debconf/FrontEnd/Dialog.pm line 76, <> line 5.)\n",
      "debconf: 다음 프론트엔드를 대신 사용: Readline\n",
      "W: Target Packages (main/binary-amd64/Packages) is configured multiple times in /etc/apt/sources.list.d/google-chrome.list:3 and /etc/apt/sources.list.d/google.list:1\n",
      "W: Target Packages (main/binary-all/Packages) is configured multiple times in /etc/apt/sources.list.d/google-chrome.list:3 and /etc/apt/sources.list.d/google.list:1\n",
      "W: Target Packages (main/binary-amd64/Packages) is configured multiple times in /etc/apt/sources.list.d/google-chrome.list:3 and /etc/apt/sources.list.d/google.list:2\n",
      "W: Target Packages (main/binary-all/Packages) is configured multiple times in /etc/apt/sources.list.d/google-chrome.list:3 and /etc/apt/sources.list.d/google.list:2\n",
      "Selecting previously unselected package libxfont2:amd64.\n",
      "(데이터베이스 읽는중 ... 현재 98645개의 파일과 디렉터리가 설치되어 있습니다.)\n",
      "Preparing to unpack .../libxfont2_1%3a2.0.3-1_amd64.deb ...\n",
      "Unpacking libxfont2:amd64 (1:2.0.3-1) ...\n",
      "Selecting previously unselected package libxkbfile1:amd64.\n",
      "Preparing to unpack .../libxkbfile1_1%3a1.0.9-2_amd64.deb ...\n",
      "Unpacking libxkbfile1:amd64 (1:1.0.9-2) ...\n",
      "Selecting previously unselected package x11-xkb-utils.\n",
      "Preparing to unpack .../x11-xkb-utils_7.7+3ubuntu0.18.04.1_amd64.deb ...\n",
      "Unpacking x11-xkb-utils (7.7+3ubuntu0.18.04.1) ...\n",
      "Selecting previously unselected package xserver-common.\n",
      "Preparing to unpack .../xserver-common_2%3a1.19.6-1ubuntu4.11_all.deb ...\n",
      "Unpacking xserver-common (2:1.19.6-1ubuntu4.11) ...\n",
      "Selecting previously unselected package xvfb.\n",
      "Preparing to unpack .../xvfb_2%3a1.19.6-1ubuntu4.11_amd64.deb ...\n",
      "Unpacking xvfb (2:1.19.6-1ubuntu4.11) ...\n",
      "libxkbfile1:amd64 (1:1.0.9-2) 설정하는 중입니다 ...\n",
      "x11-xkb-utils (7.7+3ubuntu0.18.04.1) 설정하는 중입니다 ...\n",
      "libxfont2:amd64 (1:2.0.3-1) 설정하는 중입니다 ...\n",
      "Processing triggers for libc-bin (2.27-3ubuntu1) ...\n",
      "Processing triggers for man-db (2.8.3-2ubuntu0.1) ...\n",
      "xserver-common (2:1.19.6-1ubuntu4.11) 설정하는 중입니다 ...\n",
      "xvfb (2:1.19.6-1ubuntu4.11) 설정하는 중입니다 ...\n",
      "W: Target Packages (main/binary-amd64/Packages) is configured multiple times in /etc/apt/sources.list.d/google-chrome.list:3 and /etc/apt/sources.list.d/google.list:1\n",
      "W: Target Packages (main/binary-all/Packages) is configured multiple times in /etc/apt/sources.list.d/google-chrome.list:3 and /etc/apt/sources.list.d/google.list:1\n",
      "W: Target Packages (main/binary-amd64/Packages) is configured multiple times in /etc/apt/sources.list.d/google-chrome.list:3 and /etc/apt/sources.list.d/google.list:2\n",
      "W: Target Packages (main/binary-all/Packages) is configured multiple times in /etc/apt/sources.list.d/google-chrome.list:3 and /etc/apt/sources.list.d/google.list:2\n"
     ]
    }
   ],
   "source": [
    "!apt-get install xvfb -y"
   ]
  },
  {
   "cell_type": "code",
   "execution_count": 16,
   "metadata": {},
   "outputs": [
    {
     "name": "stdout",
     "output_type": "stream",
     "text": [
      "\u001b[33mWARNING: Ignoring invalid distribution -ensorflow (/usr/local/lib/python3.7/site-packages)\u001b[0m\u001b[33m\n",
      "\u001b[0m\u001b[33mWARNING: Ignoring invalid distribution -ensorflow (/usr/local/lib/python3.7/site-packages)\u001b[0m\u001b[33m\n",
      "\u001b[0mCollecting pyvirtualdisplay\n",
      "  Downloading PyVirtualDisplay-3.0-py3-none-any.whl (15 kB)\n",
      "\u001b[33mWARNING: Ignoring invalid distribution -ensorflow (/usr/local/lib/python3.7/site-packages)\u001b[0m\u001b[33m\n",
      "\u001b[0mInstalling collected packages: pyvirtualdisplay\n",
      "\u001b[33mWARNING: Ignoring invalid distribution -ensorflow (/usr/local/lib/python3.7/site-packages)\u001b[0m\u001b[33m\n",
      "\u001b[0mSuccessfully installed pyvirtualdisplay-3.0\n",
      "\u001b[33mWARNING: Running pip as the 'root' user can result in broken permissions and conflicting behaviour with the system package manager. It is recommended to use a virtual environment instead: https://pip.pypa.io/warnings/venv\u001b[0m\u001b[33m\n",
      "\u001b[0m\u001b[33mWARNING: Ignoring invalid distribution -ensorflow (/usr/local/lib/python3.7/site-packages)\u001b[0m\u001b[33m\n",
      "\u001b[0m\u001b[33mWARNING: Ignoring invalid distribution -ensorflow (/usr/local/lib/python3.7/site-packages)\u001b[0m\u001b[33m\n",
      "\u001b[0m\u001b[33mWARNING: Ignoring invalid distribution -ensorflow (/usr/local/lib/python3.7/site-packages)\u001b[0m\u001b[33m\n",
      "\u001b[0m"
     ]
    }
   ],
   "source": [
    "!pip install pyvirtualdisplay"
   ]
  },
  {
   "cell_type": "code",
   "execution_count": 17,
   "metadata": {},
   "outputs": [
    {
     "name": "stdout",
     "output_type": "stream",
     "text": [
      "\u001b[33mWARNING: Ignoring invalid distribution -ensorflow (/usr/local/lib/python3.7/site-packages)\u001b[0m\u001b[33m\n",
      "\u001b[0m\u001b[33mWARNING: Ignoring invalid distribution -ensorflow (/usr/local/lib/python3.7/site-packages)\u001b[0m\u001b[33m\n",
      "\u001b[0mRequirement already satisfied: selenium in /usr/local/lib/python3.7/site-packages (4.1.0)\n",
      "Requirement already satisfied: urllib3[secure]~=1.26 in /usr/local/lib/python3.7/site-packages (from selenium) (1.26.12)\n",
      "Requirement already satisfied: trio-websocket~=0.9 in /usr/local/lib/python3.7/site-packages (from selenium) (0.9.2)\n",
      "Requirement already satisfied: trio~=0.17 in /usr/local/lib/python3.7/site-packages (from selenium) (0.21.0)\n",
      "Requirement already satisfied: sniffio in /usr/local/lib/python3.7/site-packages (from trio~=0.17->selenium) (1.3.0)\n",
      "Requirement already satisfied: idna in /usr/local/lib/python3.7/site-packages (from trio~=0.17->selenium) (2.10)\n",
      "Requirement already satisfied: outcome in /usr/local/lib/python3.7/site-packages (from trio~=0.17->selenium) (1.2.0)\n",
      "Requirement already satisfied: async-generator>=1.9 in /usr/local/lib/python3.7/site-packages (from trio~=0.17->selenium) (1.10)\n",
      "Requirement already satisfied: attrs>=19.2.0 in /usr/local/lib/python3.7/site-packages (from trio~=0.17->selenium) (20.2.0)\n",
      "Requirement already satisfied: sortedcontainers in /usr/local/lib/python3.7/site-packages (from trio~=0.17->selenium) (2.4.0)\n",
      "Requirement already satisfied: wsproto>=0.14 in /usr/local/lib/python3.7/site-packages (from trio-websocket~=0.9->selenium) (1.2.0)\n",
      "Requirement already satisfied: cryptography>=1.3.4 in /usr/local/lib/python3.7/site-packages (from urllib3[secure]~=1.26->selenium) (38.0.1)\n",
      "Requirement already satisfied: certifi in /usr/local/lib/python3.7/site-packages (from urllib3[secure]~=1.26->selenium) (2020.6.20)\n",
      "Requirement already satisfied: urllib3-secure-extra in /usr/local/lib/python3.7/site-packages (from urllib3[secure]~=1.26->selenium) (0.1.0)\n",
      "Requirement already satisfied: pyOpenSSL>=0.14 in /usr/local/lib/python3.7/site-packages (from urllib3[secure]~=1.26->selenium) (22.0.0)\n",
      "Requirement already satisfied: cffi>=1.12 in /usr/local/lib/python3.7/site-packages (from cryptography>=1.3.4->urllib3[secure]~=1.26->selenium) (1.14.3)\n",
      "Requirement already satisfied: h11<1,>=0.9.0 in /usr/local/lib/python3.7/site-packages (from wsproto>=0.14->trio-websocket~=0.9->selenium) (0.13.0)\n",
      "Requirement already satisfied: pycparser in /usr/local/lib/python3.7/site-packages (from cffi>=1.12->cryptography>=1.3.4->urllib3[secure]~=1.26->selenium) (2.20)\n",
      "Requirement already satisfied: typing-extensions in /usr/local/lib/python3.7/site-packages (from h11<1,>=0.9.0->wsproto>=0.14->trio-websocket~=0.9->selenium) (3.7.4.3)\n",
      "\u001b[33mWARNING: Ignoring invalid distribution -ensorflow (/usr/local/lib/python3.7/site-packages)\u001b[0m\u001b[33m\n",
      "\u001b[0m\u001b[33mWARNING: Running pip as the 'root' user can result in broken permissions and conflicting behaviour with the system package manager. It is recommended to use a virtual environment instead: https://pip.pypa.io/warnings/venv\u001b[0m\u001b[33m\n",
      "\u001b[0m\u001b[33mWARNING: Ignoring invalid distribution -ensorflow (/usr/local/lib/python3.7/site-packages)\u001b[0m\u001b[33m\n",
      "\u001b[0m\u001b[33mWARNING: Ignoring invalid distribution -ensorflow (/usr/local/lib/python3.7/site-packages)\u001b[0m\u001b[33m\n",
      "\u001b[0m\u001b[33mWARNING: Ignoring invalid distribution -ensorflow (/usr/local/lib/python3.7/site-packages)\u001b[0m\u001b[33m\n",
      "\u001b[0m"
     ]
    }
   ],
   "source": [
    "!pip install selenium"
   ]
  },
  {
   "cell_type": "code",
   "execution_count": 18,
   "metadata": {},
   "outputs": [],
   "source": [
    "from selenium import webdriver\n",
    "\n",
    "user_agent = 'Mozilla/5.0 (X11; Linux x86_64) AppleWebKit/537.36 (KHTML, like Gecko) Chrome/60.0.3112.50 Safari/537.36'"
   ]
  },
  {
   "cell_type": "code",
   "execution_count": 22,
   "metadata": {},
   "outputs": [
    {
     "name": "stderr",
     "output_type": "stream",
     "text": [
      "/usr/local/lib/python3.7/site-packages/ipykernel_launcher.py:7: DeprecationWarning: executable_path has been deprecated, please pass in a Service object\n",
      "  import sys\n"
     ]
    },
    {
     "ename": "WebDriverException",
     "evalue": "Message: 'chromedriver' executable may have wrong permissions. Please see https://chromedriver.chromium.org/home\n",
     "output_type": "error",
     "traceback": [
      "\u001b[0;31m---------------------------------------------------------------------------\u001b[0m",
      "\u001b[0;31mPermissionError\u001b[0m                           Traceback (most recent call last)",
      "\u001b[0;32m/usr/local/lib/python3.7/site-packages/selenium/webdriver/common/service.py\u001b[0m in \u001b[0;36mstart\u001b[0;34m(self)\u001b[0m\n\u001b[1;32m     75\u001b[0m                                             \u001b[0mstdin\u001b[0m\u001b[0;34m=\u001b[0m\u001b[0mPIPE\u001b[0m\u001b[0;34m,\u001b[0m\u001b[0;34m\u001b[0m\u001b[0;34m\u001b[0m\u001b[0m\n\u001b[0;32m---> 76\u001b[0;31m                                             creationflags=self.creationflags)\n\u001b[0m\u001b[1;32m     77\u001b[0m         \u001b[0;32mexcept\u001b[0m \u001b[0mTypeError\u001b[0m\u001b[0;34m:\u001b[0m\u001b[0;34m\u001b[0m\u001b[0;34m\u001b[0m\u001b[0m\n",
      "\u001b[0;32m/usr/local/lib/python3.7/subprocess.py\u001b[0m in \u001b[0;36m__init__\u001b[0;34m(self, args, bufsize, executable, stdin, stdout, stderr, preexec_fn, close_fds, shell, cwd, env, universal_newlines, startupinfo, creationflags, restore_signals, start_new_session, pass_fds, encoding, errors, text)\u001b[0m\n\u001b[1;32m    774\u001b[0m                                 \u001b[0merrread\u001b[0m\u001b[0;34m,\u001b[0m \u001b[0merrwrite\u001b[0m\u001b[0;34m,\u001b[0m\u001b[0;34m\u001b[0m\u001b[0;34m\u001b[0m\u001b[0m\n\u001b[0;32m--> 775\u001b[0;31m                                 restore_signals, start_new_session)\n\u001b[0m\u001b[1;32m    776\u001b[0m         \u001b[0;32mexcept\u001b[0m\u001b[0;34m:\u001b[0m\u001b[0;34m\u001b[0m\u001b[0;34m\u001b[0m\u001b[0m\n",
      "\u001b[0;32m/usr/local/lib/python3.7/subprocess.py\u001b[0m in \u001b[0;36m_execute_child\u001b[0;34m(self, args, executable, preexec_fn, close_fds, pass_fds, cwd, env, startupinfo, creationflags, shell, p2cread, p2cwrite, c2pread, c2pwrite, errread, errwrite, restore_signals, start_new_session)\u001b[0m\n\u001b[1;32m   1521\u001b[0m                             \u001b[0merr_msg\u001b[0m \u001b[0;34m+=\u001b[0m \u001b[0;34m': '\u001b[0m \u001b[0;34m+\u001b[0m \u001b[0mrepr\u001b[0m\u001b[0;34m(\u001b[0m\u001b[0merr_filename\u001b[0m\u001b[0;34m)\u001b[0m\u001b[0;34m\u001b[0m\u001b[0;34m\u001b[0m\u001b[0m\n\u001b[0;32m-> 1522\u001b[0;31m                     \u001b[0;32mraise\u001b[0m \u001b[0mchild_exception_type\u001b[0m\u001b[0;34m(\u001b[0m\u001b[0merrno_num\u001b[0m\u001b[0;34m,\u001b[0m \u001b[0merr_msg\u001b[0m\u001b[0;34m,\u001b[0m \u001b[0merr_filename\u001b[0m\u001b[0;34m)\u001b[0m\u001b[0;34m\u001b[0m\u001b[0;34m\u001b[0m\u001b[0m\n\u001b[0m\u001b[1;32m   1523\u001b[0m                 \u001b[0;32mraise\u001b[0m \u001b[0mchild_exception_type\u001b[0m\u001b[0;34m(\u001b[0m\u001b[0merr_msg\u001b[0m\u001b[0;34m)\u001b[0m\u001b[0;34m\u001b[0m\u001b[0;34m\u001b[0m\u001b[0m\n",
      "\u001b[0;31mPermissionError\u001b[0m: [Errno 13] Permission denied: '/workspace/AI_Study/Selenium/chromedriver'",
      "\nDuring handling of the above exception, another exception occurred:\n",
      "\u001b[0;31mWebDriverException\u001b[0m                        Traceback (most recent call last)",
      "\u001b[0;32m<ipython-input-22-ed6be2b7e3a1>\u001b[0m in \u001b[0;36m<module>\u001b[0;34m\u001b[0m\n\u001b[1;32m      5\u001b[0m \u001b[0moptions\u001b[0m\u001b[0;34m.\u001b[0m\u001b[0madd_argument\u001b[0m\u001b[0;34m(\u001b[0m\u001b[0;34m'user-agent={0}'\u001b[0m\u001b[0;34m.\u001b[0m\u001b[0mformat\u001b[0m\u001b[0;34m(\u001b[0m\u001b[0muser_agent\u001b[0m\u001b[0;34m)\u001b[0m\u001b[0;34m)\u001b[0m\u001b[0;34m\u001b[0m\u001b[0;34m\u001b[0m\u001b[0m\n\u001b[1;32m      6\u001b[0m \u001b[0;31m#driver = webdriver.Chrome('./chromedriver',options=options)\u001b[0m\u001b[0;34m\u001b[0m\u001b[0;34m\u001b[0m\u001b[0;34m\u001b[0m\u001b[0m\n\u001b[0;32m----> 7\u001b[0;31m \u001b[0mdriver\u001b[0m \u001b[0;34m=\u001b[0m \u001b[0mwebdriver\u001b[0m\u001b[0;34m.\u001b[0m\u001b[0mChrome\u001b[0m\u001b[0;34m(\u001b[0m\u001b[0;34m'/workspace/AI_Study/Selenium/chromedriver'\u001b[0m\u001b[0;34m,\u001b[0m\u001b[0moptions\u001b[0m\u001b[0;34m=\u001b[0m\u001b[0moptions\u001b[0m\u001b[0;34m)\u001b[0m\u001b[0;34m\u001b[0m\u001b[0;34m\u001b[0m\u001b[0m\n\u001b[0m",
      "\u001b[0;32m/usr/local/lib/python3.7/site-packages/selenium/webdriver/chrome/webdriver.py\u001b[0m in \u001b[0;36m__init__\u001b[0;34m(self, executable_path, port, options, service_args, desired_capabilities, service_log_path, chrome_options, service, keep_alive)\u001b[0m\n\u001b[1;32m     71\u001b[0m                                         \u001b[0mport\u001b[0m\u001b[0;34m,\u001b[0m \u001b[0moptions\u001b[0m\u001b[0;34m,\u001b[0m\u001b[0;34m\u001b[0m\u001b[0;34m\u001b[0m\u001b[0m\n\u001b[1;32m     72\u001b[0m                                         \u001b[0mservice_args\u001b[0m\u001b[0;34m,\u001b[0m \u001b[0mdesired_capabilities\u001b[0m\u001b[0;34m,\u001b[0m\u001b[0;34m\u001b[0m\u001b[0;34m\u001b[0m\u001b[0m\n\u001b[0;32m---> 73\u001b[0;31m                                         service_log_path, service, keep_alive)\n\u001b[0m",
      "\u001b[0;32m/usr/local/lib/python3.7/site-packages/selenium/webdriver/chromium/webdriver.py\u001b[0m in \u001b[0;36m__init__\u001b[0;34m(self, browser_name, vendor_prefix, port, options, service_args, desired_capabilities, service_log_path, service, keep_alive)\u001b[0m\n\u001b[1;32m     88\u001b[0m \u001b[0;34m\u001b[0m\u001b[0m\n\u001b[1;32m     89\u001b[0m         \u001b[0mself\u001b[0m\u001b[0;34m.\u001b[0m\u001b[0mservice\u001b[0m \u001b[0;34m=\u001b[0m \u001b[0mservice\u001b[0m\u001b[0;34m\u001b[0m\u001b[0;34m\u001b[0m\u001b[0m\n\u001b[0;32m---> 90\u001b[0;31m         \u001b[0mself\u001b[0m\u001b[0;34m.\u001b[0m\u001b[0mservice\u001b[0m\u001b[0;34m.\u001b[0m\u001b[0mstart\u001b[0m\u001b[0;34m(\u001b[0m\u001b[0;34m)\u001b[0m\u001b[0;34m\u001b[0m\u001b[0;34m\u001b[0m\u001b[0m\n\u001b[0m\u001b[1;32m     91\u001b[0m \u001b[0;34m\u001b[0m\u001b[0m\n\u001b[1;32m     92\u001b[0m         \u001b[0;32mtry\u001b[0m\u001b[0;34m:\u001b[0m\u001b[0;34m\u001b[0m\u001b[0;34m\u001b[0m\u001b[0m\n",
      "\u001b[0;32m/usr/local/lib/python3.7/site-packages/selenium/webdriver/common/service.py\u001b[0m in \u001b[0;36mstart\u001b[0;34m(self)\u001b[0m\n\u001b[1;32m     86\u001b[0m                 raise WebDriverException(\n\u001b[1;32m     87\u001b[0m                     \"'%s' executable may have wrong permissions. %s\" % (\n\u001b[0;32m---> 88\u001b[0;31m                         os.path.basename(self.path), self.start_error_message)\n\u001b[0m\u001b[1;32m     89\u001b[0m                 )\n\u001b[1;32m     90\u001b[0m             \u001b[0;32melse\u001b[0m\u001b[0;34m:\u001b[0m\u001b[0;34m\u001b[0m\u001b[0;34m\u001b[0m\u001b[0m\n",
      "\u001b[0;31mWebDriverException\u001b[0m: Message: 'chromedriver' executable may have wrong permissions. Please see https://chromedriver.chromium.org/home\n"
     ]
    }
   ],
   "source": [
    "options = webdriver.ChromeOptions()\n",
    "options.add_argument('--headless')\n",
    "options.add_argument('--no-sandbox')\n",
    "options.add_argument('--disable-dev-shm-usage')\n",
    "options.add_argument('user-agent={0}'.format(user_agent))\n",
    "#driver = webdriver.Chrome('./chromedriver',options=options)\n",
    "driver = webdriver.Chrome('/workspace/AI_Study/Selenium/chromedriver',options=options)"
   ]
  },
  {
   "cell_type": "code",
   "execution_count": 21,
   "metadata": {},
   "outputs": [
    {
     "name": "stdout",
     "output_type": "stream",
     "text": [
      "/workspace/AI_Study/Selenium\r\n"
     ]
    }
   ],
   "source": [
    "!pwd"
   ]
  },
  {
   "cell_type": "code",
   "execution_count": null,
   "metadata": {},
   "outputs": [],
   "source": []
  }
 ],
 "metadata": {
  "kernelspec": {
   "display_name": "Python 3",
   "language": "python",
   "name": "python3"
  },
  "language_info": {
   "codemirror_mode": {
    "name": "ipython",
    "version": 3
   },
   "file_extension": ".py",
   "mimetype": "text/x-python",
   "name": "python",
   "nbconvert_exporter": "python",
   "pygments_lexer": "ipython3",
   "version": "3.7.4"
  }
 },
 "nbformat": 4,
 "nbformat_minor": 4
}
