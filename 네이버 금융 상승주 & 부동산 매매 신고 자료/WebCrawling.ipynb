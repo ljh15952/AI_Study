{
 "cells": [
  {
   "cell_type": "code",
   "execution_count": 1,
   "metadata": {},
   "outputs": [],
   "source": [
    "# 공공 데이터 포털 API 인증키 발급\n",
    "# https://www.data.go.kr/data/15058017/openapi.do"
   ]
  },
  {
   "cell_type": "code",
   "execution_count": 2,
   "metadata": {},
   "outputs": [],
   "source": [
    "import requests\n",
    "from bs4 import BeautifulSoup"
   ]
  },
  {
   "cell_type": "code",
   "execution_count": 3,
   "metadata": {},
   "outputs": [],
   "source": [
    "# 네이버 금융의 TOP 종목을 가져올 것\n",
    "url = 'https://finance.naver.com'\n",
    "res = requests.get(url).content\n",
    "soup = BeautifulSoup(res,'html.parser')"
   ]
  },
  {
   "cell_type": "code",
   "execution_count": 4,
   "metadata": {},
   "outputs": [
    {
     "name": "stdout",
     "output_type": "stream",
     "text": [
      "<tbody id=\"_topItems1\">\n",
      "<tr class=\"up\">\n",
      "<th scope=\"row\"><a href=\"/item/main.naver?code=096300\" onclick=\"clickcr(this, 'spe.slist', '096300', '1', event);\">베트남개발1</a></th>\n",
      "<td>235</td>\n",
      "<td><em class=\"bu_p bu_pup\"><span class=\"blind\">상승</span></em> 43</td>\n",
      "<td> <em class=\"up\"> +22.40% </em> </td>\n",
      "</tr>\n",
      "<tr class=\"up\">\n",
      "<th scope=\"row\"><a href=\"/item/main.naver?code=252670\" onclick=\"clickcr(this, 'spe.slist', '252670', '2', event);\">KODEX 200선물인버스2X</a></th>\n",
      "<td>3,870</td>\n",
      "<td><em class=\"bu_p bu_pup\"><span class=\"blind\">상승</span></em> 40</td>\n",
      "<td> <em class=\"up\"> +1.04% </em> </td>\n",
      "</tr>\n",
      "<tr class=\"up\">\n",
      "<th scope=\"row\"><a href=\"/item/main.naver?code=251340\" onclick=\"clickcr(this, 'spe.slist', '251340', '3', event);\">KODEX 코스닥150선물인버스</a></th>\n",
      "<td>5,730</td>\n",
      "<td><em class=\"bu_p bu_pup\"><span class=\"blind\">상승</span></em> 50</td>\n",
      "<td> <em class=\"up\"> +0.88% </em> </td>\n",
      "</tr>\n",
      "<tr class=\"down\">\n",
      "<th scope=\"row\"><a href=\"/item/main.naver?code=233740\" onclick=\"clickcr(this, 'spe.slist', '233740', '4', event);\">KODEX 코스닥150레버리지</a></th>\n",
      "<td>6,260</td>\n",
      "<td><em class=\"bu_p bu_pdn\"><span class=\"blind\">하락</span></em> 90</td>\n",
      "<td> <em class=\"down\"> -1.42% </em> </td>\n",
      "</tr>\n",
      "<tr class=\"down\">\n",
      "<th scope=\"row\"><a href=\"/item/main.naver?code=122630\" onclick=\"clickcr(this, 'spe.slist', '122630', '5', event);\">KODEX 레버리지</a></th>\n",
      "<td>11,840</td>\n",
      "<td><em class=\"bu_p bu_pdn\"><span class=\"blind\">하락</span></em> 130</td>\n",
      "<td> <em class=\"down\"> -1.09% </em> </td>\n",
      "</tr>\n",
      "<tr class=\"up\">\n",
      "<th scope=\"row\"><a href=\"/item/main.naver?code=114800\" onclick=\"clickcr(this, 'spe.slist', '114800', '6', event);\">KODEX 인버스</a></th>\n",
      "<td>5,445</td>\n",
      "<td><em class=\"bu_p bu_pup\"><span class=\"blind\">상승</span></em> 25</td>\n",
      "<td> <em class=\"up\"> +0.46% </em> </td>\n",
      "</tr>\n",
      "<tr class=\"up\">\n",
      "<th scope=\"row\"><a href=\"/item/main.naver?code=073570\" onclick=\"clickcr(this, 'spe.slist', '073570', '7', event);\">WI</a></th>\n",
      "<td>2,340</td>\n",
      "<td><em class=\"bu_p bu_pup\"><span class=\"blind\">상승</span></em> 540</td>\n",
      "<td> <em class=\"up\"> +30.00% </em> </td>\n",
      "</tr>\n",
      "<tr class=\"up\">\n",
      "<th scope=\"row\"><a href=\"/item/main.naver?code=052220\" onclick=\"clickcr(this, 'spe.slist', '052220', '8', event);\">iMBC</a></th>\n",
      "<td>4,510</td>\n",
      "<td><em class=\"bu_p bu_pup\"><span class=\"blind\">상승</span></em> 30</td>\n",
      "<td> <em class=\"up\"> +0.67% </em> </td>\n",
      "</tr>\n",
      "<tr class=\"up\">\n",
      "<th scope=\"row\"><a href=\"/item/main.naver?code=252710\" onclick=\"clickcr(this, 'spe.slist', '252710', '9', event);\">TIGER 200선물인버스2X</a></th>\n",
      "<td>4,060</td>\n",
      "<td><em class=\"bu_p bu_pup\"><span class=\"blind\">상승</span></em> 40</td>\n",
      "<td> <em class=\"up\"> +1.00% </em> </td>\n",
      "</tr>\n",
      "<tr class=\"up\">\n",
      "<th scope=\"row\"><a href=\"/item/main.naver?code=091090\" onclick=\"clickcr(this, 'spe.slist', '091090', '10', event);\">세원이앤씨</a></th>\n",
      "<td>925</td>\n",
      "<td><em class=\"bu_p bu_pup\"><span class=\"blind\">상승</span></em> 26</td>\n",
      "<td> <em class=\"up\"> +2.89% </em> </td>\n",
      "</tr>\n",
      "<tr class=\"up\">\n",
      "<th scope=\"row\"><a href=\"/item/main.naver?code=258830\" onclick=\"clickcr(this, 'spe.slist', '258830', '11', event);\">세종메디칼</a></th>\n",
      "<td>5,280</td>\n",
      "<td><em class=\"bu_p bu_pup\"><span class=\"blind\">상승</span></em> 600</td>\n",
      "<td> <em class=\"up\"> +12.82% </em> </td>\n",
      "</tr>\n",
      "<tr class=\"up\">\n",
      "<th scope=\"row\"><a href=\"/item/main.naver?code=056090\" onclick=\"clickcr(this, 'spe.slist', '056090', '12', event);\">이노시스</a></th>\n",
      "<td>1,670</td>\n",
      "<td><em class=\"bu_p bu_pup\"><span class=\"blind\">상승</span></em> 10</td>\n",
      "<td> <em class=\"up\"> +0.60% </em> </td>\n",
      "</tr>\n",
      "<tr class=\"up\">\n",
      "<th scope=\"row\"><a href=\"/item/main.naver?code=005930\" onclick=\"clickcr(this, 'spe.slist', '005930', '13', event);\">삼성전자</a></th>\n",
      "<td>53,100</td>\n",
      "<td><em class=\"bu_p bu_pup\"><span class=\"blind\">상승</span></em> 500</td>\n",
      "<td> <em class=\"up\"> +0.95% </em> </td>\n",
      "</tr>\n",
      "<tr class=\"up\">\n",
      "<th scope=\"row\"><a href=\"/item/main.naver?code=018470\" onclick=\"clickcr(this, 'spe.slist', '018470', '14', event);\">조일알미늄</a></th>\n",
      "<td>2,430</td>\n",
      "<td><em class=\"bu_p bu_pup\"><span class=\"blind\">상승</span></em> 110</td>\n",
      "<td> <em class=\"up\"> +4.74% </em> </td>\n",
      "</tr>\n",
      "<tr class=\"down\">\n",
      "<th scope=\"row\"><a href=\"/item/main.naver?code=036120\" onclick=\"clickcr(this, 'spe.slist', '036120', '15', event);\">SCI평가정보</a></th>\n",
      "<td>4,075</td>\n",
      "<td><em class=\"bu_p bu_pdn\"><span class=\"blind\">하락</span></em> 270</td>\n",
      "<td> <em class=\"down\"> -6.21% </em> </td>\n",
      "</tr>\n",
      "</tbody>\n"
     ]
    }
   ],
   "source": [
    "top_items = soup.find('tbody',{'id':'_topItems1'})\n",
    "print(top_items)"
   ]
  },
  {
   "cell_type": "code",
   "execution_count": 7,
   "metadata": {},
   "outputs": [
    {
     "name": "stdout",
     "output_type": "stream",
     "text": [
      "베트남개발1 235 상승 43   +22.40%  \n",
      "KODEX 200선물인버스2X 3,870 상승 40   +1.04%  \n",
      "KODEX 코스닥150선물인버스 5,730 상승 50   +0.88%  \n",
      "KODEX 코스닥150레버리지 6,260 하락 90   -1.42%  \n",
      "KODEX 레버리지 11,840 하락 130   -1.09%  \n",
      "KODEX 인버스 5,445 상승 25   +0.46%  \n",
      "WI 2,340 상승 540   +30.00%  \n",
      "iMBC 4,510 상승 30   +0.67%  \n",
      "TIGER 200선물인버스2X 4,060 상승 40   +1.00%  \n",
      "세원이앤씨 925 상승 26   +2.89%  \n",
      "세종메디칼 5,280 상승 600   +12.82%  \n",
      "이노시스 1,670 상승 10   +0.60%  \n",
      "삼성전자 53,100 상승 500   +0.95%  \n",
      "조일알미늄 2,430 상승 110   +4.74%  \n",
      "SCI평가정보 4,075 하락 270   -6.21%  \n"
     ]
    }
   ],
   "source": [
    "item_rows = top_items.find_all('tr')\n",
    "\n",
    "for item in item_rows:\n",
    "    item_name = item.find('th').get_text()\n",
    "    item_price = item.find_all('td')[0].get_text()\n",
    "    item_delta_price = item.find_all('td')[1].get_text()\n",
    "    item_delta_percent = item.find_all('td')[2].get_text()\n",
    "    \n",
    "    print(item_name, item_price, item_delta_price, item_delta_percent)"
   ]
  },
  {
   "cell_type": "code",
   "execution_count": 9,
   "metadata": {},
   "outputs": [
    {
     "name": "stdout",
     "output_type": "stream",
     "text": [
      "베트남개발1 : 현재가 235, 어제보다 43 상승, 백분율 변환시 +22.40%\n",
      "KODEX 200선물인버스2X : 현재가 3,870, 어제보다 40 상승, 백분율 변환시 +1.04%\n",
      "KODEX 코스닥150선물인버스 : 현재가 5,730, 어제보다 50 상승, 백분율 변환시 +0.88%\n",
      "KODEX 코스닥150레버리지 : 현재가 6,260, 어제보다 90 하락, 백분율 변환시 -1.42%\n",
      "KODEX 레버리지 : 현재가 11,840, 어제보다 130 하락, 백분율 변환시 -1.09%\n",
      "KODEX 인버스 : 현재가 5,445, 어제보다 25 상승, 백분율 변환시 +0.46%\n",
      "WI : 현재가 2,340, 어제보다 540 상승, 백분율 변환시 +30.00%\n",
      "iMBC : 현재가 4,510, 어제보다 30 상승, 백분율 변환시 +0.67%\n",
      "TIGER 200선물인버스2X : 현재가 4,060, 어제보다 40 상승, 백분율 변환시 +1.00%\n",
      "세원이앤씨 : 현재가 925, 어제보다 26 상승, 백분율 변환시 +2.89%\n",
      "세종메디칼 : 현재가 5,280, 어제보다 600 상승, 백분율 변환시 +12.82%\n",
      "이노시스 : 현재가 1,670, 어제보다 10 상승, 백분율 변환시 +0.60%\n",
      "삼성전자 : 현재가 53,100, 어제보다 500 상승, 백분율 변환시 +0.95%\n",
      "조일알미늄 : 현재가 2,430, 어제보다 110 상승, 백분율 변환시 +4.74%\n",
      "SCI평가정보 : 현재가 4,075, 어제보다 270 하락, 백분율 변환시 -6.21%\n"
     ]
    }
   ],
   "source": [
    "# 문자열 다듬기\n",
    "top_items = soup.find('tbody',{'id':'_topItems1'})\n",
    "item_rows = top_items.find_all('tr')\n",
    "\n",
    "for item in item_rows:\n",
    "    item_name = item.find('th').get_text()\n",
    "    item_price = item.find_all('td')[0].get_text()\n",
    "    item_delta_price = item.find_all('td')[1].get_text()\n",
    "    item_delta_percent = item.find_all('td')[2].get_text().strip()\n",
    "    \n",
    "    print('{} : 현재가 {}, 어제보다 {} {}, 백분율 변환시 {}'.format(\n",
    "        item_name, item_price,\n",
    "        #item_delte_price.split(' ')[1], item_delte_price.split(' ')[0]\n",
    "        item_delta_price[3:], item_delta_price[:2], #상승 865 -> 865, 상승\n",
    "        item_delta_percent))\n"
   ]
  },
  {
   "cell_type": "code",
   "execution_count": 20,
   "metadata": {
    "scrolled": true
   },
   "outputs": [
    {
     "name": "stdout",
     "output_type": "stream",
     "text": [
      "베트남개발1 : 현재가 235, 어제보다 43 상승, 백분율 변환시 +22.40%\n",
      "KODEX 200선물인버스2X : 현재가 3,870, 어제보다 40 상승, 백분율 변환시 +1.04%\n",
      "KODEX 코스닥150선물인버스 : 현재가 5,730, 어제보다 50 상승, 백분율 변환시 +0.88%\n",
      "KODEX 코스닥150레버리지 : 현재가 6,260, 어제보다 90 하락, 백분율 변환시 -1.42%\n",
      "KODEX 레버리지 : 현재가 11,840, 어제보다 130 하락, 백분율 변환시 -1.09%\n",
      "KODEX 인버스 : 현재가 5,445, 어제보다 25 상승, 백분율 변환시 +0.46%\n",
      "WI : 현재가 2,340, 어제보다 540 상승, 백분율 변환시 +30.00%\n",
      "iMBC : 현재가 4,510, 어제보다 30 상승, 백분율 변환시 +0.67%\n",
      "TIGER 200선물인버스2X : 현재가 4,060, 어제보다 40 상승, 백분율 변환시 +1.00%\n",
      "세원이앤씨 : 현재가 925, 어제보다 26 상승, 백분율 변환시 +2.89%\n",
      "세종메디칼 : 현재가 5,280, 어제보다 600 상승, 백분율 변환시 +12.82%\n",
      "이노시스 : 현재가 1,670, 어제보다 10 상승, 백분율 변환시 +0.60%\n",
      "삼성전자 : 현재가 53,100, 어제보다 500 상승, 백분율 변환시 +0.95%\n",
      "조일알미늄 : 현재가 2,430, 어제보다 110 상승, 백분율 변환시 +4.74%\n",
      "SCI평가정보 : 현재가 4,075, 어제보다 270 하락, 백분율 변환시 -6.21%\n",
      "\n",
      "어제보다 상승한 종목은 [ 베트남개발1, KODEX 200선물인버스2X, KODEX 코스닥150선물인버스, KODEX 인버스, WI, iMBC, TIGER 200선물인버스2X, 세원이앤씨, 세종메디칼, 이노시스, 삼성전자, 조일알미늄 ]입니다.\n",
      "어제보다 가장 많이 상승한 종목은 [ WI (+30.0%) ]입니다.\n"
     ]
    }
   ],
   "source": [
    "# 상승 여부 판단\n",
    "top_items = soup.find('tbody',{'id':'_topItems1'})\n",
    "item_rows = top_items.find_all('tr')\n",
    "\n",
    "plus_items = []\n",
    "\n",
    "highest_item = {'top_name': '', 'percent_change':0} # 백분율 변화량이 + 부호인 종목 중 가장 큰 비율\n",
    "\n",
    "for item in item_rows:\n",
    "    item_name = item.find('th').get_text()\n",
    "    item_price = item.find_all('td')[0].get_text()\n",
    "    item_delta_price = item.find_all('td')[1].get_text()\n",
    "    item_delta_percent = item.find_all('td')[2].get_text().strip()\n",
    "    \n",
    "    print('{} : 현재가 {}, 어제보다 {} {}, 백분율 변환시 {}'.format(\n",
    "        item_name, item_price,\n",
    "        #item_delte_price.split(' ')[1], item_delte_price.split(' ')[0]\n",
    "        item_delta_price[3:], item_delta_price[:2], #상승 865 -> 865, 상승\n",
    "        item_delta_percent))\n",
    "    \n",
    "    if item_delta_percent[0] == '+':\n",
    "        plus_items.append(item_name)                    \n",
    "        \n",
    "    # 백분율 변화량 기호가 + 이고 변화량 수치가 기존 가장 큰 증가 비율보다 클 경우\n",
    "    if float(item_delta_percent[1:-1]) > highest_item['percent_change']:\n",
    "        highest_item['top_name'] = item_name\n",
    "        highest_item['percent_change'] = float(item_delta_percent[1:-1])\n",
    "plus_items = ', '.join(plus_items)\n",
    "print('\\n어제보다 상승한 종목은 [ {} ]입니다.'.format(plus_items))\n",
    "print('어제보다 가장 많이 상승한 종목은 [ {} (+{}%) ]입니다.'.format(\n",
    "    highest_item['top_name'], highest_item['percent_change']))"
   ]
  },
  {
   "cell_type": "code",
   "execution_count": null,
   "metadata": {},
   "outputs": [],
   "source": []
  }
 ],
 "metadata": {
  "kernelspec": {
   "display_name": "Python 3",
   "language": "python",
   "name": "python3"
  },
  "language_info": {
   "codemirror_mode": {
    "name": "ipython",
    "version": 3
   },
   "file_extension": ".py",
   "mimetype": "text/x-python",
   "name": "python",
   "nbconvert_exporter": "python",
   "pygments_lexer": "ipython3",
   "version": "3.7.4"
  }
 },
 "nbformat": 4,
 "nbformat_minor": 4
}
