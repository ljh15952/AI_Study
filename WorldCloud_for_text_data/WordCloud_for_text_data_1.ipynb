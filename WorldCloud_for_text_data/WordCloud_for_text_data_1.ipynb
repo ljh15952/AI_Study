{
 "cells": [
  {
   "cell_type": "code",
   "execution_count": null,
   "metadata": {},
   "outputs": [],
   "source": [
    "import requests\n",
    "from urllib.request import urlopen\n",
    "\n",
    "from bs4 import BeautifulSoup # HTTP Response ->   HTML\n",
    "\n",
    "import pandas as pd\n",
    "from datatime import datetime\n",
    "import time\n",
    "import re"
   ]
  },
  {
   "cell_type": "code",
   "execution_count": null,
   "metadata": {},
   "outputs": [],
   "source": [
    "# https://search.naver.com/search.naver?where=news&sm=tab_jum&query=데이터분석\n",
    "# 분석할 주소 주소창에 공백을 두고 복사하면 한글이 안깨짐(아스키코드 처리)"
   ]
  },
  {
   "cell_type": "code",
   "execution_count": null,
   "metadata": {},
   "outputs": [],
   "source": [
    "# 뉴스 검색 결과에서 네이버뉴스 추려내기\n",
    "\n",
    "query = '데이터분석'\n",
    "url = \"https://search.naver.com/search.naver?where=news&query=데이터분석\""
   ]
  },
  {
   "cell_type": "code",
   "execution_count": null,
   "metadata": {},
   "outputs": [],
   "source": []
  }
 ],
 "metadata": {
  "kernelspec": {
   "display_name": "Python 3",
   "language": "python",
   "name": "python3"
  },
  "language_info": {
   "codemirror_mode": {
    "name": "ipython",
    "version": 3
   },
   "file_extension": ".py",
   "mimetype": "text/x-python",
   "name": "python",
   "nbconvert_exporter": "python",
   "pygments_lexer": "ipython3",
   "version": "3.7.4"
  }
 },
 "nbformat": 4,
 "nbformat_minor": 4
}
