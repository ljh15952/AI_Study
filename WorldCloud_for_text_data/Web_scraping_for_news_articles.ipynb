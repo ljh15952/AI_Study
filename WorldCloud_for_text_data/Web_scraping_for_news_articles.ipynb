{
 "cells": [
  {
   "cell_type": "code",
   "execution_count": 1,
   "metadata": {},
   "outputs": [],
   "source": [
    "import requests\n",
    "from urllib.request import urlopen\n",
    "\n",
    "from bs4 import BeautifulSoup # HTTP Response ->   HTML\n",
    "\n",
    "import pandas as pd\n",
    "from datetime import datetime\n",
    "import time\n",
    "import re"
   ]
  },
  {
   "cell_type": "code",
   "execution_count": null,
   "metadata": {},
   "outputs": [],
   "source": [
    "# 따라서 아래와 같이 코드를 수정하여 크롬브라우저에서 \n",
    "# 보내는 요청으로 인식하도록 HTTP Request 에 Header 정보를 추가해주면 된다.\n",
    "# Ctrl+Shift+I -> NetWork Request Header -> user agent\n",
    "from urllib.parse import quote\n",
    "headers = {'User-Agent':'Mozilla/5.0 (X11; Linux x86_64) AppleWebKit/537.36 (KHTML, like Gecko) Chrome/91.0.4472.101 Safari/537.36where: newssm: tab_jumquery: ' + quote('데이터분석')}\n",
    "\n",
    "web_news = requests.get(urls_list[0], headers=headers).content\n",
    "\n",
    "source_news = BeautifulSoup(web_news,'html.parser')\n",
    "\n",
    "source_news"
   ]
  }
 ],
 "metadata": {
  "kernelspec": {
   "display_name": "Python 3",
   "language": "python",
   "name": "python3"
  },
  "language_info": {
   "codemirror_mode": {
    "name": "ipython",
    "version": 3
   },
   "file_extension": ".py",
   "mimetype": "text/x-python",
   "name": "python",
   "nbconvert_exporter": "python",
   "pygments_lexer": "ipython3",
   "version": "3.7.4"
  }
 },
 "nbformat": 4,
 "nbformat_minor": 4
}
