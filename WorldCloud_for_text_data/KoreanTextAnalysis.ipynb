{
 "cells": [
  {
   "cell_type": "code",
   "execution_count": null,
   "metadata": {},
   "outputs": [],
   "source": [
    "!pip install konlpy==0.5.2\n",
    "# konlpy 설치"
   ]
  },
  {
   "cell_type": "code",
   "execution_count": null,
   "metadata": {},
   "outputs": [],
   "source": [
    "# NLTL 설치\n",
    "# Text Processing을 위한 라이브러리인 nltk library(Natural Language Toolkit)를 설치 및 세팅\n",
    "!pip install nltk==3.6.1"
   ]
  },
  {
   "cell_type": "code",
   "execution_count": 1,
   "metadata": {},
   "outputs": [],
   "source": [
    "import nltk"
   ]
  },
  {
   "cell_type": "code",
   "execution_count": 2,
   "metadata": {},
   "outputs": [
    {
     "data": {
      "text/plain": [
       "['NLTK',\n",
       " 'is',\n",
       " 'a',\n",
       " 'leading',\n",
       " 'platform',\n",
       " 'for',\n",
       " 'building',\n",
       " 'Python',\n",
       " 'programs',\n",
       " 'to']"
      ]
     },
     "execution_count": 2,
     "metadata": {},
     "output_type": "execute_result"
    }
   ],
   "source": [
    "# NLTL 테스트\n",
    "# 전처리하고자 하는 문장을 String 변수로 저장한다.\n",
    "sentence = \"NLTK is a leading platform for building Python programs to work with human language data.\"\n",
    "\n",
    "# 각 문장을 토큰화 한 결과를 출력\n",
    "nltk.word_tokenize(sentence)[:10]"
   ]
  },
  {
   "cell_type": "code",
   "execution_count": null,
   "metadata": {},
   "outputs": [],
   "source": [
    "!pip install Jpype1"
   ]
  },
  {
   "cell_type": "code",
   "execution_count": null,
   "metadata": {},
   "outputs": [],
   "source": [
    "!pip install tweepy==3.10.0"
   ]
  },
  {
   "cell_type": "code",
   "execution_count": 3,
   "metadata": {},
   "outputs": [
    {
     "name": "stdout",
     "output_type": "stream",
     "text": [
      "[('아버지', 'Noun'), ('가방', 'Noun'), ('에', 'Josa'), ('들어가다', 'Verb'), ('.', 'Punctuation')]\n"
     ]
    }
   ],
   "source": [
    "# Konlpy 테스트 (라이브러리가 정상적으로 작동하는지 확인)\n",
    "from konlpy.tag import Okt\n",
    "\n",
    "tokenizer = Okt()\n",
    "tokens = tokenizer.pos(\"아버지 가방에 들어가신다.\", norm=True,stem=True)\n",
    "print(tokens)"
   ]
  },
  {
   "cell_type": "code",
   "execution_count": 4,
   "metadata": {},
   "outputs": [],
   "source": [
    "import os, pickle\n",
    "\n",
    "# 파이썬 변수를 pickle 파일로 저장하는 방법\n",
    "# wb = write binary\n",
    "with open('raw_pos_tagged.pkl', 'wb') as f:\n",
    "    pickle.dump(tokens, f)"
   ]
  },
  {
   "cell_type": "code",
   "execution_count": 5,
   "metadata": {},
   "outputs": [
    {
     "name": "stdout",
     "output_type": "stream",
     "text": [
      "[('아버지', 'Noun'), ('가방', 'Noun'), ('에', 'Josa'), ('들어가다', 'Verb'), ('.', 'Punctuation')]\n"
     ]
    }
   ],
   "source": [
    "# pickle 파일로부터 파이썬 변수를 불러오는 방법\n",
    "with open('raw_pos_tagged.pkl','rb') as f:\n",
    "    data = pickle.load(f)\n",
    "    print(data)"
   ]
  },
  {
   "cell_type": "code",
   "execution_count": 6,
   "metadata": {},
   "outputs": [],
   "source": [
    "# 2. 크롤링 데이터 전처리\n",
    "import numpy as np\n",
    "import pandas as pd"
   ]
  },
  {
   "cell_type": "code",
   "execution_count": 9,
   "metadata": {},
   "outputs": [
    {
     "data": {
      "text/html": [
       "<div>\n",
       "<style scoped>\n",
       "    .dataframe tbody tr th:only-of-type {\n",
       "        vertical-align: middle;\n",
       "    }\n",
       "\n",
       "    .dataframe tbody tr th {\n",
       "        vertical-align: top;\n",
       "    }\n",
       "\n",
       "    .dataframe thead th {\n",
       "        text-align: right;\n",
       "    }\n",
       "</style>\n",
       "<table border=\"1\" class=\"dataframe\">\n",
       "  <thead>\n",
       "    <tr style=\"text-align: right;\">\n",
       "      <th></th>\n",
       "      <th>Title</th>\n",
       "      <th>Data</th>\n",
       "      <th>Article</th>\n",
       "      <th>URL</th>\n",
       "      <th>PressCompany</th>\n",
       "    </tr>\n",
       "  </thead>\n",
       "  <tbody>\n",
       "    <tr>\n",
       "      <th>0</th>\n",
       "      <td>ADD \"'열악한 환경' 속 자율주행 위한 데이터 확보\"</td>\n",
       "      <td>2022.08.30. 오전 9:57</td>\n",
       "      <td>\"무인 자율주행차량 설계시 최적의 센서 조합 도출 기대\"(국방과학연구소 제공)(서울...</td>\n",
       "      <td>https://n.news.naver.com/mnews/article/421/000...</td>\n",
       "      <td>뉴스1</td>\n",
       "    </tr>\n",
       "    <tr>\n",
       "      <th>1</th>\n",
       "      <td>포항TP 경북SW진흥본부, 2022 동북권 공공데이터 챌린지 참가자 모집</td>\n",
       "      <td>2022.08.30. 오후 2:32</td>\n",
       "      <td>포항테크노파크(TP) 경북소프트웨어(SW)진흥본부가 9월 8일까지 '2022년 동북...</td>\n",
       "      <td>https://n.news.naver.com/mnews/article/030/000...</td>\n",
       "      <td>전자신문</td>\n",
       "    </tr>\n",
       "    <tr>\n",
       "      <th>2</th>\n",
       "      <td>특허청, 5억만건 특허빅데이터 분석 '6대 전략기술' 맞춤 지원</td>\n",
       "      <td>2022.08.30. 오전 10:46</td>\n",
       "      <td>기사내용 요약반도체, 2차전지 등 25개 중소·중견기업 및 9개 대학·공공연 대상초...</td>\n",
       "      <td>https://n.news.naver.com/mnews/article/003/001...</td>\n",
       "      <td>뉴시스</td>\n",
       "    </tr>\n",
       "    <tr>\n",
       "      <th>3</th>\n",
       "      <td>부산 빅데이터 혁신센터 개소…데이터 관련 사업화 지원</td>\n",
       "      <td>2022.08.29. 오전 8:18</td>\n",
       "      <td>빅데이터 (PG)[박은주 제작] 사진합성·일러스트    (부산=연합뉴스) 민영규 기...</td>\n",
       "      <td>https://n.news.naver.com/mnews/article/001/001...</td>\n",
       "      <td>연합뉴스</td>\n",
       "    </tr>\n",
       "    <tr>\n",
       "      <th>4</th>\n",
       "      <td>서울 1인 가구 빅데이터 분석해보니…노년층 고립 위험 커</td>\n",
       "      <td>2022.08.29. 오후 3:47</td>\n",
       "      <td>서울의 1인 가구는 전체 가구 대비 36.8%를 차지해 해마다 증가하는 추세입니다....</td>\n",
       "      <td>https://n.news.naver.com/mnews/article/055/000...</td>\n",
       "      <td>SBS</td>\n",
       "    </tr>\n",
       "  </tbody>\n",
       "</table>\n",
       "</div>"
      ],
      "text/plain": [
       "                                      Title                  Data  \\\n",
       "0           ADD \"'열악한 환경' 속 자율주행 위한 데이터 확보\"   2022.08.30. 오전 9:57   \n",
       "1  포항TP 경북SW진흥본부, 2022 동북권 공공데이터 챌린지 참가자 모집   2022.08.30. 오후 2:32   \n",
       "2       특허청, 5억만건 특허빅데이터 분석 '6대 전략기술' 맞춤 지원  2022.08.30. 오전 10:46   \n",
       "3             부산 빅데이터 혁신센터 개소…데이터 관련 사업화 지원   2022.08.29. 오전 8:18   \n",
       "4           서울 1인 가구 빅데이터 분석해보니…노년층 고립 위험 커   2022.08.29. 오후 3:47   \n",
       "\n",
       "                                             Article  \\\n",
       "0  \"무인 자율주행차량 설계시 최적의 센서 조합 도출 기대\"(국방과학연구소 제공)(서울...   \n",
       "1  포항테크노파크(TP) 경북소프트웨어(SW)진흥본부가 9월 8일까지 '2022년 동북...   \n",
       "2  기사내용 요약반도체, 2차전지 등 25개 중소·중견기업 및 9개 대학·공공연 대상초...   \n",
       "3  빅데이터 (PG)[박은주 제작] 사진합성·일러스트    (부산=연합뉴스) 민영규 기...   \n",
       "4  서울의 1인 가구는 전체 가구 대비 36.8%를 차지해 해마다 증가하는 추세입니다....   \n",
       "\n",
       "                                                 URL PressCompany  \n",
       "0  https://n.news.naver.com/mnews/article/421/000...          뉴스1  \n",
       "1  https://n.news.naver.com/mnews/article/030/000...         전자신문  \n",
       "2  https://n.news.naver.com/mnews/article/003/001...          뉴시스  \n",
       "3  https://n.news.naver.com/mnews/article/001/001...         연합뉴스  \n",
       "4  https://n.news.naver.com/mnews/article/055/000...          SBS  "
      ]
     },
     "execution_count": 9,
     "metadata": {},
     "output_type": "execute_result"
    }
   ],
   "source": [
    "# 2-1) 크롤링 데이터 불러오기 \n",
    "# 저번에 엑셀파일로 저장했던 기사글!!\n",
    "df = pd.read_excel('../Search_news_articles/result2_220830_1059.xlsx')\n",
    "df.head()"
   ]
  },
  {
   "cell_type": "code",
   "execution_count": 10,
   "metadata": {},
   "outputs": [
    {
     "data": {
      "text/plain": [
       "21"
      ]
     },
     "execution_count": 10,
     "metadata": {},
     "output_type": "execute_result"
    }
   ],
   "source": [
    "articles = df['Article'].tolist()\n",
    "len(articles)"
   ]
  },
  {
   "cell_type": "code",
   "execution_count": null,
   "metadata": {},
   "outputs": [],
   "source": []
  }
 ],
 "metadata": {
  "kernelspec": {
   "display_name": "Python 3",
   "language": "python",
   "name": "python3"
  },
  "language_info": {
   "codemirror_mode": {
    "name": "ipython",
    "version": 3
   },
   "file_extension": ".py",
   "mimetype": "text/x-python",
   "name": "python",
   "nbconvert_exporter": "python",
   "pygments_lexer": "ipython3",
   "version": "3.7.4"
  }
 },
 "nbformat": 4,
 "nbformat_minor": 4
}
