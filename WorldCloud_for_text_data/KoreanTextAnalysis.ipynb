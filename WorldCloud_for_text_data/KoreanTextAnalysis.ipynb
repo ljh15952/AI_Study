{
 "cells": [
  {
   "cell_type": "code",
   "execution_count": null,
   "metadata": {},
   "outputs": [],
   "source": [
    "!pip install konlpy==0.5.2\n",
    "# konlpy 설치"
   ]
  },
  {
   "cell_type": "code",
   "execution_count": null,
   "metadata": {},
   "outputs": [],
   "source": [
    "# NLTL 설치\n",
    "# Text Processing을 위한 라이브러리인 nltk library(Natural Language Toolkit)를 설치 및 세팅\n",
    "!pip install nltk==3.6.1"
   ]
  },
  {
   "cell_type": "code",
   "execution_count": 1,
   "metadata": {},
   "outputs": [],
   "source": [
    "import nltk"
   ]
  },
  {
   "cell_type": "code",
   "execution_count": 2,
   "metadata": {},
   "outputs": [
    {
     "data": {
      "text/plain": [
       "['NLTK',\n",
       " 'is',\n",
       " 'a',\n",
       " 'leading',\n",
       " 'platform',\n",
       " 'for',\n",
       " 'building',\n",
       " 'Python',\n",
       " 'programs',\n",
       " 'to']"
      ]
     },
     "execution_count": 2,
     "metadata": {},
     "output_type": "execute_result"
    }
   ],
   "source": [
    "# NLTL 테스트\n",
    "# 전처리하고자 하는 문장을 String 변수로 저장한다.\n",
    "sentence = \"NLTK is a leading platform for building Python programs to work with human language data.\"\n",
    "\n",
    "# 각 문장을 토큰화 한 결과를 출력\n",
    "nltk.word_tokenize(sentence)[:10]"
   ]
  },
  {
   "cell_type": "code",
   "execution_count": null,
   "metadata": {},
   "outputs": [],
   "source": [
    "!pip install Jpype1"
   ]
  },
  {
   "cell_type": "code",
   "execution_count": null,
   "metadata": {},
   "outputs": [],
   "source": [
    "!pip install tweepy==3.10.0"
   ]
  },
  {
   "cell_type": "code",
   "execution_count": 3,
   "metadata": {},
   "outputs": [
    {
     "name": "stdout",
     "output_type": "stream",
     "text": [
      "[('아버지', 'Noun'), ('가방', 'Noun'), ('에', 'Josa'), ('들어가다', 'Verb'), ('.', 'Punctuation')]\n"
     ]
    }
   ],
   "source": [
    "# Konlpy 테스트 (라이브러리가 정상적으로 작동하는지 확인)\n",
    "from konlpy.tag import Okt\n",
    "\n",
    "tokenizer = Okt()\n",
    "tokens = tokenizer.pos(\"아버지 가방에 들어가신다.\", norm=True,stem=True)\n",
    "print(tokens)"
   ]
  },
  {
   "cell_type": "code",
   "execution_count": 4,
   "metadata": {},
   "outputs": [],
   "source": [
    "import os, pickle\n",
    "\n",
    "# 파이썬 변수를 pickle 파일로 저장하는 방법\n",
    "# wb = write binary\n",
    "with open('raw_pos_tagged.pkl', 'wb') as f:\n",
    "    pickle.dump(tokens, f)"
   ]
  },
  {
   "cell_type": "code",
   "execution_count": 5,
   "metadata": {},
   "outputs": [
    {
     "name": "stdout",
     "output_type": "stream",
     "text": [
      "[('아버지', 'Noun'), ('가방', 'Noun'), ('에', 'Josa'), ('들어가다', 'Verb'), ('.', 'Punctuation')]\n"
     ]
    }
   ],
   "source": [
    "# pickle 파일로부터 파이썬 변수를 불러오는 방법\n",
    "with open('raw_pos_tagged.pkl','rb') as f:\n",
    "    data = pickle.load(f)\n",
    "    print(data)"
   ]
  },
  {
   "cell_type": "code",
   "execution_count": 6,
   "metadata": {},
   "outputs": [],
   "source": [
    "# 2. 크롤링 데이터 전처리\n",
    "import numpy as np\n",
    "import pandas as pd"
   ]
  },
  {
   "cell_type": "code",
   "execution_count": 9,
   "metadata": {},
   "outputs": [
    {
     "data": {
      "text/html": [
       "<div>\n",
       "<style scoped>\n",
       "    .dataframe tbody tr th:only-of-type {\n",
       "        vertical-align: middle;\n",
       "    }\n",
       "\n",
       "    .dataframe tbody tr th {\n",
       "        vertical-align: top;\n",
       "    }\n",
       "\n",
       "    .dataframe thead th {\n",
       "        text-align: right;\n",
       "    }\n",
       "</style>\n",
       "<table border=\"1\" class=\"dataframe\">\n",
       "  <thead>\n",
       "    <tr style=\"text-align: right;\">\n",
       "      <th></th>\n",
       "      <th>Title</th>\n",
       "      <th>Data</th>\n",
       "      <th>Article</th>\n",
       "      <th>URL</th>\n",
       "      <th>PressCompany</th>\n",
       "    </tr>\n",
       "  </thead>\n",
       "  <tbody>\n",
       "    <tr>\n",
       "      <th>0</th>\n",
       "      <td>ADD \"'열악한 환경' 속 자율주행 위한 데이터 확보\"</td>\n",
       "      <td>2022.08.30. 오전 9:57</td>\n",
       "      <td>\"무인 자율주행차량 설계시 최적의 센서 조합 도출 기대\"(국방과학연구소 제공)(서울...</td>\n",
       "      <td>https://n.news.naver.com/mnews/article/421/000...</td>\n",
       "      <td>뉴스1</td>\n",
       "    </tr>\n",
       "    <tr>\n",
       "      <th>1</th>\n",
       "      <td>포항TP 경북SW진흥본부, 2022 동북권 공공데이터 챌린지 참가자 모집</td>\n",
       "      <td>2022.08.30. 오후 2:32</td>\n",
       "      <td>포항테크노파크(TP) 경북소프트웨어(SW)진흥본부가 9월 8일까지 '2022년 동북...</td>\n",
       "      <td>https://n.news.naver.com/mnews/article/030/000...</td>\n",
       "      <td>전자신문</td>\n",
       "    </tr>\n",
       "    <tr>\n",
       "      <th>2</th>\n",
       "      <td>특허청, 5억만건 특허빅데이터 분석 '6대 전략기술' 맞춤 지원</td>\n",
       "      <td>2022.08.30. 오전 10:46</td>\n",
       "      <td>기사내용 요약반도체, 2차전지 등 25개 중소·중견기업 및 9개 대학·공공연 대상초...</td>\n",
       "      <td>https://n.news.naver.com/mnews/article/003/001...</td>\n",
       "      <td>뉴시스</td>\n",
       "    </tr>\n",
       "    <tr>\n",
       "      <th>3</th>\n",
       "      <td>부산 빅데이터 혁신센터 개소…데이터 관련 사업화 지원</td>\n",
       "      <td>2022.08.29. 오전 8:18</td>\n",
       "      <td>빅데이터 (PG)[박은주 제작] 사진합성·일러스트    (부산=연합뉴스) 민영규 기...</td>\n",
       "      <td>https://n.news.naver.com/mnews/article/001/001...</td>\n",
       "      <td>연합뉴스</td>\n",
       "    </tr>\n",
       "    <tr>\n",
       "      <th>4</th>\n",
       "      <td>서울 1인 가구 빅데이터 분석해보니…노년층 고립 위험 커</td>\n",
       "      <td>2022.08.29. 오후 3:47</td>\n",
       "      <td>서울의 1인 가구는 전체 가구 대비 36.8%를 차지해 해마다 증가하는 추세입니다....</td>\n",
       "      <td>https://n.news.naver.com/mnews/article/055/000...</td>\n",
       "      <td>SBS</td>\n",
       "    </tr>\n",
       "  </tbody>\n",
       "</table>\n",
       "</div>"
      ],
      "text/plain": [
       "                                      Title                  Data  \\\n",
       "0           ADD \"'열악한 환경' 속 자율주행 위한 데이터 확보\"   2022.08.30. 오전 9:57   \n",
       "1  포항TP 경북SW진흥본부, 2022 동북권 공공데이터 챌린지 참가자 모집   2022.08.30. 오후 2:32   \n",
       "2       특허청, 5억만건 특허빅데이터 분석 '6대 전략기술' 맞춤 지원  2022.08.30. 오전 10:46   \n",
       "3             부산 빅데이터 혁신센터 개소…데이터 관련 사업화 지원   2022.08.29. 오전 8:18   \n",
       "4           서울 1인 가구 빅데이터 분석해보니…노년층 고립 위험 커   2022.08.29. 오후 3:47   \n",
       "\n",
       "                                             Article  \\\n",
       "0  \"무인 자율주행차량 설계시 최적의 센서 조합 도출 기대\"(국방과학연구소 제공)(서울...   \n",
       "1  포항테크노파크(TP) 경북소프트웨어(SW)진흥본부가 9월 8일까지 '2022년 동북...   \n",
       "2  기사내용 요약반도체, 2차전지 등 25개 중소·중견기업 및 9개 대학·공공연 대상초...   \n",
       "3  빅데이터 (PG)[박은주 제작] 사진합성·일러스트    (부산=연합뉴스) 민영규 기...   \n",
       "4  서울의 1인 가구는 전체 가구 대비 36.8%를 차지해 해마다 증가하는 추세입니다....   \n",
       "\n",
       "                                                 URL PressCompany  \n",
       "0  https://n.news.naver.com/mnews/article/421/000...          뉴스1  \n",
       "1  https://n.news.naver.com/mnews/article/030/000...         전자신문  \n",
       "2  https://n.news.naver.com/mnews/article/003/001...          뉴시스  \n",
       "3  https://n.news.naver.com/mnews/article/001/001...         연합뉴스  \n",
       "4  https://n.news.naver.com/mnews/article/055/000...          SBS  "
      ]
     },
     "execution_count": 9,
     "metadata": {},
     "output_type": "execute_result"
    }
   ],
   "source": [
    "# 2-1) 크롤링 데이터 불러오기 \n",
    "# 저번에 엑셀파일로 저장했던 기사글!!\n",
    "df = pd.read_excel('../Search_news_articles/result2_220830_1059.xlsx')\n",
    "df.head()"
   ]
  },
  {
   "cell_type": "code",
   "execution_count": 10,
   "metadata": {},
   "outputs": [
    {
     "data": {
      "text/plain": [
       "21"
      ]
     },
     "execution_count": 10,
     "metadata": {},
     "output_type": "execute_result"
    }
   ],
   "source": [
    "articles = df['Article'].tolist()\n",
    "len(articles)"
   ]
  },
  {
   "cell_type": "code",
   "execution_count": 11,
   "metadata": {},
   "outputs": [
    {
     "data": {
      "text/plain": [
       "'내년도 보건복지부(이하 복지부) 예산 정부안에 의료데이터·기술개발 분야 신규 예산이 대거 늘고 제약·바이오 분야 신규 예산이 전혀 포함되지 않은 것으로 나타났다. 다만 제약·바이오 분야에 기존 사업이 남아있어 착시 효과일 수 있다는 분석도 나온다.정부가 30일 국무회의를 통해 발표한 복지부 2023년도 정부 예산안에 따르면 복지부는 의료데이터와 디지털헬스케어 분야 투자에 총 200억원 이상의 신규 예산을 투입하는 것으로 나타났다.복지부는 \\'휴·폐업 의료기관 진료기록보관시스템 구축\\'을 위해 61억원의 신규 예산을 책정했다. 의료기관이 폐업하면서 환자 정보가 그대로 파기되거나 유출될 위험이 있는데, 이를 안전하게 보관하는 시스템을 만들겠다는 취지다.\\xa0이와 함께 신규 사업으로 \\'의료기관 기반 디지털헬스케어 실증 및 도입 사업\\'을 편성했다. 내년에 75억원의 연구개발 예산이 투입된다. 기업이 만든 디지털치료제 등 디지털헬스케어 제품을 병원에서 사용해보는 일종의 ‘테스트베드’ 사업이다.아울러 \\'암생존자 중심 근거 기반 맞춤형 헬스케어 기술개발 및 실증 연구사업\\'도 새롭게 편성됐다. 암치료를 받은 환자가 재활과 식단 관리, 정신건강 돌봄 등의 서비스를 받을 수 있도록 관련 기술 개발에 나선다는 취지다. 내년에 96억원의 예산이 배정됐다.기존에 진행됐던 의료데이터와 의료기관 기반 서비스 개발 사업도 규모가 커졌다. 의료정보교류 의료기관이 8500개소로 1000개소가 늘어나며 원격협진 모형에 대한 실증도 실시한다. 의료정보교류는 의료기관끼리 환자 데이터를 교류하는데 불편함이 없도록 하는 제도이며, 원격협진은 서로 다른 병원에서 근무하는 의사가 원격으로 협력해 한 환자를 진료하는 방식이다.디지털헬스케어 및 의료데이터 기반 플랫폼 개발 업계는 정부의 산업 육성 의지가 이번 복지부 내년도 예산안에 반영됐다고 보고 있다. 디지털헬스케어 기업 관계자는 “정부의 육성 의지가 예산 반영뿐만 아니라 관련 법안 제정과 신속한 제품 허가, 규제 개선 등이 병행됐으면 한다”고 밝혔다.이기일 보건복지부 제2차관(사진 우측)은 지난 7월 7일 서울 서대문구에 위치한 연세의료원 디지털헬스센터를 방문하여 입주 기업들과 의료데이터 활용 연구 및 의료 인공지능 개발 지원방안을 논의했다. (사진=보건복지부.)반면 복지부 내년도 예산안 중 제약·바이오분야에 직접 투자되는 신규 예산은 없다. \\'감염병, 암 및 고부담·난치성 질환 등 보건안보 및 국가난제 해결을 위한 연구개발\\' 예산이 있긴 하지만 대부분 기초연구개발 과제며, 기존 사업이다.\\xa0제약·바이오 기업이 노려볼 만한 예산은 \\'백신·치료제 신속 비임상시험 실증 개발\\' 예산 30억원이 전부다. 역시 기존 사업이다. 인공혈액 제조 및 실증 플랫폼 개발 사업(16억원)은 특수한 사업이라 제약·바이오 기업이 노릴만한 정부 과제로는 적당치 않다.이에 대해 외부에서는 제약·바이오 분야에 대한 투자가 끊기는 것이 아닌가 하는 우려의 목소리가 나오고 있다. 한 제약·바이오 관련 협회 관계자는 “바이오벤처 분야 투자도 자금줄이 말랐다고 하는데 정부 과제까지 자꾸 멀어지는 느낌”이라고 지적했다.\\xa0그는 이어 “한국이 코로나19 특수로 좀 컸다고 생각할 수 있는데 그건 정말 특수한 상황에서 몇몇 기업들이 부각된 것”이라며 “현재 정부 전체 R&D 투자액은 톱(Top) 3 글로벌 제약사 투자액보다도 못한 상황인데 조금 성과가 보인다고 정부 지원을 축소하는 것은 미래에 대한 생각이 없는 것”이라고 비판했다.바이오벤처 기업 관계자는 “애초에 정부 과제는 기대를 접었다”며 “올해 정부 주도로 조성된다는 백신 펀드만 기대하고 있다”고 밝혔다.이에 대해 복지부 내부에서는 신규 예산 편성의 어려움으로 ‘기존 사업이 너무 많아 내세울 만한 신규 아이템이 없었다’는 분위기다.익명을 요구한 정부 관계자는 “올해 예산 조정 담당 부처인 기획재정부가 예년보다 더욱더 강경하게 예산 동결·삭감을 밀어붙였다”면서 “조금이라도 기존 사업과 겹치는 신규 사업 기안은 전부 퇴짜를 맞았다”고 말했다. 당분간 기존 사업 위주로 흘러갈 것이라는 설명이다.\\xa0그는 이어 \"신규 사업 편성이 없었을 뿐 기존 사업은 계속 진행되기 때문에 제약·바이오 분야에 대한 지원이 끊겼다고 보긴 어렵다\"고 덧붙였다.'"
      ]
     },
     "execution_count": 11,
     "metadata": {},
     "output_type": "execute_result"
    }
   ],
   "source": [
    "articles[-1] # 본문에 필요없는 단어들 안지웠다;;"
   ]
  },
  {
   "cell_type": "code",
   "execution_count": null,
   "metadata": {},
   "outputs": [],
   "source": [
    "# 텍스트 데이터 전처리 과정 복습\n",
    "# 1. 텍스트 데이터를 str자료형으로 준비\n",
    "# ->\n",
    "# 2. Tokenize(형태소 분석)\n",
    "# 3. POS Tagging(Part-of-speech, 품사 표시)\n",
    "# 4. Stopwords 제거(불용어 제거)\n",
    "# ->\n",
    "# 5. 단어 갯수 카운팅 & 단어 사전 생성\n",
    "# 6. 단어 사전 기반 데이터 시각화\n",
    "# 7. 머신러닝/딥러닝 모델 적용"
   ]
  },
  {
   "cell_type": "code",
   "execution_count": 12,
   "metadata": {},
   "outputs": [
    {
     "name": "stdout",
     "output_type": "stream",
     "text": [
      "['python', 'is', 'easy']\n",
      "python___is___easy\n"
     ]
    }
   ],
   "source": [
    "# 1. 텍스트 데이터를 str자료형으로 준비\n",
    "# example code\n",
    "s = 'python is easy'\n",
    "result = s.split()\n",
    "print(result)\n",
    "\n",
    "new_result = '___'.join(result)\n",
    "print(new_result)"
   ]
  },
  {
   "cell_type": "code",
   "execution_count": 13,
   "metadata": {},
   "outputs": [
    {
     "data": {
      "text/plain": [
       "'\"무인 자율주행차량 설계시 최적의 센서 조합 도출 기대\"(국방과학연구소 제공)(서울=뉴스1) 박응진 기자 = 국방과학연구소(ADD)는 무인 자율주행차량이 \\'열악한 환경\\'에서 안정적으로 주행하는 데 필요한 다양한 데이터를 싱가포르와의 공동 연구를 통해 확보했다고 30일 밝혔다.ADD는 지난 2020년 3월부터 싱가포르 국방과학연구기관 DSO와 함께 \\'열악한 환경에서 주행 가능 영역 및 물체(장애물) 탐지 기술\\'에 관한 연구를 실시해왔다며 이같이 전했다.ADD에 따르면 강설·연막 환경에선 ADD가, 강우·먼지 환경에선 싱가포르 DSO가 각각 총 6개 센서로 구성된 다중센서 데이터 획득 장치를 이용해 각종 데이터를 확보했다.양측은 각 환경에서 센서들의 성능 저하를 정량적으로 분석해 그 특성을 확인했고, 또 현재 활용 중인 주행 가능 영역 알고리즘과 물체 탐지 알고리즘에 그 데이터를 입력해 각 알고리즘의 성능·한계 등을 알아냈다고 한다. ADD는 \"각 알고리즘의 성능분석을 통해 각 환경조건에 따른 무인 자율주행차량의 운용 가능 범위를 예측할 수 있게 됐다\"며 \"이번 연구를 통해 확보된 데이터는 향후 무인 자율주행차량 설계시 최적의 센서 조합을 도출하고 첨단 자율주행 기술의 활용성을 증대하는데 기여할 수 있을 것\"이라고 기대했다.ADD는 또 \"이번 연구성과는 자율주행 환경 인식 알고리즘 개발에도 활용할 수 있다\"며 \"첨단 자율주행 기술 개발의 예산·기간을 단축할 수 있어 효과적\"이라고 부연했다. 포항테크노파크(TP) 경북소프트웨어(SW)진흥본부가 9월 8일까지 \\'2022년 동북권 공공데이터 활용 챌린지\\' 참가자를 모집한다. 동북권 ICT이노베이션스퀘어 확산사업 일환이다.행사는 공공데이터 활용 해커톤과 한국교통안전공단 데이터셋 활용 아이디어 경진대회로 구성됐다. 9월 29일부터 10월 1일까지 김천시에 위치한 경북ICT이노베이션스퀘어에서 진행한다.해커톤은 참여자가 팀을 꾸려 아이디어를 도출하고 협업해 결과물을 만드는 경연이다. 공모주제는 \\'공공데이터를 활용한 동북권(경북'"
      ]
     },
     "execution_count": 13,
     "metadata": {},
     "output_type": "execute_result"
    }
   ],
   "source": [
    "articles = ' '.join(articles)\n",
    "articles[:1000]"
   ]
  },
  {
   "cell_type": "code",
   "execution_count": 14,
   "metadata": {},
   "outputs": [
    {
     "data": {
      "text/plain": [
       "26055"
      ]
     },
     "execution_count": 14,
     "metadata": {},
     "output_type": "execute_result"
    }
   ],
   "source": [
    "len(articles)"
   ]
  },
  {
   "cell_type": "code",
   "execution_count": null,
   "metadata": {},
   "outputs": [],
   "source": [
    "# 2. Tokenize\n",
    "# input date 에 품사를 태깅한다.\n",
    "# norm 옵션 == 정규화(normalization)\n",
    "# 한국어를 처리하는 예시입니닼ㅋㅋㅋ -> 한국어를 처리하는 예시입니다ㅋㅋ\n",
    "# stem 옵션 == 어근화(stemming)\n",
    "# 한국어를 처리하는 예시입니다 ㅋㅋ -> 한국어Noun, 를Josa, 처리 Noun, 하다Verb...\n",
    "\n",
    "from konlpy.tag import Okt\n",
    "tokenizer = Okt()\n",
    "raw_pos_tagged = tokenizer.pos(articles,norm=True,stem=True) # POS Tagging\n",
    "raw_pos_tagged"
   ]
  },
  {
   "cell_type": "code",
   "execution_count": null,
   "metadata": {},
   "outputs": [],
   "source": []
  }
 ],
 "metadata": {
  "kernelspec": {
   "display_name": "Python 3",
   "language": "python",
   "name": "python3"
  },
  "language_info": {
   "codemirror_mode": {
    "name": "ipython",
    "version": 3
   },
   "file_extension": ".py",
   "mimetype": "text/x-python",
   "name": "python",
   "nbconvert_exporter": "python",
   "pygments_lexer": "ipython3",
   "version": "3.7.4"
  }
 },
 "nbformat": 4,
 "nbformat_minor": 4
}
