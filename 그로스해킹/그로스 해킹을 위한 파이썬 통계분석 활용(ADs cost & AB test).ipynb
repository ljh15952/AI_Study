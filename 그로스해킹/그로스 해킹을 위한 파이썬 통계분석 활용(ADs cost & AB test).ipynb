{
 "cells": [
  {
   "cell_type": "code",
   "execution_count": 1,
   "metadata": {},
   "outputs": [],
   "source": [
    "import numpy as np\n",
    "import pandas as pd\n",
    "from scipy import stats"
   ]
  },
  {
   "cell_type": "code",
   "execution_count": 2,
   "metadata": {},
   "outputs": [],
   "source": [
    "# 1. Correlation Analysis for Marketing costs & User acquisition (피어슨 상관계수)\n",
    "# 1. Correlation Analysis for Marketing costs & User acquisition\n",
    "# 매달 유튜브에 광고 비용을 지출하여 신규 유저(구매 고객 or 회원가입 고객)를 획득\n",
    "# 아래 ad_df DataFrame과 같이 월별로 10000원 단위의 유튜브 광고 비용과 해당 월에 신규로 획득한 유저 수가 측정"
   ]
  },
  {
   "cell_type": "code",
   "execution_count": 3,
   "metadata": {},
   "outputs": [
    {
     "data": {
      "text/html": [
       "<div>\n",
       "<style scoped>\n",
       "    .dataframe tbody tr th:only-of-type {\n",
       "        vertical-align: middle;\n",
       "    }\n",
       "\n",
       "    .dataframe tbody tr th {\n",
       "        vertical-align: top;\n",
       "    }\n",
       "\n",
       "    .dataframe thead th {\n",
       "        text-align: right;\n",
       "    }\n",
       "</style>\n",
       "<table border=\"1\" class=\"dataframe\">\n",
       "  <thead>\n",
       "    <tr style=\"text-align: right;\">\n",
       "      <th></th>\n",
       "      <th>Maketing_Costs</th>\n",
       "      <th>User_Acquired</th>\n",
       "    </tr>\n",
       "  </thead>\n",
       "  <tbody>\n",
       "    <tr>\n",
       "      <th>0</th>\n",
       "      <td>352</td>\n",
       "      <td>7214</td>\n",
       "    </tr>\n",
       "    <tr>\n",
       "      <th>1</th>\n",
       "      <td>164</td>\n",
       "      <td>6122</td>\n",
       "    </tr>\n",
       "    <tr>\n",
       "      <th>2</th>\n",
       "      <td>210</td>\n",
       "      <td>6896</td>\n",
       "    </tr>\n",
       "    <tr>\n",
       "      <th>3</th>\n",
       "      <td>425</td>\n",
       "      <td>8020</td>\n",
       "    </tr>\n",
       "    <tr>\n",
       "      <th>4</th>\n",
       "      <td>503</td>\n",
       "      <td>10982</td>\n",
       "    </tr>\n",
       "    <tr>\n",
       "      <th>5</th>\n",
       "      <td>232</td>\n",
       "      <td>9021</td>\n",
       "    </tr>\n",
       "    <tr>\n",
       "      <th>6</th>\n",
       "      <td>321</td>\n",
       "      <td>9240</td>\n",
       "    </tr>\n",
       "    <tr>\n",
       "      <th>7</th>\n",
       "      <td>556</td>\n",
       "      <td>10210</td>\n",
       "    </tr>\n",
       "    <tr>\n",
       "      <th>8</th>\n",
       "      <td>464</td>\n",
       "      <td>9987</td>\n",
       "    </tr>\n",
       "    <tr>\n",
       "      <th>9</th>\n",
       "      <td>578</td>\n",
       "      <td>11521</td>\n",
       "    </tr>\n",
       "    <tr>\n",
       "      <th>10</th>\n",
       "      <td>612</td>\n",
       "      <td>9792</td>\n",
       "    </tr>\n",
       "    <tr>\n",
       "      <th>11</th>\n",
       "      <td>434</td>\n",
       "      <td>9852</td>\n",
       "    </tr>\n",
       "  </tbody>\n",
       "</table>\n",
       "</div>"
      ],
      "text/plain": [
       "    Maketing_Costs  User_Acquired\n",
       "0              352           7214\n",
       "1              164           6122\n",
       "2              210           6896\n",
       "3              425           8020\n",
       "4              503          10982\n",
       "5              232           9021\n",
       "6              321           9240\n",
       "7              556          10210\n",
       "8              464           9987\n",
       "9              578          11521\n",
       "10             612           9792\n",
       "11             434           9852"
      ]
     },
     "execution_count": 3,
     "metadata": {},
     "output_type": "execute_result"
    }
   ],
   "source": [
    "marketing_costs = [352,164,210,425,503,232,321,556,464,578,612,434] # 정형된 유튜브 광고 비용(단위 : 10000원)\n",
    "user_acquired = [7214,6122,6896,8020,10982,9021,9240,10210,9987,11521,9792,9852] # 단위 : 명\n",
    "# 마케팅 지출된 금액\n",
    "# 유저 늘어난 정도 1~12월\n",
    "ad_df = pd.DataFrame({'Maketing_Costs':marketing_costs,\n",
    "                     'User_Acquired':user_acquired})\n",
    "ad_df"
   ]
  },
  {
   "cell_type": "code",
   "execution_count": 4,
   "metadata": {},
   "outputs": [
    {
     "name": "stdout",
     "output_type": "stream",
     "text": [
      "1명의 신규 유저를 획득하기 위한 평균적인 유튜브 광고 비용: 446원\n"
     ]
    }
   ],
   "source": [
    "# 단순 CAC(Customer Acquisition Cost, 신규고객 유치 비용) 계산\n",
    "cac = ad_df['Maketing_Costs'].sum() / ad_df['User_Acquired'].sum() # 총 마케팅 비용/ 총 신규고객 수\n",
    "\n",
    "print('1명의 신규 유저를 획득하기 위한 평균적인 유튜브 광고 비용: {:.0f}원'.format(cac*10000)) # .0f : 소수점 0번째 자리까지"
   ]
  },
  {
   "cell_type": "code",
   "execution_count": 5,
   "metadata": {},
   "outputs": [],
   "source": [
    "# 위의 금액에 추가로 획득하기를 원하는 유저 수를 곱한 금액을 유튜브 광고 비용으로\n",
    "# 쓰면 그만큼 유저가 늘어날까? \n",
    "# == 위의 금액 만큼 유트브 광고에 쓰면 정말로 유저가 1명 늘어날까? 아닐듯!!"
   ]
  },
  {
   "cell_type": "code",
   "execution_count": null,
   "metadata": {},
   "outputs": [],
   "source": []
  }
 ],
 "metadata": {
  "kernelspec": {
   "display_name": "Python 3",
   "language": "python",
   "name": "python3"
  },
  "language_info": {
   "codemirror_mode": {
    "name": "ipython",
    "version": 3
   },
   "file_extension": ".py",
   "mimetype": "text/x-python",
   "name": "python",
   "nbconvert_exporter": "python",
   "pygments_lexer": "ipython3",
   "version": "3.7.4"
  }
 },
 "nbformat": 4,
 "nbformat_minor": 4
}
