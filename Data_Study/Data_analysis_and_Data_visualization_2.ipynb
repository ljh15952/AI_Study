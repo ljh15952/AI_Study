{
 "cells": [
  {
   "cell_type": "code",
   "execution_count": null,
   "metadata": {},
   "outputs": [],
   "source": [
    "서울시 범죄현황 통계자료 분석 및 시각화\n",
    "TODO\n",
    "1. 데이터 입력 및 데이터 전처리\n",
    "- Excel 데이터 입력\n",
    "- 경찰서를 구별로 정리\n",
    "- 범죄별로 검거율 계산\n",
    "- 인구 데이터 merge\n",
    "\n",
    "2. 데이터 탐색 (Data exploration)\n",
    "- 검거율 기준으로 데이터 정렬하기\n",
    "- 범죄별 발생 건수 정규화하기\n",
    "- 한글 데이터 시각화를 위한 준비\n",
    "- 구별 살인/절도 발생 건수 순위 살펴보기\n",
    "- 인구수로 나눠서 인구대비 발생비율로 살펴보기\n",
    "- [인구 수 대비] 구별 살인 발생 순위 살펴보기\n",
    "- [인구 수 대비] 구별 5대범죄 발생 수치 평균 계산하기\n",
    "- [인구 수 대비 5대범죄 발생 수치 평균] 구별 순위 비교하기\n",
    "\n",
    "3. 데이터 시각화 (Data visualization)\n",
    "- 구별 살인사건 발생 건수 지도화\n",
    "- [인구 수 대비 5대범죄 발생 수치 평균] 구별 데이터 시각화\n",
    "- 구별 검거율 데이터 지도 시각화\n",
    "* 지도 시각화 : Folium library 활용\n",
    "* 지도 데이터 : GeoJSON 데이터 활용"
   ]
  }
 ],
 "metadata": {
  "kernelspec": {
   "display_name": "Python 3",
   "language": "python",
   "name": "python3"
  },
  "language_info": {
   "codemirror_mode": {
    "name": "ipython",
    "version": 3
   },
   "file_extension": ".py",
   "mimetype": "text/x-python",
   "name": "python",
   "nbconvert_exporter": "python",
   "pygments_lexer": "ipython3",
   "version": "3.7.4"
  }
 },
 "nbformat": 4,
 "nbformat_minor": 4
}
