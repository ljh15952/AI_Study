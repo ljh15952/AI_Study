{
 "cells": [
  {
   "cell_type": "code",
   "execution_count": 3,
   "metadata": {},
   "outputs": [],
   "source": [
    "import numpy as np\n",
    "import pandas as pd\n",
    "import seaborn as sns"
   ]
  },
  {
   "cell_type": "code",
   "execution_count": 5,
   "metadata": {},
   "outputs": [],
   "source": [
    "df = pd.read_excel('Report.xls')"
   ]
  },
  {
   "cell_type": "code",
   "execution_count": 6,
   "metadata": {},
   "outputs": [
    {
     "data": {
      "text/html": [
       "<div>\n",
       "<style scoped>\n",
       "    .dataframe tbody tr th:only-of-type {\n",
       "        vertical-align: middle;\n",
       "    }\n",
       "\n",
       "    .dataframe tbody tr th {\n",
       "        vertical-align: top;\n",
       "    }\n",
       "\n",
       "    .dataframe thead th {\n",
       "        text-align: right;\n",
       "    }\n",
       "</style>\n",
       "<table border=\"1\" class=\"dataframe\">\n",
       "  <thead>\n",
       "    <tr style=\"text-align: right;\">\n",
       "      <th></th>\n",
       "      <th>기간</th>\n",
       "      <th>자치구</th>\n",
       "      <th>합계</th>\n",
       "      <th>합계.1</th>\n",
       "      <th>살인</th>\n",
       "      <th>살인.1</th>\n",
       "      <th>강도</th>\n",
       "      <th>강도.1</th>\n",
       "      <th>강간강제추행</th>\n",
       "      <th>강간강제추행.1</th>\n",
       "      <th>절도</th>\n",
       "      <th>절도.1</th>\n",
       "      <th>폭력</th>\n",
       "      <th>폭력.1</th>\n",
       "    </tr>\n",
       "  </thead>\n",
       "  <tbody>\n",
       "    <tr>\n",
       "      <th>0</th>\n",
       "      <td>기간</td>\n",
       "      <td>자치구</td>\n",
       "      <td>발생</td>\n",
       "      <td>검거</td>\n",
       "      <td>발생</td>\n",
       "      <td>검거</td>\n",
       "      <td>발생</td>\n",
       "      <td>검거</td>\n",
       "      <td>발생</td>\n",
       "      <td>검거</td>\n",
       "      <td>발생</td>\n",
       "      <td>검거</td>\n",
       "      <td>발생</td>\n",
       "      <td>검거</td>\n",
       "    </tr>\n",
       "    <tr>\n",
       "      <th>1</th>\n",
       "      <td>2020</td>\n",
       "      <td>합계</td>\n",
       "      <td>92679</td>\n",
       "      <td>66548</td>\n",
       "      <td>141</td>\n",
       "      <td>126</td>\n",
       "      <td>138</td>\n",
       "      <td>132</td>\n",
       "      <td>5763</td>\n",
       "      <td>5458</td>\n",
       "      <td>38293</td>\n",
       "      <td>19705</td>\n",
       "      <td>48344</td>\n",
       "      <td>41127</td>\n",
       "    </tr>\n",
       "    <tr>\n",
       "      <th>2</th>\n",
       "      <td>2020</td>\n",
       "      <td>종로구</td>\n",
       "      <td>3102</td>\n",
       "      <td>3343</td>\n",
       "      <td>9</td>\n",
       "      <td>7</td>\n",
       "      <td>7</td>\n",
       "      <td>9</td>\n",
       "      <td>192</td>\n",
       "      <td>855</td>\n",
       "      <td>1183</td>\n",
       "      <td>944</td>\n",
       "      <td>1711</td>\n",
       "      <td>1528</td>\n",
       "    </tr>\n",
       "  </tbody>\n",
       "</table>\n",
       "</div>"
      ],
      "text/plain": [
       "     기간  자치구     합계   합계.1   살인 살인.1   강도 강도.1 강간강제추행 강간강제추행.1     절도   절도.1  \\\n",
       "0    기간  자치구     발생     검거   발생   검거   발생   검거     발생       검거     발생     검거   \n",
       "1  2020   합계  92679  66548  141  126  138  132   5763     5458  38293  19705   \n",
       "2  2020  종로구   3102   3343    9    7    7    9    192      855   1183    944   \n",
       "\n",
       "      폭력   폭력.1  \n",
       "0     발생     검거  \n",
       "1  48344  41127  \n",
       "2   1711   1528  "
      ]
     },
     "execution_count": 6,
     "metadata": {},
     "output_type": "execute_result"
    }
   ],
   "source": [
    "df.head(3)"
   ]
  },
  {
   "cell_type": "code",
   "execution_count": 8,
   "metadata": {},
   "outputs": [
    {
     "data": {
      "text/plain": [
       "기간           2020\n",
       "자치구            합계\n",
       "합계          92679\n",
       "합계.1        66548\n",
       "살인            141\n",
       "살인.1          126\n",
       "강도            138\n",
       "강도.1          132\n",
       "강간강제추행       5763\n",
       "강간강제추행.1     5458\n",
       "절도          38293\n",
       "절도.1        19705\n",
       "폭력          48344\n",
       "폭력.1        41127\n",
       "Name: 1, dtype: object"
      ]
     },
     "execution_count": 8,
     "metadata": {},
     "output_type": "execute_result"
    }
   ],
   "source": [
    "df.loc[1] #행을 꺼낸다.대괄호에 유의 인덱스 열에있는 행에 이름을 대괄호 안에"
   ]
  },
  {
   "cell_type": "code",
   "execution_count": 9,
   "metadata": {},
   "outputs": [
    {
     "data": {
      "text/html": [
       "<div>\n",
       "<style scoped>\n",
       "    .dataframe tbody tr th:only-of-type {\n",
       "        vertical-align: middle;\n",
       "    }\n",
       "\n",
       "    .dataframe tbody tr th {\n",
       "        vertical-align: top;\n",
       "    }\n",
       "\n",
       "    .dataframe thead th {\n",
       "        text-align: right;\n",
       "    }\n",
       "</style>\n",
       "<table border=\"1\" class=\"dataframe\">\n",
       "  <thead>\n",
       "    <tr style=\"text-align: right;\">\n",
       "      <th></th>\n",
       "      <th>기간</th>\n",
       "      <th>자치구</th>\n",
       "      <th>합계</th>\n",
       "    </tr>\n",
       "  </thead>\n",
       "  <tbody>\n",
       "    <tr>\n",
       "      <th>3</th>\n",
       "      <td>2020</td>\n",
       "      <td>중구</td>\n",
       "      <td>3411</td>\n",
       "    </tr>\n",
       "    <tr>\n",
       "      <th>4</th>\n",
       "      <td>2020</td>\n",
       "      <td>용산구</td>\n",
       "      <td>2969</td>\n",
       "    </tr>\n",
       "    <tr>\n",
       "      <th>5</th>\n",
       "      <td>2020</td>\n",
       "      <td>성동구</td>\n",
       "      <td>2362</td>\n",
       "    </tr>\n",
       "  </tbody>\n",
       "</table>\n",
       "</div>"
      ],
      "text/plain": [
       "     기간  자치구    합계\n",
       "3  2020   중구  3411\n",
       "4  2020  용산구  2969\n",
       "5  2020  성동구  2362"
      ]
     },
     "execution_count": 9,
     "metadata": {},
     "output_type": "execute_result"
    }
   ],
   "source": [
    "df.iloc[3:6, 0:3] #열을 name이 아니라 번호로 지정하고 싶다면 (index location)"
   ]
  },
  {
   "cell_type": "code",
   "execution_count": 12,
   "metadata": {},
   "outputs": [
    {
     "data": {
      "text/plain": [
       "0      자치구\n",
       "1       합계\n",
       "2      종로구\n",
       "3       중구\n",
       "4      용산구\n",
       "5      성동구\n",
       "6      광진구\n",
       "7     동대문구\n",
       "8      중랑구\n",
       "9      성북구\n",
       "10     강북구\n",
       "11     도봉구\n",
       "12     노원구\n",
       "13     은평구\n",
       "14    서대문구\n",
       "15     마포구\n",
       "16     양천구\n",
       "17     강서구\n",
       "18     구로구\n",
       "19     금천구\n",
       "20    영등포구\n",
       "21     동작구\n",
       "22     관악구\n",
       "23     서초구\n",
       "24     강남구\n",
       "25     송파구\n",
       "26     강동구\n",
       "Name: 자치구, dtype: object"
      ]
     },
     "execution_count": 12,
     "metadata": {},
     "output_type": "execute_result"
    }
   ],
   "source": [
    "df['자치구'] #하나의 열 출력하기"
   ]
  },
  {
   "cell_type": "code",
   "execution_count": 13,
   "metadata": {},
   "outputs": [
    {
     "data": {
      "text/plain": [
       "0     False\n",
       "1     False\n",
       "2     False\n",
       "3     False\n",
       "4     False\n",
       "5     False\n",
       "6     False\n",
       "7     False\n",
       "8     False\n",
       "9      True\n",
       "10     True\n",
       "11    False\n",
       "12    False\n",
       "13    False\n",
       "14    False\n",
       "15    False\n",
       "16    False\n",
       "17    False\n",
       "18    False\n",
       "19    False\n",
       "20    False\n",
       "21    False\n",
       "22    False\n",
       "23    False\n",
       "24    False\n",
       "25    False\n",
       "26    False\n",
       "Name: 자치구, dtype: bool"
      ]
     },
     "execution_count": 13,
     "metadata": {},
     "output_type": "execute_result"
    }
   ],
   "source": [
    "df[\"자치구\"].str.contains(\"북\") #문자열.포함하다.(선택한 열의 문자열에 특정 문자열이 포함되어있는지 체크)"
   ]
  },
  {
   "cell_type": "code",
   "execution_count": 14,
   "metadata": {},
   "outputs": [
    {
     "data": {
      "text/plain": [
       "2"
      ]
     },
     "execution_count": 14,
     "metadata": {},
     "output_type": "execute_result"
    }
   ],
   "source": [
    "sum(df[\"자치구\"].str.contains(\"북\"))"
   ]
  },
  {
   "cell_type": "code",
   "execution_count": 15,
   "metadata": {},
   "outputs": [
    {
     "data": {
      "text/html": [
       "<div>\n",
       "<style scoped>\n",
       "    .dataframe tbody tr th:only-of-type {\n",
       "        vertical-align: middle;\n",
       "    }\n",
       "\n",
       "    .dataframe tbody tr th {\n",
       "        vertical-align: top;\n",
       "    }\n",
       "\n",
       "    .dataframe thead th {\n",
       "        text-align: right;\n",
       "    }\n",
       "</style>\n",
       "<table border=\"1\" class=\"dataframe\">\n",
       "  <thead>\n",
       "    <tr style=\"text-align: right;\">\n",
       "      <th></th>\n",
       "      <th>기간</th>\n",
       "      <th>자치구</th>\n",
       "      <th>합계</th>\n",
       "      <th>합계.1</th>\n",
       "      <th>살인</th>\n",
       "      <th>살인.1</th>\n",
       "      <th>강도</th>\n",
       "      <th>강도.1</th>\n",
       "      <th>강간강제추행</th>\n",
       "      <th>강간강제추행.1</th>\n",
       "      <th>절도</th>\n",
       "      <th>절도.1</th>\n",
       "      <th>폭력</th>\n",
       "      <th>폭력.1</th>\n",
       "    </tr>\n",
       "  </thead>\n",
       "  <tbody>\n",
       "    <tr>\n",
       "      <th>9</th>\n",
       "      <td>2020</td>\n",
       "      <td>성북구</td>\n",
       "      <td>2567</td>\n",
       "      <td>1947</td>\n",
       "      <td>4</td>\n",
       "      <td>4</td>\n",
       "      <td>3</td>\n",
       "      <td>2</td>\n",
       "      <td>142</td>\n",
       "      <td>121</td>\n",
       "      <td>988</td>\n",
       "      <td>580</td>\n",
       "      <td>1430</td>\n",
       "      <td>1240</td>\n",
       "    </tr>\n",
       "    <tr>\n",
       "      <th>10</th>\n",
       "      <td>2020</td>\n",
       "      <td>강북구</td>\n",
       "      <td>2770</td>\n",
       "      <td>2259</td>\n",
       "      <td>9</td>\n",
       "      <td>8</td>\n",
       "      <td>5</td>\n",
       "      <td>4</td>\n",
       "      <td>159</td>\n",
       "      <td>132</td>\n",
       "      <td>780</td>\n",
       "      <td>490</td>\n",
       "      <td>1817</td>\n",
       "      <td>1625</td>\n",
       "    </tr>\n",
       "  </tbody>\n",
       "</table>\n",
       "</div>"
      ],
      "text/plain": [
       "      기간  자치구    합계  합계.1 살인 살인.1 강도 강도.1 강간강제추행 강간강제추행.1   절도 절도.1    폭력  \\\n",
       "9   2020  성북구  2567  1947  4    4  3    2    142      121  988  580  1430   \n",
       "10  2020  강북구  2770  2259  9    8  5    4    159      132  780  490  1817   \n",
       "\n",
       "    폭력.1  \n",
       "9   1240  \n",
       "10  1625  "
      ]
     },
     "execution_count": 15,
     "metadata": {},
     "output_type": "execute_result"
    }
   ],
   "source": [
    "# 데이터 프레임 필터링\n",
    "df[ df[\"자치구\"].str.contains(\"북\")] #선택한 열의 문자열에 특정 문자열이 있는것만 출력"
   ]
  }
 ],
 "metadata": {
  "kernelspec": {
   "display_name": "Python 3",
   "language": "python",
   "name": "python3"
  },
  "language_info": {
   "codemirror_mode": {
    "name": "ipython",
    "version": 3
   },
   "file_extension": ".py",
   "mimetype": "text/x-python",
   "name": "python",
   "nbconvert_exporter": "python",
   "pygments_lexer": "ipython3",
   "version": "3.7.4"
  }
 },
 "nbformat": 4,
 "nbformat_minor": 4
}
