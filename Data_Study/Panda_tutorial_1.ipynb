{
 "cells": [
  {
   "cell_type": "code",
   "execution_count": 3,
   "metadata": {},
   "outputs": [],
   "source": [
    "import numpy as np\n",
    "import pandas as pd\n",
    "import seaborn as sns"
   ]
  },
  {
   "cell_type": "code",
   "execution_count": 5,
   "metadata": {},
   "outputs": [],
   "source": [
    "df = pd.read_excel('Report.xls')"
   ]
  },
  {
   "cell_type": "code",
   "execution_count": 6,
   "metadata": {},
   "outputs": [
    {
     "data": {
      "text/html": [
       "<div>\n",
       "<style scoped>\n",
       "    .dataframe tbody tr th:only-of-type {\n",
       "        vertical-align: middle;\n",
       "    }\n",
       "\n",
       "    .dataframe tbody tr th {\n",
       "        vertical-align: top;\n",
       "    }\n",
       "\n",
       "    .dataframe thead th {\n",
       "        text-align: right;\n",
       "    }\n",
       "</style>\n",
       "<table border=\"1\" class=\"dataframe\">\n",
       "  <thead>\n",
       "    <tr style=\"text-align: right;\">\n",
       "      <th></th>\n",
       "      <th>기간</th>\n",
       "      <th>자치구</th>\n",
       "      <th>합계</th>\n",
       "      <th>합계.1</th>\n",
       "      <th>살인</th>\n",
       "      <th>살인.1</th>\n",
       "      <th>강도</th>\n",
       "      <th>강도.1</th>\n",
       "      <th>강간강제추행</th>\n",
       "      <th>강간강제추행.1</th>\n",
       "      <th>절도</th>\n",
       "      <th>절도.1</th>\n",
       "      <th>폭력</th>\n",
       "      <th>폭력.1</th>\n",
       "    </tr>\n",
       "  </thead>\n",
       "  <tbody>\n",
       "    <tr>\n",
       "      <th>0</th>\n",
       "      <td>기간</td>\n",
       "      <td>자치구</td>\n",
       "      <td>발생</td>\n",
       "      <td>검거</td>\n",
       "      <td>발생</td>\n",
       "      <td>검거</td>\n",
       "      <td>발생</td>\n",
       "      <td>검거</td>\n",
       "      <td>발생</td>\n",
       "      <td>검거</td>\n",
       "      <td>발생</td>\n",
       "      <td>검거</td>\n",
       "      <td>발생</td>\n",
       "      <td>검거</td>\n",
       "    </tr>\n",
       "    <tr>\n",
       "      <th>1</th>\n",
       "      <td>2020</td>\n",
       "      <td>합계</td>\n",
       "      <td>92679</td>\n",
       "      <td>66548</td>\n",
       "      <td>141</td>\n",
       "      <td>126</td>\n",
       "      <td>138</td>\n",
       "      <td>132</td>\n",
       "      <td>5763</td>\n",
       "      <td>5458</td>\n",
       "      <td>38293</td>\n",
       "      <td>19705</td>\n",
       "      <td>48344</td>\n",
       "      <td>41127</td>\n",
       "    </tr>\n",
       "    <tr>\n",
       "      <th>2</th>\n",
       "      <td>2020</td>\n",
       "      <td>종로구</td>\n",
       "      <td>3102</td>\n",
       "      <td>3343</td>\n",
       "      <td>9</td>\n",
       "      <td>7</td>\n",
       "      <td>7</td>\n",
       "      <td>9</td>\n",
       "      <td>192</td>\n",
       "      <td>855</td>\n",
       "      <td>1183</td>\n",
       "      <td>944</td>\n",
       "      <td>1711</td>\n",
       "      <td>1528</td>\n",
       "    </tr>\n",
       "  </tbody>\n",
       "</table>\n",
       "</div>"
      ],
      "text/plain": [
       "     기간  자치구     합계   합계.1   살인 살인.1   강도 강도.1 강간강제추행 강간강제추행.1     절도   절도.1  \\\n",
       "0    기간  자치구     발생     검거   발생   검거   발생   검거     발생       검거     발생     검거   \n",
       "1  2020   합계  92679  66548  141  126  138  132   5763     5458  38293  19705   \n",
       "2  2020  종로구   3102   3343    9    7    7    9    192      855   1183    944   \n",
       "\n",
       "      폭력   폭력.1  \n",
       "0     발생     검거  \n",
       "1  48344  41127  \n",
       "2   1711   1528  "
      ]
     },
     "execution_count": 6,
     "metadata": {},
     "output_type": "execute_result"
    }
   ],
   "source": [
    "df.head(3)"
   ]
  },
  {
   "cell_type": "code",
   "execution_count": 8,
   "metadata": {},
   "outputs": [
    {
     "data": {
      "text/plain": [
       "기간           2020\n",
       "자치구            합계\n",
       "합계          92679\n",
       "합계.1        66548\n",
       "살인            141\n",
       "살인.1          126\n",
       "강도            138\n",
       "강도.1          132\n",
       "강간강제추행       5763\n",
       "강간강제추행.1     5458\n",
       "절도          38293\n",
       "절도.1        19705\n",
       "폭력          48344\n",
       "폭력.1        41127\n",
       "Name: 1, dtype: object"
      ]
     },
     "execution_count": 8,
     "metadata": {},
     "output_type": "execute_result"
    }
   ],
   "source": [
    "df.loc[1] #행을 꺼낸다.대괄호에 유의 인덱스 열에있는 행에 이름을 대괄호 안에"
   ]
  },
  {
   "cell_type": "code",
   "execution_count": null,
   "metadata": {},
   "outputs": [],
   "source": []
  }
 ],
 "metadata": {
  "kernelspec": {
   "display_name": "Python 3",
   "language": "python",
   "name": "python3"
  },
  "language_info": {
   "codemirror_mode": {
    "name": "ipython",
    "version": 3
   },
   "file_extension": ".py",
   "mimetype": "text/x-python",
   "name": "python",
   "nbconvert_exporter": "python",
   "pygments_lexer": "ipython3",
   "version": "3.7.4"
  }
 },
 "nbformat": 4,
 "nbformat_minor": 4
}
