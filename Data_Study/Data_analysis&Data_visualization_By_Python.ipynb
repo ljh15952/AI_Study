{
 "cells": [
  {
   "cell_type": "code",
   "execution_count": null,
   "metadata": {},
   "outputs": [],
   "source": [
    "공공데이터 포털\n",
    "서울시 범죄현황 통계자료 분석 및 시각화\n",
    "-서울에서 5대범죄가 가장 많이 일어나는 곳은?\n",
    "-서울에서 인구수 대비 5대범죄가 가장 많이 일어나는 곳은?\n",
    "-서울에서 5대범죄의 검거율이 제일 높은 곳은?"
   ]
  }
 ],
 "metadata": {
  "kernelspec": {
   "display_name": "Python 3",
   "language": "python",
   "name": "python3"
  },
  "language_info": {
   "codemirror_mode": {
    "name": "ipython",
    "version": 3
   },
   "file_extension": ".py",
   "mimetype": "text/x-python",
   "name": "python",
   "nbconvert_exporter": "python",
   "pygments_lexer": "ipython3",
   "version": "3.7.4"
  }
 },
 "nbformat": 4,
 "nbformat_minor": 4
}
