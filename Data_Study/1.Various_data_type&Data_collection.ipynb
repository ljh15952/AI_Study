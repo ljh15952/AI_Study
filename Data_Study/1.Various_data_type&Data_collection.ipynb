{
 "cells": [
  {
   "cell_type": "code",
   "execution_count": null,
   "metadata": {},
   "outputs": [],
   "source": [
    "파이썬 정형 데이터 분석 & 데이터 시각화"
   ]
  },
  {
   "cell_type": "code",
   "execution_count": null,
   "metadata": {},
   "outputs": [],
   "source": [
    "Data type\n",
    "-1 Structured Data(정형 데이터)\n",
    "    -Relational Database\n",
    "    -Spread sheets\n",
    "    -열과 행으로 나누어진 데이터\n",
    "-2 Semi-structured data(반정형 데이터)\n",
    "    -System logs\n",
    "    -Sensor data\n",
    "    -HTML\n",
    "-3 Unstructured data(비정형 데이터)\n",
    "    -Image / Video\n",
    "    -Sound\n",
    "    -Document\n",
    "머신러닝 데이터 종류마다 모델이 다르다.!\n",
    "비정형 데이터 결국엔 정형 데이터로 바꾼다.!"
   ]
  },
  {
   "cell_type": "code",
   "execution_count": null,
   "metadata": {},
   "outputs": [],
   "source": [
    "데이터 수집 방법\n",
    "Use API & Web scraper\n",
    "-APIs (Twitter, Facebook, Instagram , etc)\n",
    "-Bots(Web crawler web scra)\n",
    "\n",
    "공공 데이터 포털\n",
    "국가 통계 포털\n",
    "MDIS(MicroData Intergrated Service)"
   ]
  }
 ],
 "metadata": {
  "kernelspec": {
   "display_name": "Python 3",
   "language": "python",
   "name": "python3"
  },
  "language_info": {
   "codemirror_mode": {
    "name": "ipython",
    "version": 3
   },
   "file_extension": ".py",
   "mimetype": "text/x-python",
   "name": "python",
   "nbconvert_exporter": "python",
   "pygments_lexer": "ipython3",
   "version": "3.7.4"
  }
 },
 "nbformat": 4,
 "nbformat_minor": 4
}
