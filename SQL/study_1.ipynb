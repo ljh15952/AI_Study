{
 "cells": [
  {
   "cell_type": "markdown",
   "metadata": {},
   "source": [
    "DBMS (DataBase Management System)\n",
    "<br>\n",
    "-하드웨어에 저장된 데이터베이스를 관리해주는 소프트웨어\n",
    "<br>\n",
    "-H(ierachical) DBMS인 IMS가 1960년대 최초 출시 후, 계층형/네트워크형/관계형/객체형 등으로 발전\n",
    "<br>\n",
    "-현재는 관계형 데이터베이스를 다루는 R(ealational) DBMS 주로 사용\n",
    "-> ex) Oracle, MySQL. SQLite, MS SQL, PostgreSQL등"
   ]
  },
  {
   "cell_type": "markdown",
   "metadata": {},
   "source": []
  }
 ],
 "metadata": {
  "kernelspec": {
   "display_name": "Python 3.7.7 64-bit",
   "language": "python",
   "name": "python3"
  },
  "language_info": {
   "name": "python",
   "version": "3.7.7"
  },
  "orig_nbformat": 4,
  "vscode": {
   "interpreter": {
    "hash": "7a5f3ff7d4704552eb2caa29f2a36719b55c3eff8134ba0e462e2e872350caac"
   }
  }
 },
 "nbformat": 4,
 "nbformat_minor": 2
}
