{
 "cells": [
  {
   "cell_type": "markdown",
   "metadata": {},
   "source": [
    "DBMS (DataBase Management System)\n",
    "<br>\n",
    "-하드웨어에 저장된 데이터베이스를 관리해주는 소프트웨어\n",
    "<br>\n",
    "-H(ierachical) DBMS인 IMS가 1960년대 최초 출시 후, 계층형/네트워크형/관계형/객체형 등으로 발전\n",
    "<br>\n",
    "-현재는 관계형 데이터베이스를 다루는 R(ealational) DBMS 주로 사용\n",
    "-> ex) Oracle, MySQL. SQLite, MS SQL, PostgreSQL등"
   ]
  },
  {
   "cell_type": "markdown",
   "metadata": {},
   "source": [
    "데이터 모델링 3단계\n",
    "<br>\n",
    "현실 세계\n",
    "<br>\n",
    "1. 개념적 데이터 모델링\n",
    "<br>\n",
    "E-R 다이어그램(개념 스키마)\n",
    "<br>\n",
    "2. 논리적 데이터 모델링\n",
    "<br>\n",
    "Relation 모델(논리적 스키마)\n",
    "<br>\n",
    "3. 물리적 데이터 모델링\n",
    "<br>\n",
    "물리적인 SQL 코드 (데이터베이스 스키마)"
   ]
  },
  {
   "cell_type": "markdown",
   "metadata": {},
   "source": [
    "SQL (Structured Query Language) 구조적 질의 언어\n",
    "<br>\n",
    "관계형 데이터베이스 시스템(RDBMS)에서 데이터를 관리 & 처리하기 위해 만들어진 언어\n",
    "<br>\n",
    "SQL의 표준으로 ANSI SQL이 정립\n",
    "<br>\n",
    "여러 DBMS 프로그램에서 ANSI SQL을 기반으로 개발된 자체적인 SQL을 사용하여 서로 다소간의 차이를 가짐"
   ]
  },
  {
   "cell_type": "markdown",
   "metadata": {},
   "source": [
    "DDL (Data Definition Language) 데이터 정의 언어\n",
    "<br>\n",
    "각 릴레이션(데이터베이스 테이블)을 정의하기 위해 사용하는 언어\n",
    "<br>\n",
    "CREATE(테이블 생성), ALTER(테이블 변경), DROP(테이블 삭제) 등"
   ]
  },
  {
   "cell_type": "markdown",
   "metadata": {},
   "source": [
    "DML (Data Manipulation Language) 데이터 조작 언어\n",
    "<br>\n",
    "데이터 관리(CRUD)를 위한 언어\n",
    "<br>\n",
    "SELECT(Read), INSERT(Create), UPDATE(Update), DELETE(Delete)"
   ]
  },
  {
   "cell_type": "markdown",
   "metadata": {},
   "source": [
    "DCL (Data Control Language) 데이터 제어 언어\n",
    "<br>\n",
    "사용자 관리, 사용자별 권한(릴레이션 및 데이터에 대환 관리/접근)을 다루기 위한 언어\n",
    "<br>\n",
    "GRANT(권한 부여), REVOKE(권한 해제)"
   ]
  },
  {
   "cell_type": "markdown",
   "metadata": {},
   "source": [
    "키워드들의 순서를 익히기 (위에서 아래로 중요*(*!!!))\n",
    "<br>\n",
    "SELECT ~~~ FROM ~~~\n",
    "<br>\n",
    "INNER JOIN ~~ ON ~.~ = ~.~\n",
    "<br>\n",
    "WHERE ~~~\n",
    "<br>\n",
    "GROUP BY ~~~ HAVING ~~~\n",
    "<br>\n",
    "ORDER BY ~~~\n",
    "<br>\n",
    "LIMIT ~ OFFSET ~"
   ]
  },
  {
   "cell_type": "markdown",
   "metadata": {},
   "source": []
  }
 ],
 "metadata": {
  "kernelspec": {
   "display_name": "Python 3.7.7 64-bit",
   "language": "python",
   "name": "python3"
  },
  "language_info": {
   "name": "python",
   "version": "3.7.7"
  },
  "orig_nbformat": 4,
  "vscode": {
   "interpreter": {
    "hash": "7a5f3ff7d4704552eb2caa29f2a36719b55c3eff8134ba0e462e2e872350caac"
   }
  }
 },
 "nbformat": 4,
 "nbformat_minor": 2
}
