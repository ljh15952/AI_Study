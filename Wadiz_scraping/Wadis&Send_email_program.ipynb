{
 "cells": [
  {
   "cell_type": "code",
   "execution_count": 1,
   "metadata": {},
   "outputs": [],
   "source": [
    "# 1. 구글 보안 들어가서 앱 비밀번호 설정\n",
    "# 2."
   ]
  },
  {
   "cell_type": "code",
   "execution_count": 2,
   "metadata": {},
   "outputs": [],
   "source": [
    "import time\n",
    "\n",
    "from urllib.request import urlopen\n",
    "from bs4 import BeautifulSoup"
   ]
  },
  {
   "cell_type": "code",
   "execution_count": 3,
   "metadata": {},
   "outputs": [],
   "source": [
    "import smtplib # SMTP + Library\n",
    "from email.mime.text import MIMEText\n",
    "\n",
    "def sendMail(sender, receiver, msg):\n",
    "    smtp = smtplib.SMTP_SSL('smtp.gmail.com', 465)\n",
    "    smtp.login(sender, 'sytvfupedruefdyd')\n",
    "    \n",
    "    msg = MIMEText(msg)\n",
    "    msg['Subject'] = \"Product is available!\"\n",
    "    \n",
    "    smtp.sendmail(sender, receiver, msg.as_string())\n",
    "    smtp.quit()"
   ]
  },
  {
   "cell_type": "code",
   "execution_count": 4,
   "metadata": {},
   "outputs": [],
   "source": [
    "# 와디즈 URL\n",
    "url = 'https://www.wadiz.kr/web/campaign/detail/159185'"
   ]
  },
  {
   "cell_type": "code",
   "execution_count": 5,
   "metadata": {},
   "outputs": [],
   "source": [
    "webpage = urlopen(url)\n",
    "source = BeautifulSoup(webpage, 'html.parser')\n",
    "\n",
    "target = source.find_all('button', {'class':'rightinfo-reward-list'})"
   ]
  },
  {
   "cell_type": "code",
   "execution_count": 7,
   "metadata": {},
   "outputs": [
    {
     "data": {
      "text/plain": [
       "32"
      ]
     },
     "execution_count": 7,
     "metadata": {},
     "output_type": "execute_result"
    }
   ],
   "source": [
    "len(target)"
   ]
  },
  {
   "cell_type": "code",
   "execution_count": 20,
   "metadata": {},
   "outputs": [
    {
     "name": "stdout",
     "output_type": "stream",
     "text": [
      "<button class=\"rightinfo-reward-list soldout ing\" onclick=\"backMoney('374544', 'true')\">\n",
      "<div class=\"top-info\">\n",
      "<dl class=\"reward-info\">\n",
      "<dt>\n",
      "                        59,500원 펀딩\n",
      "                      </dt>\n",
      "<dd>\n",
      "<p class=\"reward-name\">7. [슈퍼 얼리버드]  모슈 라떼 스트로우 텀블러 350ml x1 , 480 x1</p>\n",
      "<p>화이트 | 아이보리 | 핑크 | 스카이 | 옐로우 | 레드 | 블랙 중 택 2<br/></p>\n",
      "</dd>\n",
      "</dl>\n",
      "<ul class=\"data-info\">\n",
      "<!-- 배송이 필요한 리워드(배송비 노출) -->\n",
      "<li class=\"shipping\" style=\"width: 100%; margin-bottom: 5px;\">\n",
      "                          배송비\n",
      "                          \n",
      "                            \n",
      "                            \n",
      "                              \n",
      "                                \n",
      "                                \n",
      "                                  <em>3,000원</em>\n",
      "</li>\n",
      "<li class=\"date\" style=\"width: 100%;\">리워드 발송 시작일\n",
      "                      \n",
      "                      \n",
      "                        <em>2022년 11월 초 (1~10일) 예정</em>\n",
      "</li>\n",
      "</ul>\n",
      "<p class=\"reward-qty soldout\"><em>제한수량이 모두 펀딩되었습니다.</em></p>\n",
      "<p class=\"reward-soldcount\">총 <strong>28</strong>개 펀딩완료</p>\n",
      "</div>\n",
      "<p class=\"hover-text soldout\">제한수량이<br>모두 펀딩되었습니다.</br></p>\n",
      "</button>\n",
      "<button class=\"rightinfo-reward-list soldout ing\" onclick=\"backMoney('374551', 'true')\">\n",
      "<div class=\"top-info\">\n",
      "<dl class=\"reward-info\">\n",
      "<dt>\n",
      "                        67,200원 펀딩\n",
      "                      </dt>\n",
      "<dd>\n",
      "<p class=\"reward-name\">9. [슈퍼 얼리버드]  모슈 라떼 스트로우 텀블러 480ml x1, 700ml x1</p>\n",
      "<p>화이트 | 아이보리 | 핑크 | 스카이 | 옐로우 | 레드 | 블랙 중 택 2<br/></p>\n",
      "</dd>\n",
      "</dl>\n",
      "<ul class=\"data-info\">\n",
      "<!-- 배송이 필요한 리워드(배송비 노출) -->\n",
      "<li class=\"shipping\" style=\"width: 100%; margin-bottom: 5px;\">\n",
      "                          배송비\n",
      "                          \n",
      "                            \n",
      "                            \n",
      "                              \n",
      "                                \n",
      "                                \n",
      "                                  <em>3,000원</em>\n",
      "</li>\n",
      "<li class=\"date\" style=\"width: 100%;\">리워드 발송 시작일\n",
      "                      \n",
      "                      \n",
      "                        <em>2022년 11월 초 (1~10일) 예정</em>\n",
      "</li>\n",
      "</ul>\n",
      "<p class=\"reward-qty soldout\"><em>제한수량이 모두 펀딩되었습니다.</em></p>\n",
      "<p class=\"reward-soldcount\">총 <strong>115</strong>개 펀딩완료</p>\n",
      "</div>\n",
      "<p class=\"hover-text soldout\">제한수량이<br>모두 펀딩되었습니다.</br></p>\n",
      "</button>\n"
     ]
    }
   ],
   "source": [
    "for button in target:\n",
    "    price = button.find('dt').get_text().strip()\n",
    "    #if price.startswith('29,500'):\n",
    "    if 'soldout' in button.attrs['class']:\n",
    "        print(button)\n",
    "       # print(button.attrs['class'])"
   ]
  },
  {
   "cell_type": "code",
   "execution_count": 24,
   "metadata": {},
   "outputs": [],
   "source": [
    "check_status = 1\n",
    "\n",
    "while check_status:\n",
    "    webpage = urlopen(url)\n",
    "    source = BeautifulSoup(webpage,'html.parser')\n",
    "    target = source.find_all('button',{'class':'rightinfo-reward-list'})\n",
    "    \n",
    "    for item in target:\n",
    "        if item.find('dt').get_text().strip() == '67,200원 펀딩':\n",
    "             if 'soldout' not in item.attrs['class']:\n",
    "                    sendMail('ljh15952@gmail.com','ljh15952@gmail.com','67200 is available')\n",
    "                    check_status = 0\n",
    "                     \n",
    "    time.sleep(10)"
   ]
  },
  {
   "cell_type": "code",
   "execution_count": null,
   "metadata": {},
   "outputs": [],
   "source": []
  }
 ],
 "metadata": {
  "kernelspec": {
   "display_name": "Python 3",
   "language": "python",
   "name": "python3"
  },
  "language_info": {
   "codemirror_mode": {
    "name": "ipython",
    "version": 3
   },
   "file_extension": ".py",
   "mimetype": "text/x-python",
   "name": "python",
   "nbconvert_exporter": "python",
   "pygments_lexer": "ipython3",
   "version": "3.7.4"
  }
 },
 "nbformat": 4,
 "nbformat_minor": 4
}
