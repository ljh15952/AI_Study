{
 "cells": [
  {
   "cell_type": "code",
   "execution_count": 1,
   "metadata": {},
   "outputs": [],
   "source": [
    "# 1. 구글 보안 들어가서 앱 비밀번호 설정\n",
    "# 2."
   ]
  },
  {
   "cell_type": "code",
   "execution_count": 2,
   "metadata": {},
   "outputs": [],
   "source": [
    "import time\n",
    "\n",
    "from urllib.request import urlopen\n",
    "from bs4 import BeautifulSoup"
   ]
  },
  {
   "cell_type": "code",
   "execution_count": 3,
   "metadata": {},
   "outputs": [],
   "source": [
    "import smtplib # SMTP + Library\n",
    "from email.mime.text import MIMEText\n",
    "\n",
    "def sendMail(sender, receiver, msg):\n",
    "    smtp = smtplib.SMTP_SSL('smtp.gmail.com', 465)\n",
    "    smtp.login(sender, 'sytvfupedruefdyd')\n",
    "    \n",
    "    msg = MIMEText(msg)\n",
    "    msg['Subject'] = \"Product is available!\"\n",
    "    \n",
    "    smtp.sendmail(sender, receiver, msg.as_string())\n",
    "    smtp.quit()"
   ]
  },
  {
   "cell_type": "code",
   "execution_count": 4,
   "metadata": {},
   "outputs": [],
   "source": [
    "# 와디즈 URL\n",
    "url = 'https://www.wadiz.kr/web/campaign/detail/159185'"
   ]
  },
  {
   "cell_type": "code",
   "execution_count": 5,
   "metadata": {},
   "outputs": [],
   "source": [
    "webpage = urlopen(url)\n",
    "source = BeautifulSoup(webpage, 'html.parser')\n",
    "\n",
    "target = source.find_all('button', {'class':'rightinfo-reward-list'})"
   ]
  },
  {
   "cell_type": "code",
   "execution_count": 6,
   "metadata": {},
   "outputs": [
    {
     "data": {
      "text/plain": [
       "32"
      ]
     },
     "execution_count": 6,
     "metadata": {},
     "output_type": "execute_result"
    }
   ],
   "source": [
    "len(target)"
   ]
  },
  {
   "cell_type": "code",
   "execution_count": 7,
   "metadata": {},
   "outputs": [
    {
     "name": "stdout",
     "output_type": "stream",
     "text": [
      "<button class=\"rightinfo-reward-list soldout\">\n",
      "<div class=\"top-info\">\n",
      "<dl class=\"reward-info\">\n",
      "<dt>\n",
      "                        59,500원 펀딩\n",
      "                      </dt>\n",
      "<dd>\n",
      "<p class=\"reward-name\">7. [슈퍼 얼리버드]  모슈 라떼 스트로우 텀블러 350ml x1 , 480 x1</p>\n",
      "<p>화이트 | 아이보리 | 핑크 | 스카이 | 옐로우 | 레드 | 블랙 중 택 2<br/></p>\n",
      "</dd>\n",
      "</dl>\n",
      "<ul class=\"data-info\">\n",
      "<!-- 배송이 필요한 리워드(배송비 노출) -->\n",
      "<li class=\"shipping\" style=\"width: 100%; margin-bottom: 5px;\">\n",
      "                          배송비\n",
      "                          \n",
      "                            \n",
      "                            \n",
      "                              \n",
      "                                \n",
      "                                \n",
      "                                  <em>3,000원</em>\n",
      "</li>\n",
      "<li class=\"date\" style=\"width: 100%;\">리워드 발송 시작일\n",
      "                      \n",
      "                      \n",
      "                        <em>2022년 11월 초 (1~10일) 예정</em>\n",
      "</li>\n",
      "</ul>\n",
      "<p class=\"reward-qty soldout\"><em>제한수량이 모두 펀딩되었습니다.</em></p>\n",
      "<p class=\"reward-soldcount\">총 <strong>28</strong>개 펀딩완료</p>\n",
      "</div>\n",
      "<p class=\"hover-text soldout\">제한수량이<br>모두 펀딩되었습니다.</br></p>\n",
      "</button>\n",
      "<button class=\"rightinfo-reward-list soldout\">\n",
      "<div class=\"top-info\">\n",
      "<dl class=\"reward-info\">\n",
      "<dt>\n",
      "                        67,200원 펀딩\n",
      "                      </dt>\n",
      "<dd>\n",
      "<p class=\"reward-name\">9. [슈퍼 얼리버드]  모슈 라떼 스트로우 텀블러 480ml x1, 700ml x1</p>\n",
      "<p>화이트 | 아이보리 | 핑크 | 스카이 | 옐로우 | 레드 | 블랙 중 택 2<br/></p>\n",
      "</dd>\n",
      "</dl>\n",
      "<ul class=\"data-info\">\n",
      "<!-- 배송이 필요한 리워드(배송비 노출) -->\n",
      "<li class=\"shipping\" style=\"width: 100%; margin-bottom: 5px;\">\n",
      "                          배송비\n",
      "                          \n",
      "                            \n",
      "                            \n",
      "                              \n",
      "                                \n",
      "                                \n",
      "                                  <em>3,000원</em>\n",
      "</li>\n",
      "<li class=\"date\" style=\"width: 100%;\">리워드 발송 시작일\n",
      "                      \n",
      "                      \n",
      "                        <em>2022년 11월 초 (1~10일) 예정</em>\n",
      "</li>\n",
      "</ul>\n",
      "<p class=\"reward-qty soldout\"><em>제한수량이 모두 펀딩되었습니다.</em></p>\n",
      "<p class=\"reward-soldcount\">총 <strong>104</strong>개 펀딩완료</p>\n",
      "</div>\n",
      "<p class=\"hover-text soldout\">제한수량이<br>모두 펀딩되었습니다.</br></p>\n",
      "</button>\n"
     ]
    }
   ],
   "source": [
    "for button in target:\n",
    "    price = button.find('dt').get_text().strip()\n",
    "    #if price.startswith('29,500'):\n",
    "    if 'soldout' in button.attrs['class']:\n",
    "        print(button)\n",
    "       # print(button.attrs['class'])"
   ]
  },
  {
   "cell_type": "code",
   "execution_count": 11,
   "metadata": {},
   "outputs": [
    {
     "ename": "SMTPAuthenticationError",
     "evalue": "(535, b'5.7.8 Username and Password not accepted. Learn more at\\n5.7.8  https://support.google.com/mail/?p=BadCredentials s9-20020a17090a760900b0020d67a726easm3857651pjk.10 - gsmtp')",
     "output_type": "error",
     "traceback": [
      "\u001b[1;31m---------------------------------------------------------------------------\u001b[0m",
      "\u001b[1;31mSMTPAuthenticationError\u001b[0m                   Traceback (most recent call last)",
      "\u001b[1;32m~\\AppData\\Local\\Temp\\ipykernel_25128\\1595514468.py\u001b[0m in \u001b[0;36m<module>\u001b[1;34m\u001b[0m\n\u001b[0;32m      9\u001b[0m         \u001b[1;32mif\u001b[0m \u001b[0mitem\u001b[0m\u001b[1;33m.\u001b[0m\u001b[0mfind\u001b[0m\u001b[1;33m(\u001b[0m\u001b[1;34m'dt'\u001b[0m\u001b[1;33m)\u001b[0m\u001b[1;33m.\u001b[0m\u001b[0mget_text\u001b[0m\u001b[1;33m(\u001b[0m\u001b[1;33m)\u001b[0m\u001b[1;33m.\u001b[0m\u001b[0mstrip\u001b[0m\u001b[1;33m(\u001b[0m\u001b[1;33m)\u001b[0m \u001b[1;33m==\u001b[0m \u001b[1;34m'67,200원 펀딩'\u001b[0m\u001b[1;33m:\u001b[0m\u001b[1;33m\u001b[0m\u001b[1;33m\u001b[0m\u001b[0m\n\u001b[0;32m     10\u001b[0m              \u001b[1;32mif\u001b[0m \u001b[1;34m'soldout'\u001b[0m \u001b[1;32mnot\u001b[0m \u001b[1;32min\u001b[0m \u001b[0mitem\u001b[0m\u001b[1;33m.\u001b[0m\u001b[0mattrs\u001b[0m\u001b[1;33m[\u001b[0m\u001b[1;34m'class'\u001b[0m\u001b[1;33m]\u001b[0m\u001b[1;33m:\u001b[0m\u001b[1;33m\u001b[0m\u001b[1;33m\u001b[0m\u001b[0m\n\u001b[1;32m---> 11\u001b[1;33m                     \u001b[0msendMail\u001b[0m\u001b[1;33m(\u001b[0m\u001b[1;34m'ljh15952@gmail.com'\u001b[0m\u001b[1;33m,\u001b[0m\u001b[1;34m'ljh15952@gmail.com'\u001b[0m\u001b[1;33m,\u001b[0m\u001b[1;34m'67200 is available'\u001b[0m\u001b[1;33m)\u001b[0m\u001b[1;33m\u001b[0m\u001b[1;33m\u001b[0m\u001b[0m\n\u001b[0m\u001b[0;32m     12\u001b[0m                     \u001b[0mcheck_status\u001b[0m \u001b[1;33m=\u001b[0m \u001b[1;36m0\u001b[0m\u001b[1;33m\u001b[0m\u001b[1;33m\u001b[0m\u001b[0m\n\u001b[0;32m     13\u001b[0m \u001b[1;33m\u001b[0m\u001b[0m\n",
      "\u001b[1;32m~\\AppData\\Local\\Temp\\ipykernel_25128\\3516807673.py\u001b[0m in \u001b[0;36msendMail\u001b[1;34m(sender, receiver, msg)\u001b[0m\n\u001b[0;32m      4\u001b[0m \u001b[1;32mdef\u001b[0m \u001b[0msendMail\u001b[0m\u001b[1;33m(\u001b[0m\u001b[0msender\u001b[0m\u001b[1;33m,\u001b[0m \u001b[0mreceiver\u001b[0m\u001b[1;33m,\u001b[0m \u001b[0mmsg\u001b[0m\u001b[1;33m)\u001b[0m\u001b[1;33m:\u001b[0m\u001b[1;33m\u001b[0m\u001b[1;33m\u001b[0m\u001b[0m\n\u001b[0;32m      5\u001b[0m     \u001b[0msmtp\u001b[0m \u001b[1;33m=\u001b[0m \u001b[0msmtplib\u001b[0m\u001b[1;33m.\u001b[0m\u001b[0mSMTP_SSL\u001b[0m\u001b[1;33m(\u001b[0m\u001b[1;34m'smtp.gmail.com'\u001b[0m\u001b[1;33m,\u001b[0m \u001b[1;36m465\u001b[0m\u001b[1;33m)\u001b[0m\u001b[1;33m\u001b[0m\u001b[1;33m\u001b[0m\u001b[0m\n\u001b[1;32m----> 6\u001b[1;33m     \u001b[0msmtp\u001b[0m\u001b[1;33m.\u001b[0m\u001b[0mlogin\u001b[0m\u001b[1;33m(\u001b[0m\u001b[0msender\u001b[0m\u001b[1;33m,\u001b[0m \u001b[1;34m'sytvfupedruefdyd'\u001b[0m\u001b[1;33m)\u001b[0m\u001b[1;33m\u001b[0m\u001b[1;33m\u001b[0m\u001b[0m\n\u001b[0m\u001b[0;32m      7\u001b[0m \u001b[1;33m\u001b[0m\u001b[0m\n\u001b[0;32m      8\u001b[0m     \u001b[0mmsg\u001b[0m \u001b[1;33m=\u001b[0m \u001b[0mMIMEText\u001b[0m\u001b[1;33m(\u001b[0m\u001b[0mmsg\u001b[0m\u001b[1;33m)\u001b[0m\u001b[1;33m\u001b[0m\u001b[1;33m\u001b[0m\u001b[0m\n",
      "\u001b[1;32mc:\\Users\\ljh15\\AppData\\Local\\Programs\\Python\\Python37\\lib\\smtplib.py\u001b[0m in \u001b[0;36mlogin\u001b[1;34m(self, user, password, initial_response_ok)\u001b[0m\n\u001b[0;32m    728\u001b[0m \u001b[1;33m\u001b[0m\u001b[0m\n\u001b[0;32m    729\u001b[0m         \u001b[1;31m# We could not login successfully.  Return result of last attempt.\u001b[0m\u001b[1;33m\u001b[0m\u001b[1;33m\u001b[0m\u001b[1;33m\u001b[0m\u001b[0m\n\u001b[1;32m--> 730\u001b[1;33m         \u001b[1;32mraise\u001b[0m \u001b[0mlast_exception\u001b[0m\u001b[1;33m\u001b[0m\u001b[1;33m\u001b[0m\u001b[0m\n\u001b[0m\u001b[0;32m    731\u001b[0m \u001b[1;33m\u001b[0m\u001b[0m\n\u001b[0;32m    732\u001b[0m     \u001b[1;32mdef\u001b[0m \u001b[0mstarttls\u001b[0m\u001b[1;33m(\u001b[0m\u001b[0mself\u001b[0m\u001b[1;33m,\u001b[0m \u001b[0mkeyfile\u001b[0m\u001b[1;33m=\u001b[0m\u001b[1;32mNone\u001b[0m\u001b[1;33m,\u001b[0m \u001b[0mcertfile\u001b[0m\u001b[1;33m=\u001b[0m\u001b[1;32mNone\u001b[0m\u001b[1;33m,\u001b[0m \u001b[0mcontext\u001b[0m\u001b[1;33m=\u001b[0m\u001b[1;32mNone\u001b[0m\u001b[1;33m)\u001b[0m\u001b[1;33m:\u001b[0m\u001b[1;33m\u001b[0m\u001b[1;33m\u001b[0m\u001b[0m\n",
      "\u001b[1;32mc:\\Users\\ljh15\\AppData\\Local\\Programs\\Python\\Python37\\lib\\smtplib.py\u001b[0m in \u001b[0;36mlogin\u001b[1;34m(self, user, password, initial_response_ok)\u001b[0m\n\u001b[0;32m    719\u001b[0m                 (code, resp) = self.auth(\n\u001b[0;32m    720\u001b[0m                     \u001b[0mauthmethod\u001b[0m\u001b[1;33m,\u001b[0m \u001b[0mgetattr\u001b[0m\u001b[1;33m(\u001b[0m\u001b[0mself\u001b[0m\u001b[1;33m,\u001b[0m \u001b[0mmethod_name\u001b[0m\u001b[1;33m)\u001b[0m\u001b[1;33m,\u001b[0m\u001b[1;33m\u001b[0m\u001b[1;33m\u001b[0m\u001b[0m\n\u001b[1;32m--> 721\u001b[1;33m                     initial_response_ok=initial_response_ok)\n\u001b[0m\u001b[0;32m    722\u001b[0m                 \u001b[1;31m# 235 == 'Authentication successful'\u001b[0m\u001b[1;33m\u001b[0m\u001b[1;33m\u001b[0m\u001b[1;33m\u001b[0m\u001b[0m\n\u001b[0;32m    723\u001b[0m                 \u001b[1;31m# 503 == 'Error: already authenticated'\u001b[0m\u001b[1;33m\u001b[0m\u001b[1;33m\u001b[0m\u001b[1;33m\u001b[0m\u001b[0m\n",
      "\u001b[1;32mc:\\Users\\ljh15\\AppData\\Local\\Programs\\Python\\Python37\\lib\\smtplib.py\u001b[0m in \u001b[0;36mauth\u001b[1;34m(self, mechanism, authobject, initial_response_ok)\u001b[0m\n\u001b[0;32m    640\u001b[0m         \u001b[1;32mif\u001b[0m \u001b[0mcode\u001b[0m \u001b[1;32min\u001b[0m \u001b[1;33m(\u001b[0m\u001b[1;36m235\u001b[0m\u001b[1;33m,\u001b[0m \u001b[1;36m503\u001b[0m\u001b[1;33m)\u001b[0m\u001b[1;33m:\u001b[0m\u001b[1;33m\u001b[0m\u001b[1;33m\u001b[0m\u001b[0m\n\u001b[0;32m    641\u001b[0m             \u001b[1;32mreturn\u001b[0m \u001b[1;33m(\u001b[0m\u001b[0mcode\u001b[0m\u001b[1;33m,\u001b[0m \u001b[0mresp\u001b[0m\u001b[1;33m)\u001b[0m\u001b[1;33m\u001b[0m\u001b[1;33m\u001b[0m\u001b[0m\n\u001b[1;32m--> 642\u001b[1;33m         \u001b[1;32mraise\u001b[0m \u001b[0mSMTPAuthenticationError\u001b[0m\u001b[1;33m(\u001b[0m\u001b[0mcode\u001b[0m\u001b[1;33m,\u001b[0m \u001b[0mresp\u001b[0m\u001b[1;33m)\u001b[0m\u001b[1;33m\u001b[0m\u001b[1;33m\u001b[0m\u001b[0m\n\u001b[0m\u001b[0;32m    643\u001b[0m \u001b[1;33m\u001b[0m\u001b[0m\n\u001b[0;32m    644\u001b[0m     \u001b[1;32mdef\u001b[0m \u001b[0mauth_cram_md5\u001b[0m\u001b[1;33m(\u001b[0m\u001b[0mself\u001b[0m\u001b[1;33m,\u001b[0m \u001b[0mchallenge\u001b[0m\u001b[1;33m=\u001b[0m\u001b[1;32mNone\u001b[0m\u001b[1;33m)\u001b[0m\u001b[1;33m:\u001b[0m\u001b[1;33m\u001b[0m\u001b[1;33m\u001b[0m\u001b[0m\n",
      "\u001b[1;31mSMTPAuthenticationError\u001b[0m: (535, b'5.7.8 Username and Password not accepted. Learn more at\\n5.7.8  https://support.google.com/mail/?p=BadCredentials s9-20020a17090a760900b0020d67a726easm3857651pjk.10 - gsmtp')"
     ]
    }
   ],
   "source": [
    "check_status = 1\n",
    "\n",
    "while check_status:\n",
    "    webpage = urlopen(url)\n",
    "    source = BeautifulSoup(webpage,'html.parser')\n",
    "    target = source.find_all('button',{'class':'rightinfo-reward-list'})\n",
    "    \n",
    "    for item in target:\n",
    "        if item.find('dt').get_text().strip() == '67,200원 펀딩':\n",
    "             if 'soldout' not in item.attrs['class']:\n",
    "                    sendMail('ljh15952@gmail.com','ljh15952@gmail.com','67200 is available')\n",
    "                    check_status = 0\n",
    "                     \n",
    "    time.sleep(10)"
   ]
  },
  {
   "cell_type": "code",
   "execution_count": null,
   "metadata": {},
   "outputs": [],
   "source": []
  }
 ],
 "metadata": {
  "kernelspec": {
   "display_name": "Python 3.7.7 64-bit",
   "language": "python",
   "name": "python3"
  },
  "language_info": {
   "codemirror_mode": {
    "name": "ipython",
    "version": 3
   },
   "file_extension": ".py",
   "mimetype": "text/x-python",
   "name": "python",
   "nbconvert_exporter": "python",
   "pygments_lexer": "ipython3",
   "version": "3.7.7"
  },
  "vscode": {
   "interpreter": {
    "hash": "7a5f3ff7d4704552eb2caa29f2a36719b55c3eff8134ba0e462e2e872350caac"
   }
  }
 },
 "nbformat": 4,
 "nbformat_minor": 4
}
